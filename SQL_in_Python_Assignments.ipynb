{
 "cells": [
  {
   "cell_type": "code",
   "execution_count": 9,
   "metadata": {},
   "outputs": [],
   "source": [
    "from sqlalchemy import create_engine\n",
    "\n",
    "\n",
    "postgres_user = 'dsbc_student'\n",
    "postgres_pw = '7*.8G9QH21'\n",
    "postgres_host = '142.93.121.174'\n",
    "postgres_port = '5432'\n",
    "postgres_db = 'tmdb_5000'\n",
    "\n",
    "engine = create_engine('postgresql://{}:{}@{}:{}/{}'.format(\n",
    "    postgres_user, postgres_pw, postgres_host, postgres_port, postgres_db))"
   ]
  },
  {
   "cell_type": "markdown",
   "metadata": {},
   "source": [
    "1. How many movies are released for each rating?"
   ]
  },
  {
   "cell_type": "code",
   "execution_count": 6,
   "metadata": {},
   "outputs": [
    {
     "name": "stdout",
     "output_type": "stream",
     "text": [
      "Rate 0.0: 63 movie(s)\n",
      "Rate 0.5: 1 movie(s)\n",
      "Rate 1.0: 2 movie(s)\n",
      "Rate 1.9: 1 movie(s)\n",
      "Rate 2.0: 6 movie(s)\n",
      "Rate 2.2: 1 movie(s)\n",
      "Rate 2.3: 2 movie(s)\n",
      "Rate 2.4: 1 movie(s)\n",
      "Rate 2.6: 1 movie(s)\n",
      "Rate 2.7: 1 movie(s)\n",
      "Rate 2.8: 4 movie(s)\n",
      "Rate 2.9: 5 movie(s)\n",
      "Rate 3.0: 13 movie(s)\n",
      "Rate 3.1: 4 movie(s)\n",
      "Rate 3.2: 7 movie(s)\n",
      "Rate 3.3: 9 movie(s)\n",
      "Rate 3.4: 4 movie(s)\n",
      "Rate 3.5: 12 movie(s)\n",
      "Rate 3.6: 4 movie(s)\n",
      "Rate 3.7: 9 movie(s)\n",
      "Rate 3.8: 10 movie(s)\n",
      "Rate 3.9: 12 movie(s)\n",
      "Rate 4.0: 13 movie(s)\n",
      "Rate 4.1: 25 movie(s)\n",
      "Rate 4.2: 21 movie(s)\n",
      "Rate 4.3: 28 movie(s)\n",
      "Rate 4.4: 29 movie(s)\n",
      "Rate 4.5: 32 movie(s)\n",
      "Rate 4.6: 38 movie(s)\n",
      "Rate 4.7: 51 movie(s)\n",
      "Rate 4.8: 56 movie(s)\n",
      "Rate 4.9: 63 movie(s)\n",
      "Rate 5.0: 86 movie(s)\n",
      "Rate 5.1: 60 movie(s)\n",
      "Rate 5.2: 93 movie(s)\n",
      "Rate 5.3: 105 movie(s)\n",
      "Rate 5.4: 127 movie(s)\n",
      "Rate 5.5: 152 movie(s)\n",
      "Rate 5.6: 144 movie(s)\n",
      "Rate 5.7: 153 movie(s)\n",
      "Rate 5.8: 187 movie(s)\n",
      "Rate 5.9: 196 movie(s)\n",
      "Rate 6.0: 216 movie(s)\n",
      "Rate 6.1: 201 movie(s)\n",
      "Rate 6.2: 200 movie(s)\n",
      "Rate 6.3: 207 movie(s)\n",
      "Rate 6.4: 201 movie(s)\n",
      "Rate 6.5: 216 movie(s)\n",
      "Rate 6.6: 198 movie(s)\n",
      "Rate 6.7: 213 movie(s)\n",
      "Rate 6.8: 172 movie(s)\n",
      "Rate 6.9: 160 movie(s)\n",
      "Rate 7.0: 179 movie(s)\n",
      "Rate 7.1: 119 movie(s)\n",
      "Rate 7.2: 119 movie(s)\n",
      "Rate 7.3: 125 movie(s)\n",
      "Rate 7.4: 109 movie(s)\n",
      "Rate 7.5: 66 movie(s)\n",
      "Rate 7.6: 62 movie(s)\n",
      "Rate 7.7: 56 movie(s)\n",
      "Rate 7.8: 36 movie(s)\n",
      "Rate 7.9: 32 movie(s)\n",
      "Rate 8.0: 35 movie(s)\n",
      "Rate 8.1: 18 movie(s)\n",
      "Rate 8.2: 15 movie(s)\n",
      "Rate 8.3: 7 movie(s)\n",
      "Rate 8.4: 2 movie(s)\n",
      "Rate 8.5: 2 movie(s)\n",
      "Rate 9.3: 1 movie(s)\n",
      "Rate 9.5: 1 movie(s)\n",
      "Rate 10.0: 4 movie(s)\n"
     ]
    }
   ],
   "source": [
    "sql = '''\n",
    "SELECT vote_average, COUNT(movie_id)\n",
    "FROM movies\n",
    "GROUP BY vote_average\n",
    "ORDER BY vote_average;\n",
    "'''\n",
    "\n",
    "results = engine.execute(sql)\n",
    "engine.dispose()\n",
    "rows = results.fetchall()\n",
    "\n",
    "for row in rows:\n",
    "  print('Rate {}'.format(row[0]) + ': {}'.format(row[1]) +' movie(s)')"
   ]
  },
  {
   "cell_type": "markdown",
   "metadata": {},
   "source": [
    "2. What is the average rental duration for each rating?"
   ]
  },
  {
   "cell_type": "code",
   "execution_count": 7,
   "metadata": {},
   "outputs": [
    {
     "name": "stdout",
     "output_type": "stream",
     "text": [
      "Rate 0.0: 75.9516129032258065 Average Rental Duration\n",
      "Rate 0.5: 98.0000000000000000 Average Rental Duration\n",
      "Rate 1.0: 44.5000000000000000 Average Rental Duration\n",
      "Rate 1.9: 88.0000000000000000 Average Rental Duration\n",
      "Rate 2.0: 76.1666666666666667 Average Rental Duration\n",
      "Rate 2.2: 88.0000000000000000 Average Rental Duration\n",
      "Rate 2.3: 104.5000000000000000 Average Rental Duration\n",
      "Rate 2.4: 0E-20 Average Rental Duration\n",
      "Rate 2.6: 85.0000000000000000 Average Rental Duration\n",
      "Rate 2.7: 95.0000000000000000 Average Rental Duration\n",
      "Rate 2.8: 94.2500000000000000 Average Rental Duration\n",
      "Rate 2.9: 89.8000000000000000 Average Rental Duration\n",
      "Rate 3.0: 84.9230769230769231 Average Rental Duration\n",
      "Rate 3.1: 92.2500000000000000 Average Rental Duration\n",
      "Rate 3.2: 85.8571428571428571 Average Rental Duration\n",
      "Rate 3.3: 90.4444444444444444 Average Rental Duration\n",
      "Rate 3.4: 128.0000000000000000 Average Rental Duration\n",
      "Rate 3.5: 87.5000000000000000 Average Rental Duration\n",
      "Rate 3.6: 92.7500000000000000 Average Rental Duration\n",
      "Rate 3.7: 96.8888888888888889 Average Rental Duration\n",
      "Rate 3.8: 88.9000000000000000 Average Rental Duration\n",
      "Rate 3.9: 97.5000000000000000 Average Rental Duration\n",
      "Rate 4.0: 101.0769230769230769 Average Rental Duration\n",
      "Rate 4.1: 95.8000000000000000 Average Rental Duration\n",
      "Rate 4.2: 91.1904761904761905 Average Rental Duration\n",
      "Rate 4.3: 84.1071428571428571 Average Rental Duration\n",
      "Rate 4.4: 87.1724137931034483 Average Rental Duration\n",
      "Rate 4.5: 97.4375000000000000 Average Rental Duration\n",
      "Rate 4.6: 94.8947368421052632 Average Rental Duration\n",
      "Rate 4.7: 96.1372549019607843 Average Rental Duration\n",
      "Rate 4.8: 94.3928571428571429 Average Rental Duration\n",
      "Rate 4.9: 96.0634920634920635 Average Rental Duration\n",
      "Rate 5.0: 94.6744186046511628 Average Rental Duration\n",
      "Rate 5.1: 98.5666666666666667 Average Rental Duration\n",
      "Rate 5.2: 98.3010752688172043 Average Rental Duration\n",
      "Rate 5.3: 98.6857142857142857 Average Rental Duration\n",
      "Rate 5.4: 100.2362204724409449 Average Rental Duration\n",
      "Rate 5.5: 99.4868421052631579 Average Rental Duration\n",
      "Rate 5.6: 102.2500000000000000 Average Rental Duration\n",
      "Rate 5.7: 103.4575163398692810 Average Rental Duration\n",
      "Rate 5.8: 103.4064171122994652 Average Rental Duration\n",
      "Rate 5.9: 104.3775510204081633 Average Rental Duration\n",
      "Rate 6.0: 104.6203703703703704 Average Rental Duration\n",
      "Rate 6.1: 106.8407960199004975 Average Rental Duration\n",
      "Rate 6.2: 107.0200000000000000 Average Rental Duration\n",
      "Rate 6.3: 107.9371980676328502 Average Rental Duration\n",
      "Rate 6.4: 106.4079601990049751 Average Rental Duration\n",
      "Rate 6.5: 110.3750000000000000 Average Rental Duration\n",
      "Rate 6.6: 110.1212121212121212 Average Rental Duration\n",
      "Rate 6.7: 112.6572769953051643 Average Rental Duration\n",
      "Rate 6.8: 109.6511627906976744 Average Rental Duration\n",
      "Rate 6.9: 112.5437500000000000 Average Rental Duration\n",
      "Rate 7.0: 116.5307262569832402 Average Rental Duration\n",
      "Rate 7.1: 116.1764705882352941 Average Rental Duration\n",
      "Rate 7.2: 117.6554621848739496 Average Rental Duration\n",
      "Rate 7.3: 119.2419354838709677 Average Rental Duration\n",
      "Rate 7.4: 119.6330275229357798 Average Rental Duration\n",
      "Rate 7.5: 116.2878787878787879 Average Rental Duration\n",
      "Rate 7.6: 121.7741935483870968 Average Rental Duration\n",
      "Rate 7.7: 125.3571428571428571 Average Rental Duration\n",
      "Rate 7.8: 120.8611111111111111 Average Rental Duration\n",
      "Rate 7.9: 131.5937500000000000 Average Rental Duration\n",
      "Rate 8.0: 107.9714285714285714 Average Rental Duration\n",
      "Rate 8.1: 133.0555555555555556 Average Rental Duration\n",
      "Rate 8.2: 148.1333333333333333 Average Rental Duration\n",
      "Rate 8.3: 147.0000000000000000 Average Rental Duration\n",
      "Rate 8.4: 138.0000000000000000 Average Rental Duration\n",
      "Rate 8.5: 120.5000000000000000 Average Rental Duration\n",
      "Rate 9.3: 121.0000000000000000 Average Rental Duration\n",
      "Rate 9.5: 0E-20 Average Rental Duration\n",
      "Rate 10.0: 71.5000000000000000 Average Rental Duration\n"
     ]
    }
   ],
   "source": [
    "sql = '''\n",
    "SELECT vote_average, (AVG(runtime), 00)\n",
    "FROM movies\n",
    "GROUP BY vote_average\n",
    "ORDER BY vote_average;\n",
    "'''\n",
    "\n",
    "results = engine.execute(sql)\n",
    "engine.dispose()\n",
    "rows = results.fetchall()\n",
    "\n",
    "for row in rows:\n",
    "  print('Rate {}'.format(row[0]) + ': {}'.format(row[1]) +' minutes Average Rental Duration')"
   ]
  },
  {
   "cell_type": "markdown",
   "metadata": {},
   "source": [
    "3. What is the mean movie length? Calculate this by defining a function."
   ]
  },
  {
   "cell_type": "code",
   "execution_count": 24,
   "metadata": {},
   "outputs": [
    {
     "name": "stdout",
     "output_type": "stream",
     "text": [
      "The mean of the mean movie lengths is 106.87585919600083\n"
     ]
    }
   ],
   "source": [
    "sql = '''\n",
    "SELECT runtime\n",
    "FROM movies\n",
    "WHERE runtime IS NOT null;\n",
    "'''\n",
    "runtime = engine.execute(sql)\n",
    "engine.dispose()\n",
    "rows = runtime.fetchall()\n",
    "\n",
    "runtime = [x['runtime'] for x in rows]\n",
    "\n",
    "def mean(numbers):\n",
    "  total_sum = 0;  \n",
    "  for n in numbers:\n",
    "    total_sum += n \n",
    "  count = len(numbers)   \n",
    "  avg = total_sum / count  \n",
    "  return avg  \n",
    "\n",
    "\n",
    "print('The mean of the mean movie lengths is {}'.format(mean(runtime)))\n"
   ]
  },
  {
   "cell_type": "markdown",
   "metadata": {},
   "source": [
    "4. What is the median movie length? Calculate this by defining a function."
   ]
  },
  {
   "cell_type": "code",
   "execution_count": 22,
   "metadata": {},
   "outputs": [
    {
     "name": "stdout",
     "output_type": "stream",
     "text": [
      "The median of the movie lengths is 103\n"
     ]
    }
   ],
   "source": [
    "sql = '''\n",
    "SELECT runtime\n",
    "FROM movies\n",
    "WHERE runtime IS NOT null;\n",
    "'''\n",
    "runtime = engine.execute(sql)\n",
    "engine.dispose()\n",
    "rows = runtime.fetchall()\n",
    "\n",
    "runtime = [x['runtime'] for x in rows]\n",
    "\n",
    "import math\n",
    "\n",
    "def median(numbers):\n",
    "  numbers.sort()  \n",
    "  count = len(numbers) \n",
    "  isEven = count % 2 == 0 \n",
    "  \n",
    "  if (isEven):\n",
    "    mid = math.floor( count / 2 )\n",
    "    a = numbers[mid]\n",
    "    b = numbers[mid + 1]\n",
    "    ans = (a + b) / 2\n",
    "  else:\n",
    "    ans = numbers[math.floor( count / 2 )]\n",
    " \n",
    "  return ans\n",
    "\n",
    "print('The median of the movie lengths is {}'.format(median(runtime)))"
   ]
  },
  {
   "cell_type": "markdown",
   "metadata": {},
   "source": [
    "5. Calculate the standard deviation of the movie lengths. Calculate this by defining a function."
   ]
  },
  {
   "cell_type": "code",
   "execution_count": 23,
   "metadata": {},
   "outputs": [
    {
     "name": "stdout",
     "output_type": "stream",
     "text": [
      "The standard deviation of the movie lengths is 22.6119345888442\n"
     ]
    }
   ],
   "source": [
    "sql = '''\n",
    "SELECT runtime\n",
    "FROM movies\n",
    "WHERE runtime IS NOT null;\n",
    "'''\n",
    "runtime = engine.execute(sql)\n",
    "engine.dispose()\n",
    "rows = runtime.fetchall()\n",
    "\n",
    "runtime = [x['runtime'] for x in rows]\n",
    "\n",
    "import math\n",
    "\n",
    "\n",
    "\n",
    "def standard_deviation(numbers):\n",
    "  X_bar = mean(numbers)\n",
    "  N = len(numbers)\n",
    "  total_sum = 0\n",
    "  for X in numbers:\n",
    "    diff = X - X_bar\n",
    "    squared = math.pow(diff, 2)\n",
    "    total_sum += squared\n",
    "  sigma = math.sqrt(total_sum / (N - 1))  \n",
    "  return sigma\n",
    "\n",
    "print('The standard deviation of the movie lengths is {}'.format(standard_deviation(runtime)))"
   ]
  }
 ],
 "metadata": {
  "kernelspec": {
   "display_name": "Python 3",
   "language": "python",
   "name": "python3"
  },
  "language_info": {
   "codemirror_mode": {
    "name": "ipython",
    "version": 3
   },
   "file_extension": ".py",
   "mimetype": "text/x-python",
   "name": "python",
   "nbconvert_exporter": "python",
   "pygments_lexer": "ipython3",
   "version": "3.7.3"
  }
 },
 "nbformat": 4,
 "nbformat_minor": 2
}
