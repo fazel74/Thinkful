{
 "cells": [
  {
   "cell_type": "markdown",
   "metadata": {},
   "source": [
    "#### 1. Consider the advantages and disadvantages of treating the Rank variable as categorical. \n",
    "\n",
    "Advatages: \n",
    "            - It is Easy to undersatand. Data is groupped by difference between the most and the least.\n",
    "\n",
    "Disadvatages: \n",
    "            - Because the values are groupped in seperate categories with an ordinal relationship, we are not able to \n",
    "              calculate differences between the ranks. \n",
    "              \n",
    "#### 2. What are the types of the following variables?\n",
    "\n",
    "    Age: Can be either continous ratio variable or categorical variable depending on purpose of the featuring \n",
    "\n",
    "    Salary: Continous ratio variable\n",
    "\n",
    "    Revenue: Continous ratio variable\n",
    "\n",
    "    Customer type: Nominal categorical variable\n",
    "\n",
    "    Stock price: Continous ratio variable"
   ]
  },
  {
   "cell_type": "code",
   "execution_count": null,
   "metadata": {},
   "outputs": [],
   "source": []
  }
 ],
 "metadata": {
  "kernelspec": {
   "display_name": "Python 3",
   "language": "python",
   "name": "python3"
  },
  "language_info": {
   "codemirror_mode": {
    "name": "ipython",
    "version": 3
   },
   "file_extension": ".py",
   "mimetype": "text/x-python",
   "name": "python",
   "nbconvert_exporter": "python",
   "pygments_lexer": "ipython3",
   "version": "3.7.3"
  }
 },
 "nbformat": 4,
 "nbformat_minor": 2
}
