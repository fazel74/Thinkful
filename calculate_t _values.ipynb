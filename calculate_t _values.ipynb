{
 "cells": [
  {
   "cell_type": "code",
   "execution_count": 21,
   "metadata": {},
   "outputs": [
    {
     "name": "stdout",
     "output_type": "stream",
     "text": [
      "t value for y1=5, y2=8, s1=1, s2=3, N1=200, N2=500 is: -19.78141420187361\n",
      "\n",
      "t value for y1=1090, y2=999, s1=400, s2=30, N1=900, N2=100 is: 6.658536585365854\n",
      "\n",
      "t value for y1=45, y2=40, s1=45, s2=40, N1=2000, N2=2000 is: 3.7139067635410377\n"
     ]
    }
   ],
   "source": [
    "import math \n",
    "\n",
    "def t_value(y1, y2, s1, s2, n1, n2):\n",
    "    \n",
    "    d = math.sqrt((s1**2)/n1 + (s2**2)/n2)\n",
    "    \n",
    "    return (y1 - y2)/d\n",
    "\n",
    "q1 = t_value(5,8,1,3,200,500)\n",
    "\n",
    "q2 = t_value(1090,999,400,30,900,100)\n",
    "\n",
    "q3 = t_value(45,40,45,40,2000,2000)\n",
    "\n",
    "print('t value for y1=5, y2=8, s1=1, s2=3, N1=200, N2=500 is: {}\\n'.format(q1))\n",
    "print('t value for y1=1090, y2=999, s1=400, s2=30, N1=900, N2=100 is: {}\\n'.format(q2))\n",
    "print('t value for y1=45, y2=40, s1=45, s2=40, N1=2000, N2=2000 is: {}'.format(q3))"
   ]
  }
 ],
 "metadata": {
  "kernelspec": {
   "display_name": "Python 3",
   "language": "python",
   "name": "python3"
  },
  "language_info": {
   "codemirror_mode": {
    "name": "ipython",
    "version": 3
   },
   "file_extension": ".py",
   "mimetype": "text/x-python",
   "name": "python",
   "nbconvert_exporter": "python",
   "pygments_lexer": "ipython3",
   "version": "3.7.3"
  }
 },
 "nbformat": 4,
 "nbformat_minor": 2
}
