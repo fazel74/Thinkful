{
 "cells": [
  {
   "cell_type": "code",
   "execution_count": 2,
   "metadata": {},
   "outputs": [
    {
     "name": "stdout",
     "output_type": "stream",
     "text": [
      "[18, 58, 98, 22, 90, 50, 93, 44, 55, 64, 14, 68, 15, 10, 94]\n"
     ]
    }
   ],
   "source": [
    "import random\n",
    "\n",
    "# Set seed.\n",
    "random.seed(a=100)\n",
    "\n",
    "# Create our default list.\n",
    "random_list = list(random.sample(range(100), 15))\n",
    "\n",
    "print(random_list)"
   ]
  },
  {
   "cell_type": "code",
   "execution_count": 9,
   "metadata": {},
   "outputs": [],
   "source": [
    "# Node structure\n",
    "class Node:\n",
    "    def __init__(self, val):\n",
    "        self.left = None\n",
    "        self.right = None\n",
    "        self.val = val\n",
    "        \n",
    "# Find the gight of tree        \n",
    "def height(node): \n",
    "    if node is None: \n",
    "        return 0 \n",
    "    else : \n",
    "        lheight = height(node.left) \n",
    "        rheight = height(node.right) \n",
    "  \n",
    "        if lheight > rheight : \n",
    "            return lheight+1\n",
    "        else: \n",
    "            return rheight+1\n",
    "        \n",
    "# Print nodes at a given level \n",
    "def print_level(root , level): \n",
    "    if root is None: \n",
    "        return\n",
    "    if level == 1: \n",
    "        print (root.val)\n",
    "    elif level > 1 : \n",
    "        print_level(root.left , level-1) \n",
    "        print_level(root.right , level-1)\n",
    "        \n",
    "# Print breadth fiers traversal of tree \n",
    "def breadth_first_search(root): \n",
    "    h = height(root) \n",
    "    for i in range(1, h+1): \n",
    "        print_level(root, i) "
   ]
  },
  {
   "cell_type": "code",
   "execution_count": 10,
   "metadata": {},
   "outputs": [
    {
     "name": "stdout",
     "output_type": "stream",
     "text": [
      "18\n",
      "58\n",
      "98\n",
      "22\n",
      "90\n",
      "50\n",
      "93\n",
      "44\n",
      "55\n",
      "64\n",
      "14\n",
      "68\n",
      "15\n",
      "10\n",
      "94\n",
      "None\n"
     ]
    }
   ],
   "source": [
    "root = Node(random_list[0])\n",
    "\n",
    "root.left = Node(random_list[1])\n",
    "root.right = Node(random_list[2])\n",
    "\n",
    "root.left.left = Node(random_list[3])\n",
    "root.left.right = Node(random_list[4])\n",
    "\n",
    "root.right.left = Node(random_list[5])\n",
    "root.right.right = Node(random_list[6])\n",
    "\n",
    "root.left.left.left = Node(random_list[7])\n",
    "root.left.left.right = Node(random_list[8])\n",
    "\n",
    "root.left.right.left = Node(random_list[9])\n",
    "root.left.right.right = Node(random_list[10])\n",
    "\n",
    "root.right.left.left = Node(random_list[11])\n",
    "root.right.left.right = Node(random_list[12])\n",
    "\n",
    "root.right.right.left = Node(random_list[13])\n",
    "root.right.right.right = Node(random_list[14])\n",
    "\n",
    "print(breadth_first_search(root))"
   ]
  }
 ],
 "metadata": {
  "kernelspec": {
   "display_name": "Python 3",
   "language": "python",
   "name": "python3"
  },
  "language_info": {
   "codemirror_mode": {
    "name": "ipython",
    "version": 3
   },
   "file_extension": ".py",
   "mimetype": "text/x-python",
   "name": "python",
   "nbconvert_exporter": "python",
   "pygments_lexer": "ipython3",
   "version": "3.7.3"
  }
 },
 "nbformat": 4,
 "nbformat_minor": 2
}
