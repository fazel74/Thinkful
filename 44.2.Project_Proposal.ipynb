{
 "cells": [
  {
   "cell_type": "markdown",
   "metadata": {},
   "source": [
    "# Project Proposal\n",
    "\n",
    "## Title: Cell Phone Companies' Target Marketing  \n",
    "\n",
    "#### Problem: Marketing is important because it helps companies to sell their products or services, but managers ugually face many challenges in their marketing strategies. The most important challenge is the cost. Companies need to choose more effective marketing strategies with lower cost.\n",
    "\n",
    "#### Solution: Target marketing involves breaking a market into segments and then concentrating companies marketing efforts on one or a few key segments, and instead of trying to reach an entire market, a brand uses target marketing to put their energy into connecting with a specific, defined group within that market. For example market can be divided in demographic segmentations such as age, gender, education, marital status, race, religion, etc.\n",
    "#### Being able to identify the characteristics of a business audience can save financial respources since that company can focus on a certain demographic. Forthetmore, advertising can become more personalized and knowing the specific users' characteristics can help to build a more effective marketing, advertising, or even recommendation engine.\n",
    "\n",
    "#### Source: In this project the data collected by TalkingData, China’s largest third-party mobile data platform, will be used. The data set can be found on kaggle website link bellow: \n",
    "\n",
    "https://www.kaggle.com/c/talkingdata-mobile-user-demographics\n",
    "\n",
    "#### This is one of the biggest data sets which contain 1.28 gigabits worth of information. TalkingData collected information in the data set for purpose of helping its clients to understand and interact with their individudal audiences. Contained within this file of folders include individual csv files that includes a file based on users' age and gender, a file for the phone brands of the users, a file for the user's location, a file for when a user uses TalkingData SDK, the event gets logged in this data which also contains the user's location data, and a file for the name of the apps that a user uses.\n",
    "\n",
    "#### Techniques: The goal of this project is to create and compare some machine learning models that can accurately predict the outcomes of the demographic segmentations. For this purpose:\n",
    "#### 1) I will do first Exploratory Data Analysis, Data Cleaning, Balancing Data, and Feature Engineering. \n",
    "#### 2) I will also use feature selection methods selectKBest and PCA, and will compare models outcomes to find out which one gives us better results. \n",
    "#### 3) Afterwards, that I will apply some supervised learning techniques such as KNN classifier, Decision tree, and Gradient Boosting Classifier after tuning for the best parameters with GeidSearchCV.\n",
    "#### 4) I probably need to split data set for train/test sets even though there is a test file on the website. A general look at that file showed that the file contains just a variable, device_id, that it apparantly cannot be very useful in our models.  \n",
    "#### 5) I will also implement a neural network using Keras and Tensorflow to create a classifier for predictions.\n",
    "#### 6) I will evaluate the models accuracy using Cross Validation, Confusion Matrix, and Classification Report. I also evaluate and compare models based on their coplexity meaning their run time.\n",
    "#### 7) At the end I will implement unsupervised learning models as well. I will use both methods, K-means and GMM, to cluster the dataset and observe variable's quantities in each cluster, and compare two outcomes.  \n",
    "\n",
    "#### Challenges: Computational time and dealing with hyper parameters(tuning for accurecy) will be the biggest challenges that I will face.\n"
   ]
  }
 ],
 "metadata": {
  "kernelspec": {
   "display_name": "Python 3",
   "language": "python",
   "name": "python3"
  },
  "language_info": {
   "codemirror_mode": {
    "name": "ipython",
    "version": 3
   },
   "file_extension": ".py",
   "mimetype": "text/x-python",
   "name": "python",
   "nbconvert_exporter": "python",
   "pygments_lexer": "ipython3",
   "version": "3.7.3"
  }
 },
 "nbformat": 4,
 "nbformat_minor": 4
}
