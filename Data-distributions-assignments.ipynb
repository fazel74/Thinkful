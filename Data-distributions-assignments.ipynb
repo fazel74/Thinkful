{
 "cells": [
  {
   "cell_type": "code",
   "execution_count": 2,
   "metadata": {},
   "outputs": [],
   "source": [
    "import numpy as np\n",
    "import pandas as pd\n",
    "import matplotlib.pyplot as plt\n",
    "%matplotlib inline"
   ]
  },
  {
   "cell_type": "code",
   "execution_count": 23,
   "metadata": {},
   "outputs": [
    {
     "data": {
      "image/png": "[encoded data removed]",
      "text/plain": [
       "<Figure size 432x288 with 1 Axes>"
      ]
     },
     "metadata": {
      "needs_background": "light"
     },
     "output_type": "display_data"
    }
   ],
   "source": [
    "visit_var = np.random.normal(15, 5, 100)\n",
    "\n",
    "plt.hist(visit_var, bins=20, color='cyan')\n",
    "\n",
    "plt.axvline(visit_var.mean(), color='blue', linestyle='solid', linewidth=2)\n",
    "\n",
    "plt.axvline(visit_var.mean() + visit_var.std(), color='red', linestyle='solid', linewidth=2)\n",
    "\n",
    "plt.axvline(visit_var.mean() - visit_var.std(), color='red', linestyle='solid', linewidth=2) \n",
    "\n",
    "\n",
    "\n",
    "plt.show()\n",
    "\n"
   ]
  },
  {
   "cell_type": "code",
   "execution_count": null,
   "metadata": {},
   "outputs": [],
   "source": [
    "# Because visit_var is normal, the mean is placed where the data clusters, with approximately 50% of the data falling on either\n",
    "# side, and approximately 67% of the data falling within one standard deviation of the mean."
   ]
  },
  {
   "cell_type": "code",
   "execution_count": 13,
   "metadata": {},
   "outputs": [],
   "source": [
    "# Additional:"
   ]
  },
  {
   "cell_type": "code",
   "execution_count": 26,
   "metadata": {},
   "outputs": [
    {
     "data": {
      "image/png": "[encoded data removed]",
      "text/plain": [
       "<Figure size 432x288 with 1 Axes>"
      ]
     },
     "metadata": {
      "needs_background": "light"
     },
     "output_type": "display_data"
    }
   ],
   "source": [
    "var1 = np.random.normal(5, 0.5, 100)\n",
    "\n",
    "var2 = np.random.normal(10, 1, 100)\n",
    "\n",
    "var3 = var1 + var2\n",
    "\n",
    "plt.hist(var3)\n",
    "\n",
    "plt.show()"
   ]
  },
  {
   "cell_type": "code",
   "execution_count": 28,
   "metadata": {},
   "outputs": [
    {
     "data": {
      "text/plain": [
       "<matplotlib.lines.Line2D at 0x1ee181336a0>"
      ]
     },
     "execution_count": 28,
     "metadata": {},
     "output_type": "execute_result"
    },
    {
     "data": {
      "image/png": "[encoded data removed]",
      "text/plain": [
       "<Figure size 432x288 with 1 Axes>"
      ]
     },
     "metadata": {
      "needs_background": "light"
     },
     "output_type": "display_data"
    }
   ],
   "source": [
    "var1 = np.random.normal(5, 0.5, 100)\n",
    "var2 = np.random.normal(10, 1, 100)\n",
    "var3 = var1 + var2\n",
    "\n",
    "mean = np.mean(var3)\n",
    "sd = np.std(var3)\n",
    "\n",
    "plt.hist(var3)\n",
    "plt.axvline(x=mean, color='blue')\n",
    "plt.axvline(x=mean+sd, color='red')\n",
    "plt.axvline(x=mean-sd, color='red')\n",
    "\n"
   ]
  },
  {
   "cell_type": "code",
   "execution_count": null,
   "metadata": {},
   "outputs": [],
   "source": [
    "# Results are different. They vary depending on normal distribution."
   ]
  }
 ],
 "metadata": {
  "kernelspec": {
   "display_name": "Python 3",
   "language": "python",
   "name": "python3"
  },
  "language_info": {
   "codemirror_mode": {
    "name": "ipython",
    "version": 3
   },
   "file_extension": ".py",
   "mimetype": "text/x-python",
   "name": "python",
   "nbconvert_exporter": "python",
   "pygments_lexer": "ipython3",
   "version": "3.7.3"
  }
 },
 "nbformat": 4,
 "nbformat_minor": 2
}
