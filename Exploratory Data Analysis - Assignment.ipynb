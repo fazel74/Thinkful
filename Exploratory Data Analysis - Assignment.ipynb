{
 "cells": [
  {
   "cell_type": "markdown",
   "metadata": {},
   "source": [
    "#### 1. What is the goal of EDA (exploratory data analysis)?\n",
    "\n",
    "- EDA is the process of exploring and improving the qulity of data, and its goal is to lead us to next phases of Data Science steps.\n",
    "\n",
    "#### 2. Suppose that you are given a dataset of customer product reviews for an e-commerce company. Each review is scored as \n",
    "#### a Likert-style survey item where 1 indicates a negative sentiment about the product and a 5 is positive. These reviews \n",
    "#### are collected on the company's website. \n",
    "\n",
    "#### a. What problems do you expect to find in the raw data? \n",
    "\n",
    "- To find some missing values regard to some questions on the survey\n",
    "\n",
    "#### b. If your task is to build features that give information about customer sentiments, how would you approach this task and \n",
    "#### what kind of methods would you apply to accomplish it? \n",
    "\n",
    "- visualization the data, and summery statistics\n",
    "\n",
    "#### c. Try to identify some potentially useful features that you might derive from the raw data. How would you derive them and \n",
    "#### how would you assess the usefulness of those features? \n",
    "\n",
    "- We process the data to derive the features, and compare their number of occurrences for each category. A feature can be useful if the numbers of its occurence is meaningful."
   ]
  },
  {
   "cell_type": "code",
   "execution_count": null,
   "metadata": {},
   "outputs": [],
   "source": []
  }
 ],
 "metadata": {
  "kernelspec": {
   "display_name": "Python 3",
   "language": "python",
   "name": "python3"
  },
  "language_info": {
   "codemirror_mode": {
    "name": "ipython",
    "version": 3
   },
   "file_extension": ".py",
   "mimetype": "text/x-python",
   "name": "python",
   "nbconvert_exporter": "python",
   "pygments_lexer": "ipython3",
   "version": "3.7.3"
  }
 },
 "nbformat": 4,
 "nbformat_minor": 2
}
