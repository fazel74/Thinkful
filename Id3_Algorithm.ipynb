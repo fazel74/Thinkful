{
 "cells": [
  {
   "cell_type": "markdown",
   "metadata": {},
   "source": [
    "Algorithm(Observations, Outcome, Attributes)\n",
    "    Create a root node.\n",
    "    If all observations are 'A', label root node 'A' and return.\n",
    "    If all observations are 'B', label root node 'B' and return.\n",
    "    If no attributes return the root note labeled with the most common Outcome.\n",
    "    Otherwise, start:\n",
    "        For each value vi of each attribute ai, calculate the entropy.\n",
    "        The attribute ai and value vi with the lowest entropy is the best rule.\n",
    "        The attribute for this node is then ai\n",
    "            Split the tree to below based on the rule ai = vi\n",
    "            Observationsvi is the subset of observations with value vi\n",
    "            If Observationsvi is empty cap with node labeled with most common Outcome\n",
    "            Else at the new node start a subtree (Observationsvi, Target Outcome, Attributes - {ai}) and repeat the algorithm\n",
    "            \n",
    "            \n",
    "            \n",
    "MakeTree()\n",
    "          Majirity()\n",
    "                    if A, return A\n",
    "                    if B, return B\n",
    "                    otherwise:\n",
    "                              ChooseAttr()\n",
    "                                          gain()\n",
    "                                                entropy()\n",
    "                               loop: getExample()\n",
    "          loop: getValues()\n",
    "return tree                               \n",
    "                          \n",
    "                                "
   ]
  }
 ],
 "metadata": {
  "kernelspec": {
   "display_name": "Python 3",
   "language": "python",
   "name": "python3"
  },
  "language_info": {
   "codemirror_mode": {
    "name": "ipython",
    "version": 3
   },
   "file_extension": ".py",
   "mimetype": "text/x-python",
   "name": "python",
   "nbconvert_exporter": "python",
   "pygments_lexer": "ipython3",
   "version": "3.7.3"
  }
 },
 "nbformat": 4,
 "nbformat_minor": 2
}
