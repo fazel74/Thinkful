{
 "cells": [
  {
   "cell_type": "code",
   "execution_count": null,
   "metadata": {},
   "outputs": [],
   "source": []
  },
  {
   "cell_type": "markdown",
   "metadata": {},
   "source": [
    "## IBM Employees' Attrition Rate \n",
    "\n",
    "### The problem\n",
    "\n",
    "IBM human resource's analysis shows that the Sales Department an Research & Development department have the highest rates of attrition. How can IBM reduce these rates in the two department? Dose the factor of Job Satisfaction impact significantly on attrition? Can IBM use an unique strategy to reduce employees attrition in entire body of the organization?\n",
    "\n",
    "### The potential solution\n",
    "\n",
    "Implementing strategies to increase employees' Job satisfaction, for example impeove working environment, for purpose of decreasing attrition rate.\n",
    "\n",
    "### The method of testing the solution\n",
    "\n",
    "Improving work environment in one of the departments, then after a specific period measuring employees' level of job satisfaction and comparing attrition rate with other department. The comparison also can be done with a similar period in the past of the same department. The keys metric are level of job satisfaction, and attrition rate.\n",
    "\n",
    "If the employees' level of job satisfaction in that department increases and the attrition rate decreases then we can coclude that improving work environment impacts on both job satisfaction and attrition rate, and we can use the strategy for the other departments too. If the solution does not make chang on niether job satisfaction nor attrition rate that means we should find another solution. If the improving work environment increases job satisfaction but does not change attrition rate that means the job satisfaction is not an important factor for the attrition rate.\n"
   ]
  },
  {
   "cell_type": "code",
   "execution_count": 1,
   "metadata": {},
   "outputs": [],
   "source": [
    "import numpy as np\n",
    "import pandas as pd\n",
    "import matplotlib.pyplot as plt\n",
    "import seaborn as sns\n",
    "%matplotlib inline"
   ]
  },
  {
   "cell_type": "code",
   "execution_count": 16,
   "metadata": {},
   "outputs": [
    {
     "data": {
      "text/html": [
       "<div>\n",
       "<style scoped>\n",
       "    .dataframe tbody tr th:only-of-type {\n",
       "        vertical-align: middle;\n",
       "    }\n",
       "\n",
       "    .dataframe tbody tr th {\n",
       "        vertical-align: top;\n",
       "    }\n",
       "\n",
       "    .dataframe thead th {\n",
       "        text-align: right;\n",
       "    }\n",
       "</style>\n",
       "<table border=\"1\" class=\"dataframe\">\n",
       "  <thead>\n",
       "    <tr style=\"text-align: right;\">\n",
       "      <th></th>\n",
       "      <th>Attrition</th>\n",
       "      <th>Department</th>\n",
       "      <th>JobSatisfaction</th>\n",
       "    </tr>\n",
       "  </thead>\n",
       "  <tbody>\n",
       "    <tr>\n",
       "      <th>0</th>\n",
       "      <td>Yes</td>\n",
       "      <td>Sales</td>\n",
       "      <td>4</td>\n",
       "    </tr>\n",
       "    <tr>\n",
       "      <th>1</th>\n",
       "      <td>No</td>\n",
       "      <td>Research &amp; Development</td>\n",
       "      <td>2</td>\n",
       "    </tr>\n",
       "    <tr>\n",
       "      <th>2</th>\n",
       "      <td>Yes</td>\n",
       "      <td>Research &amp; Development</td>\n",
       "      <td>3</td>\n",
       "    </tr>\n",
       "    <tr>\n",
       "      <th>3</th>\n",
       "      <td>No</td>\n",
       "      <td>Research &amp; Development</td>\n",
       "      <td>3</td>\n",
       "    </tr>\n",
       "    <tr>\n",
       "      <th>4</th>\n",
       "      <td>No</td>\n",
       "      <td>Research &amp; Development</td>\n",
       "      <td>2</td>\n",
       "    </tr>\n",
       "  </tbody>\n",
       "</table>\n",
       "</div>"
      ],
      "text/plain": [
       "  Attrition              Department  JobSatisfaction\n",
       "0       Yes                   Sales                4\n",
       "1        No  Research & Development                2\n",
       "2       Yes  Research & Development                3\n",
       "3        No  Research & Development                3\n",
       "4        No  Research & Development                2"
      ]
     },
     "execution_count": 16,
     "metadata": {},
     "output_type": "execute_result"
    }
   ],
   "source": [
    "df = pd.read_csv('HR-Employee-Attrition.csv')\n",
    "\n",
    "df[['Attrition', 'Department', 'JobSatisfaction']].head()\n"
   ]
  },
  {
   "cell_type": "code",
   "execution_count": 43,
   "metadata": {},
   "outputs": [
    {
     "data": {
      "image/png": "[encoded data removed]",
      "text/plain": [
       "<Figure size 432x288 with 1 Axes>"
      ]
     },
     "metadata": {
      "needs_background": "light"
     },
     "output_type": "display_data"
    }
   ],
   "source": [
    "s = df.loc[df['Department']=='Sales'].loc[df['Attrition']=='Yes']\n",
    "rd = df.loc[df['Department']=='Research & Development'].loc[df['Attrition']=='Yes']\n",
    "\n",
    "columns = [s.count(), rd.count()]\n",
    "sns.barplot(data=columns)\n",
    "plt.title('Sales and R&D Departments\\' Attrition')\n",
    "\n",
    "plt.show()\n",
    "\n"
   ]
  },
  {
   "cell_type": "code",
   "execution_count": null,
   "metadata": {},
   "outputs": [],
   "source": []
  },
  {
   "cell_type": "code",
   "execution_count": null,
   "metadata": {},
   "outputs": [],
   "source": []
  }
 ],
 "metadata": {
  "kernelspec": {
   "display_name": "Python 3",
   "language": "python",
   "name": "python3"
  },
  "language_info": {
   "codemirror_mode": {
    "name": "ipython",
    "version": 3
   },
   "file_extension": ".py",
   "mimetype": "text/x-python",
   "name": "python",
   "nbconvert_exporter": "python",
   "pygments_lexer": "ipython3",
   "version": "3.7.3"
  }
 },
 "nbformat": 4,
 "nbformat_minor": 2
}
