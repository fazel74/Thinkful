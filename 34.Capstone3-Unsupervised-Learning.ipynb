{
 "cells": [
  {
   "cell_type": "markdown",
   "metadata": {},
   "source": [
    "choose your own research question \n",
    "Go out and find a dataset of interest. It could be one that helps you work on one of our recommended research questions, or any other dataset that addresses an unsupervised learning question of your own.\n",
    "\n",
    "1.Explore the data. Get to know the data. Spend a lot of time going over its quirks and peccadilloes. You should understand how it was gathered, what's in it, and what the variables look like.\n",
    "\n",
    "2.You should try several different approaches and really work to tune a variety of models before choosing what you consider to be the best performer.\n",
    "\n",
    "3.Things to keep in mind: how do clustering and modeling compare? What are the advantages of each? Why would you want to use one over the other?\n",
    "\n",
    "This will ultimately include the following deliverables:\n",
    "\n",
    "A Jupyter notebook that tells a compelling story about your data (to be submitted at the end of this checkpoint).\n",
    "A 15 to 30 minute presentation of your findings. You'll need to produce a deck and present it to the Thinkful community.\n",
    "Conduct the analysis in Jupyter. Provide a complete research report using the framework introduced in the previous module. The report should include compelling visualizations and actionable insights, telling the story to your intended audience. Walk through the analysis using clean, reproducible code. Include plenty of notes and comments to guide others through your thinking.\n",
    "\n",
    "Rather than create a deck in a presentation tool like PowerPoint or Google Slides, we will use Jupyter’s built-in slide deck capabilities. This cuts down on the time-consuming and error-prone process of copying-and-pasting into an external program. The presentation is also fully reproducible.\n",
    "\n",
    "On the day of your presentation, an evaluator from the Thinkful educator team will introduce you, and then you'll give your presentation. Afterward, the evaluator will ask you follow up questions and will grade your performance on your presentation. Members of the audience will also be encouraged to ask follow up questions.\n",
    "\n",
    "Be prepared to talk about:\n",
    "\n",
    "- Your end-user and the value your project provides to them.\n",
    "- Quantifiable results based on the research you’ve conducted.\n",
    "- The visuals you chose and what they represent for your research.\n",
    "- Next steps you'd take to expand on your work.\n",
    "- A specified research question your model addresses.\n",
    "- How you chose your model specification and what alternatives you compared it to.\n",
    "- The practical uses of your model for an audience of interest.\n",
    "- Any weak points or shortcomings of your model. "
   ]
  },
  {
   "cell_type": "markdown",
   "metadata": {},
   "source": [
    "Analysis of 2018 NJ Transit and Amtrak data.\n",
    "\n",
    "All data used is available here: https://www.kaggle.com/pranavbadami/nj-transit-amtrak-nec-performance"
   ]
  },
  {
   "cell_type": "markdown",
   "metadata": {},
   "source": [
    "\n",
    "\n",
    "\n",
    "NJ Transit + Amtrak (NEC) Rail Performance\n",
    "Granular performance data from 150k+ NJ Transit and Amtrak train trips\n",
    "https://www.kaggle.com/pranavbadami/nj-transit-amtrak-nec-performance"
   ]
  },
  {
   "cell_type": "code",
   "execution_count": null,
   "metadata": {},
   "outputs": [],
   "source": []
  },
  {
   "cell_type": "code",
   "execution_count": 1,
   "metadata": {},
   "outputs": [],
   "source": [
    "# Load necessory libraries \n",
    "import numpy as np\n",
    "import pandas as pd\n",
    "import matplotlib.pyplot as plt\n",
    "%matplotlib inline\n",
    "import matplotlib.cm as cm\n",
    "import seaborn as sns\n",
    "import sklearn\n",
    "from sklearn import metrics\n",
    "from sklearn.preprocessing import StandardScaler\n",
    "from sklearn.cluster import KMeans\n",
    "from sklearn.mixture import GaussianMixture\n",
    "from sklearn.decomposition import PCA\n",
    "from sklearn.metrics import  silhouette_score\n",
    "import warnings\n",
    "warnings.filterwarnings(\"ignore\")"
   ]
  },
  {
   "cell_type": "markdown",
   "metadata": {},
   "source": [
    "# Preprocessing Data\n",
    "### Reading and Exploring the Data Set "
   ]
  },
  {
   "cell_type": "code",
   "execution_count": 65,
   "metadata": {},
   "outputs": [
    {
     "data": {
      "text/html": [
       "<div>\n",
       "<style scoped>\n",
       "    .dataframe tbody tr th:only-of-type {\n",
       "        vertical-align: middle;\n",
       "    }\n",
       "\n",
       "    .dataframe tbody tr th {\n",
       "        vertical-align: top;\n",
       "    }\n",
       "\n",
       "    .dataframe thead th {\n",
       "        text-align: right;\n",
       "    }\n",
       "</style>\n",
       "<table border=\"1\" class=\"dataframe\">\n",
       "  <thead>\n",
       "    <tr style=\"text-align: right;\">\n",
       "      <th></th>\n",
       "      <th>date</th>\n",
       "      <th>train_id</th>\n",
       "      <th>stop_sequence</th>\n",
       "      <th>from</th>\n",
       "      <th>from_id</th>\n",
       "      <th>to</th>\n",
       "      <th>to_id</th>\n",
       "      <th>scheduled_time</th>\n",
       "      <th>actual_time</th>\n",
       "      <th>delay_minutes</th>\n",
       "      <th>status</th>\n",
       "      <th>line</th>\n",
       "      <th>type</th>\n",
       "    </tr>\n",
       "  </thead>\n",
       "  <tbody>\n",
       "    <tr>\n",
       "      <th>0</th>\n",
       "      <td>2019-01-01</td>\n",
       "      <td>.8905</td>\n",
       "      <td>NaN</td>\n",
       "      <td>New York Penn Station</td>\n",
       "      <td>105.0</td>\n",
       "      <td>New York Penn Station</td>\n",
       "      <td>105.0</td>\n",
       "      <td>NaN</td>\n",
       "      <td>2019-01-01 02:20:04</td>\n",
       "      <td>NaN</td>\n",
       "      <td>cancelled</td>\n",
       "      <td>Morristown Line</td>\n",
       "      <td>Amtrak</td>\n",
       "    </tr>\n",
       "    <tr>\n",
       "      <th>1</th>\n",
       "      <td>2019-01-01</td>\n",
       "      <td>.8905</td>\n",
       "      <td>NaN</td>\n",
       "      <td>New York Penn Station</td>\n",
       "      <td>105.0</td>\n",
       "      <td>Secaucus Upper Lvl</td>\n",
       "      <td>38187.0</td>\n",
       "      <td>NaN</td>\n",
       "      <td>2019-01-01 02:20:04</td>\n",
       "      <td>NaN</td>\n",
       "      <td>departed</td>\n",
       "      <td>Morristown Line</td>\n",
       "      <td>Amtrak</td>\n",
       "    </tr>\n",
       "    <tr>\n",
       "      <th>2</th>\n",
       "      <td>2019-01-01</td>\n",
       "      <td>A2228</td>\n",
       "      <td>NaN</td>\n",
       "      <td>Philadelphia</td>\n",
       "      <td>1.0</td>\n",
       "      <td>Philadelphia</td>\n",
       "      <td>1.0</td>\n",
       "      <td>NaN</td>\n",
       "      <td>2019-01-01 21:40:06</td>\n",
       "      <td>NaN</td>\n",
       "      <td>departed</td>\n",
       "      <td>ACELA EXPRESS</td>\n",
       "      <td>Amtrak</td>\n",
       "    </tr>\n",
       "    <tr>\n",
       "      <th>3</th>\n",
       "      <td>2019-01-01</td>\n",
       "      <td>A2228</td>\n",
       "      <td>NaN</td>\n",
       "      <td>Philadelphia</td>\n",
       "      <td>1.0</td>\n",
       "      <td>Metropark</td>\n",
       "      <td>83.0</td>\n",
       "      <td>NaN</td>\n",
       "      <td>2019-01-01 22:24:07</td>\n",
       "      <td>NaN</td>\n",
       "      <td>departed</td>\n",
       "      <td>ACELA EXPRESS</td>\n",
       "      <td>Amtrak</td>\n",
       "    </tr>\n",
       "    <tr>\n",
       "      <th>4</th>\n",
       "      <td>2019-01-01</td>\n",
       "      <td>A2228</td>\n",
       "      <td>NaN</td>\n",
       "      <td>Metropark</td>\n",
       "      <td>83.0</td>\n",
       "      <td>Newark Penn Station</td>\n",
       "      <td>107.0</td>\n",
       "      <td>NaN</td>\n",
       "      <td>2019-01-01 22:38:19</td>\n",
       "      <td>NaN</td>\n",
       "      <td>departed</td>\n",
       "      <td>ACELA EXPRESS</td>\n",
       "      <td>Amtrak</td>\n",
       "    </tr>\n",
       "  </tbody>\n",
       "</table>\n",
       "</div>"
      ],
      "text/plain": [
       "         date train_id  stop_sequence                   from  from_id  \\\n",
       "0  2019-01-01    .8905            NaN  New York Penn Station    105.0   \n",
       "1  2019-01-01    .8905            NaN  New York Penn Station    105.0   \n",
       "2  2019-01-01    A2228            NaN           Philadelphia      1.0   \n",
       "3  2019-01-01    A2228            NaN           Philadelphia      1.0   \n",
       "4  2019-01-01    A2228            NaN              Metropark     83.0   \n",
       "\n",
       "                      to    to_id scheduled_time          actual_time  \\\n",
       "0  New York Penn Station    105.0            NaN  2019-01-01 02:20:04   \n",
       "1     Secaucus Upper Lvl  38187.0            NaN  2019-01-01 02:20:04   \n",
       "2           Philadelphia      1.0            NaN  2019-01-01 21:40:06   \n",
       "3              Metropark     83.0            NaN  2019-01-01 22:24:07   \n",
       "4    Newark Penn Station    107.0            NaN  2019-01-01 22:38:19   \n",
       "\n",
       "   delay_minutes     status             line    type  \n",
       "0            NaN  cancelled  Morristown Line  Amtrak  \n",
       "1            NaN   departed  Morristown Line  Amtrak  \n",
       "2            NaN   departed    ACELA EXPRESS  Amtrak  \n",
       "3            NaN   departed    ACELA EXPRESS  Amtrak  \n",
       "4            NaN   departed    ACELA EXPRESS  Amtrak  "
      ]
     },
     "execution_count": 65,
     "metadata": {},
     "output_type": "execute_result"
    }
   ],
   "source": [
    "df_2019 = pd.read_csv('NJ-transit/2019_01.csv')\n",
    "for i in range(2,5):\n",
    "    df_2019 = df_2019.append(pd.read_csv('NJ-transit/2019_0'+str(i)+'.csv'))\n",
    "df_2019.head()"
   ]
  },
  {
   "cell_type": "code",
   "execution_count": 31,
   "metadata": {},
   "outputs": [
    {
     "name": "stdout",
     "output_type": "stream",
     "text": [
      "<class 'pandas.core.frame.DataFrame'>\n",
      "Int64Index: 927744 entries, 0 to 238692\n",
      "Data columns (total 13 columns):\n",
      "date              927744 non-null object\n",
      "train_id          927744 non-null object\n",
      "stop_sequence     829278 non-null float64\n",
      "from              927744 non-null object\n",
      "from_id           927742 non-null float64\n",
      "to                927744 non-null object\n",
      "to_id             927742 non-null float64\n",
      "scheduled_time    829278 non-null object\n",
      "actual_time       927744 non-null object\n",
      "delay_minutes     829278 non-null float64\n",
      "status            927744 non-null object\n",
      "line              927744 non-null object\n",
      "type              927744 non-null object\n",
      "dtypes: float64(4), object(9)\n",
      "memory usage: 99.1+ MB\n"
     ]
    }
   ],
   "source": [
    "df_2019.info()"
   ]
  },
  {
   "cell_type": "code",
   "execution_count": 4,
   "metadata": {},
   "outputs": [
    {
     "data": {
      "text/plain": [
       "Text(0.5, 1.0, 'Persantage of transit operated by the transit companies')"
      ]
     },
     "execution_count": 4,
     "metadata": {},
     "output_type": "execute_result"
    },
    {
     "data": {
      "image/png": "[encoded data removed]",
      "text/plain": [
       "<Figure size 432x288 with 1 Axes>"
      ]
     },
     "metadata": {},
     "output_type": "display_data"
    }
   ],
   "source": [
    "df_2019['type'].value_counts().plot.pie(autopct='%1.0f%%',\n",
    "                                shadow=False, startangle=0)\n",
    "plt.title('Persantage of transit operated by the transit companies')"
   ]
  },
  {
   "cell_type": "code",
   "execution_count": 32,
   "metadata": {},
   "outputs": [
    {
     "data": {
      "text/plain": [
       "date                  0\n",
       "train_id              0\n",
       "stop_sequence     98466\n",
       "from                  0\n",
       "from_id               2\n",
       "to                    0\n",
       "to_id                 2\n",
       "scheduled_time    98466\n",
       "actual_time           0\n",
       "delay_minutes     98466\n",
       "status                0\n",
       "line                  0\n",
       "type                  0\n",
       "dtype: int64"
      ]
     },
     "execution_count": 32,
     "metadata": {},
     "output_type": "execute_result"
    }
   ],
   "source": [
    "df_2019.isnull().sum()"
   ]
  },
  {
   "cell_type": "code",
   "execution_count": 45,
   "metadata": {},
   "outputs": [
    {
     "data": {
      "text/plain": [
       "date              49252\n",
       "train_id          49252\n",
       "stop_sequence         0\n",
       "from              49252\n",
       "from_id           49252\n",
       "to                49252\n",
       "to_id             49252\n",
       "scheduled_time        0\n",
       "actual_time       49252\n",
       "delay_minutes         0\n",
       "status            49252\n",
       "line              49252\n",
       "type              49252\n",
       "dtype: int64"
      ]
     },
     "execution_count": 45,
     "metadata": {},
     "output_type": "execute_result"
    }
   ],
   "source": [
    "df_2019[df_2019['type'] == 'Amtrak'].count()"
   ]
  },
  {
   "cell_type": "markdown",
   "metadata": {},
   "source": [
    "From above we can see that missing values are for three variables, stop_sequence, scheduled_time, and delay_minutes, and all obsevations operated by Amtrak don't have values related to these variables. "
   ]
  },
  {
   "cell_type": "code",
   "execution_count": 43,
   "metadata": {},
   "outputs": [
    {
     "data": {
      "text/plain": [
       "date              878492\n",
       "train_id          878492\n",
       "stop_sequence     829278\n",
       "from              878492\n",
       "from_id           878490\n",
       "to                878492\n",
       "to_id             878490\n",
       "scheduled_time    829278\n",
       "actual_time       878492\n",
       "delay_minutes     829278\n",
       "status            878492\n",
       "line              878492\n",
       "type              878492\n",
       "dtype: int64"
      ]
     },
     "execution_count": 43,
     "metadata": {},
     "output_type": "execute_result"
    }
   ],
   "source": [
    "df_2019[df_2019['type'] == 'NJ Transit'].count()"
   ]
  },
  {
   "cell_type": "markdown",
   "metadata": {},
   "source": [
    "There are enough observations to analyse if we drop those which are missing values, after all about 10% of all data contains observations wiyh missin values. So we drop them.\n",
    "# Data Cleaning"
   ]
  },
  {
   "cell_type": "code",
   "execution_count": 66,
   "metadata": {},
   "outputs": [],
   "source": [
    "# Drop missing values\n",
    "df_2019 = df_2019.dropna()"
   ]
  },
  {
   "cell_type": "code",
   "execution_count": 18,
   "metadata": {},
   "outputs": [
    {
     "data": {
      "text/plain": [
       "date              0\n",
       "train_id          0\n",
       "stop_sequence     0\n",
       "from              0\n",
       "from_id           0\n",
       "to                0\n",
       "to_id             0\n",
       "scheduled_time    0\n",
       "actual_time       0\n",
       "delay_minutes     0\n",
       "status            0\n",
       "line              0\n",
       "type              0\n",
       "dtype: int64"
      ]
     },
     "execution_count": 18,
     "metadata": {},
     "output_type": "execute_result"
    }
   ],
   "source": [
    "df_2019[df_2019['type'] == 'Amtrak'].count()"
   ]
  },
  {
   "cell_type": "code",
   "execution_count": 19,
   "metadata": {},
   "outputs": [
    {
     "name": "stdout",
     "output_type": "stream",
     "text": [
      "<class 'pandas.core.frame.DataFrame'>\n",
      "Int64Index: 829276 entries, 6 to 238688\n",
      "Data columns (total 13 columns):\n",
      "date              829276 non-null object\n",
      "train_id          829276 non-null object\n",
      "stop_sequence     829276 non-null float64\n",
      "from              829276 non-null object\n",
      "from_id           829276 non-null float64\n",
      "to                829276 non-null object\n",
      "to_id             829276 non-null float64\n",
      "scheduled_time    829276 non-null object\n",
      "actual_time       829276 non-null object\n",
      "delay_minutes     829276 non-null float64\n",
      "status            829276 non-null object\n",
      "line              829276 non-null object\n",
      "type              829276 non-null object\n",
      "dtypes: float64(4), object(9)\n",
      "memory usage: 88.6+ MB\n"
     ]
    }
   ],
   "source": [
    "df_2019.info()"
   ]
  },
  {
   "cell_type": "code",
   "execution_count": 20,
   "metadata": {},
   "outputs": [
    {
     "data": {
      "text/plain": [
       "date              False\n",
       "train_id          False\n",
       "stop_sequence     False\n",
       "from              False\n",
       "from_id           False\n",
       "to                False\n",
       "to_id             False\n",
       "scheduled_time    False\n",
       "actual_time       False\n",
       "delay_minutes     False\n",
       "status            False\n",
       "line              False\n",
       "type              False\n",
       "dtype: bool"
      ]
     },
     "metadata": {},
     "output_type": "display_data"
    }
   ],
   "source": [
    "display(df_2019.isnull().any())"
   ]
  },
  {
   "cell_type": "code",
   "execution_count": 6,
   "metadata": {},
   "outputs": [
    {
     "data": {
      "text/plain": [
       "Text(0.5, 1.0, 'Transit operated by the transit companies after cleaning')"
      ]
     },
     "execution_count": 6,
     "metadata": {},
     "output_type": "execute_result"
    },
    {
     "data": {
      "image/png": "[encoded data removed]",
      "text/plain": [
       "<Figure size 432x288 with 1 Axes>"
      ]
     },
     "metadata": {},
     "output_type": "display_data"
    }
   ],
   "source": [
    "df['type'].value_counts().plot.pie(autopct='%1.0f%%',\n",
    "                                shadow=False, startangle=0)\n",
    "plt.title('Transit operated by the transit companies after cleaning')"
   ]
  },
  {
   "cell_type": "markdown",
   "metadata": {},
   "source": [
    "100% of remaining data is operated by NJ Transit. So the analysis will be for NJ Transit network. \n",
    "# Data Visualization"
   ]
  },
  {
   "cell_type": "code",
   "execution_count": 67,
   "metadata": {},
   "outputs": [],
   "source": [
    "numeric = df_2019.select_dtypes(['float64']).columns\n",
    "categoric =  df_2019.select_dtypes(['object']).columns"
   ]
  },
  {
   "cell_type": "markdown",
   "metadata": {},
   "source": [
    "### Graphs of the Numeric Variables:"
   ]
  },
  {
   "cell_type": "code",
   "execution_count": 24,
   "metadata": {},
   "outputs": [
    {
     "data": {
      "image/png": "[encoded data removed]",
      "text/plain": [
       "<Figure size 1080x720 with 4 Axes>"
      ]
     },
     "metadata": {
      "needs_background": "light"
     },
     "output_type": "display_data"
    }
   ],
   "source": [
    "plt.figure(figsize=(15, 10))\n",
    "for i, col in enumerate(numeric, 1):\n",
    "    plt.subplot(2, 2, i)\n",
    "    plt.hist(df_2019[col])\n",
    "    plt.title(col)"
   ]
  },
  {
   "cell_type": "code",
   "execution_count": 75,
   "metadata": {},
   "outputs": [
    {
     "name": "stdout",
     "output_type": "stream",
     "text": [
      "delay_minutes    1.000000\n",
      "stop_sequence    0.066520\n",
      "to_id            0.011212\n",
      "from_id         -0.014874\n",
      "Name: delay_minutes, dtype: float64 \n",
      "\n"
     ]
    },
    {
     "data": {
      "image/png": "[encoded data removed]",
      "text/plain": [
       "<Figure size 1080x1080 with 2 Axes>"
      ]
     },
     "metadata": {
      "needs_background": "light"
     },
     "output_type": "display_data"
    }
   ],
   "source": [
    "numeric_features = df_2019.select_dtypes(include=[np.number])\n",
    "\n",
    "correlation = numeric_features.corr()\n",
    "print(correlation['delay_minutes'].sort_values(ascending=False), '\\n')\n",
    "\n",
    "f, ax = plt.subplots(figsize = (15, 15))\n",
    "sns.heatmap(correlation, square=True, linewidths=0.5, annot=True)\n",
    "plt.show()"
   ]
  },
  {
   "cell_type": "markdown",
   "metadata": {},
   "source": [
    "### Graphs of the Categorical Variables:"
   ]
  },
  {
   "cell_type": "code",
   "execution_count": 36,
   "metadata": {},
   "outputs": [
    {
     "data": {
      "text/plain": [
       "Index(['date', 'train_id', 'from', 'to', 'scheduled_time', 'actual_time',\n",
       "       'status', 'line', 'type'],\n",
       "      dtype='object')"
      ]
     },
     "execution_count": 36,
     "metadata": {},
     "output_type": "execute_result"
    }
   ],
   "source": [
    "categoric.unique()"
   ]
  },
  {
   "cell_type": "code",
   "execution_count": 33,
   "metadata": {},
   "outputs": [
    {
     "data": {
      "text/plain": [
       "array(['Montclair-Boonton', 'Bergen Co. Line ', 'No Jersey Coast',\n",
       "       'Northeast Corrdr', 'Raritan Valley', 'Pascack Valley',\n",
       "       'Main Line', 'Morristown Line', 'Gladstone Branch',\n",
       "       'Princeton Shuttle'], dtype=object)"
      ]
     },
     "execution_count": 33,
     "metadata": {},
     "output_type": "execute_result"
    }
   ],
   "source": [
    "df_2019['line'].unique()"
   ]
  },
  {
   "cell_type": "code",
   "execution_count": 34,
   "metadata": {},
   "outputs": [
    {
     "data": {
      "text/plain": [
       "array(['Hoboken', 'Newark Broad Street', 'Watsessing Avenue',\n",
       "       'Bloomfield', 'Glen Ridge', 'Secaucus Lower Lvl', 'Rutherford',\n",
       "       'Wesmont', 'Garfield', 'Plauderville', 'Broadway Fair Lawn',\n",
       "       'Radburn Fair Lawn', 'Glen Rock Boro Hall', 'Ridgewood',\n",
       "       'Ho-Ho-Kus', 'Long Branch', 'Elberon', 'Allenhurst', 'Asbury Park',\n",
       "       'Bradley Beach', 'Belmar', 'Spring Lake', 'Manasquan',\n",
       "       'Point Pleasant Beach', 'Trenton', 'Hamilton',\n",
       "       'Princeton Junction', 'New Brunswick', 'Edison', 'Metuchen',\n",
       "       'Metropark', 'Rahway', 'Linden', 'Elizabeth', 'Newark Airport',\n",
       "       'Newark Penn Station', 'Secaucus Upper Lvl',\n",
       "       'New York Penn Station', 'Union', 'Roselle Park', 'Cranford',\n",
       "       'Westfield', 'Fanwood', 'Netherwood', 'Plainfield', 'Dunellen',\n",
       "       'Bound Brook', 'Bridgewater', 'Somerville', 'Spring Valley',\n",
       "       'Nanuet', 'Pearl River', 'North Elizabeth', 'Garwood', 'Kingsland',\n",
       "       'Lyndhurst', 'Delawanna', 'Passaic', 'Clifton', 'Paterson',\n",
       "       'Hawthorne', 'Glen Rock Main Line', 'Waldwick', 'Allendale',\n",
       "       'Ramsey Main St', 'Ramsey Route 17', 'Mahwah', 'Suffern', 'Dover',\n",
       "       'Denville', 'Morris Plains', 'Morristown', 'Convent Station',\n",
       "       'Madison', 'Chatham', 'Summit', 'Short Hills', 'Millburn',\n",
       "       'Maplewood', 'South Orange', 'Mountain Station', 'Orange',\n",
       "       'Brick Church', 'East Orange', 'Bay Street', 'Mount Tabor',\n",
       "       'Woodbridge', 'Perth Amboy', 'South Amboy', 'Aberdeen-Matawan',\n",
       "       'Hazlet', 'Middletown NJ', 'Red Bank', 'Little Silver',\n",
       "       'Jersey Avenue', 'Highland Avenue', 'Montclair State U',\n",
       "       'Montclair Heights', 'Mountain Avenue', 'Upper Montclair',\n",
       "       'Watchung Avenue', 'Walnut Street', 'Raritan', 'Wood Ridge',\n",
       "       'Teterboro', 'Essex Street', 'Anderson Street',\n",
       "       'New Bridge Landing', 'River Edge', 'Oradell', 'Emerson',\n",
       "       'Westwood', 'Hillsdale', 'Woodcliff Lake', 'Park Ridge',\n",
       "       'Montvale', 'New Providence', 'Murray Hill', 'Berkeley Heights',\n",
       "       'Gillette', 'Stirling', 'Millington', 'Lyons', 'Basking Ridge',\n",
       "       'Bernardsville', 'Far Hills', 'Peapack', 'Little Falls',\n",
       "       'Wayne-Route 23', 'Mountain View', 'Lincoln Park', 'Towaco',\n",
       "       'Boonton', 'Mountain Lakes', 'Mount Arlington', 'Avenel',\n",
       "       'Lake Hopatcong', 'Netcong', 'Mount Olive', 'Bay Head',\n",
       "       'Gladstone', 'Hackettstown', 'North Branch', 'White House',\n",
       "       'Lebanon', 'Annandale', 'Sloatsburg', 'Tuxedo', 'Harriman',\n",
       "       'Salisbury Mills-Cornwall', 'Campbell Hall', 'Middletown NY',\n",
       "       'Otisville', 'Port Jervis', 'High Bridge', 'Princeton'],\n",
       "      dtype=object)"
      ]
     },
     "execution_count": 34,
     "metadata": {},
     "output_type": "execute_result"
    }
   ],
   "source": [
    "# Stations names - the same for df_2019['to']\n",
    "df_2019['from'].unique()"
   ]
  },
  {
   "cell_type": "code",
   "execution_count": 76,
   "metadata": {},
   "outputs": [],
   "source": [
    "select_categoric = ['status', 'line']"
   ]
  },
  {
   "cell_type": "code",
   "execution_count": 47,
   "metadata": {},
   "outputs": [
    {
     "data": {
      "image/png": "[encoded data removed]",
      "text/plain": [
       "<Figure size 1440x144 with 2 Axes>"
      ]
     },
     "metadata": {
      "needs_background": "light"
     },
     "output_type": "display_data"
    }
   ],
   "source": [
    "total_records= len(df_2019)\n",
    "plt.figure(figsize=(20,2))\n",
    "j=0\n",
    "for i in select_categoric:\n",
    "    j +=1\n",
    "    plt.subplot(1,2,j)\n",
    "    ax1 = sns.countplot(data=df,x= i)\n",
    "    if(j==8 or j== 7):\n",
    "        plt.xticks( rotation=90)\n",
    "    for p in ax1.patches:\n",
    "        height = p.get_height()\n",
    "        ax1.text(p.get_x()+p.get_width()/2.,\n",
    "                height + 3,\n",
    "                '{:1.2f}'.format(height/total_records,0),\n",
    "                ha=\"center\",rotation=0) \n",
    "plt.subplots_adjust(bottom=-0.9, top=2)\n",
    "plt.show()"
   ]
  },
  {
   "cell_type": "code",
   "execution_count": 61,
   "metadata": {
    "scrolled": false
   },
   "outputs": [],
   "source": [
    "d_ontime_count = df_2019['delay_minutes'][df_2019['delay_minutes']<=0].count()\n",
    "d_delay_count = df_2019['delay_minutes'][df_2019['delay_minutes']>0].count()\n",
    "d_cancelled_count = df_2019['status'][df_2019['status'] == 'cancelled'].count()"
   ]
  },
  {
   "cell_type": "code",
   "execution_count": 63,
   "metadata": {},
   "outputs": [
    {
     "data": {
      "image/png": "[encoded data removed]",
      "text/plain": [
       "<Figure size 432x288 with 1 Axes>"
      ]
     },
     "metadata": {},
     "output_type": "display_data"
    }
   ],
   "source": [
    "# Total Status\n",
    "d_status = [d_ontime_count, d_delay_count , d_cancelled_count]\n",
    "labels = 'OnTime', 'Delayed' , 'Cancelled'\n",
    "# Pie chart for totla status\n",
    "plt.pie(d_status, labels = labels, autopct='%1.0f%%',startangle=0)\n",
    "plt.title('NJ Transit Status - First Quarter of 2019')\n",
    "plt.show()"
   ]
  },
  {
   "cell_type": "markdown",
   "metadata": {},
   "source": [
    "A very high percentafge of NJ transit is with delay. This can be a good reason to choose this factor as a target variable when it is needed.<br>\n",
    "Also these variables do not contribute a significant information for the analysis:<br>\n",
    "'type': all the transit is operated by a company<br>\n",
    "'train_id': does not impact significantly on the analysis<br>\n",
    "'from_id': does not impact significantly on the analysis<br>\n",
    "'to_id': does not impact significantly on the analysis<br>\n",
    "So we can drop these variables."
   ]
  },
  {
   "cell_type": "code",
   "execution_count": 57,
   "metadata": {},
   "outputs": [],
   "source": [
    "df_2019 = df_2019.drop(columns=['train_id','from_id','to_id','type'], axis=1)"
   ]
  },
  {
   "cell_type": "code",
   "execution_count": 64,
   "metadata": {},
   "outputs": [
    {
     "data": {
      "text/html": [
       "<div>\n",
       "<style scoped>\n",
       "    .dataframe tbody tr th:only-of-type {\n",
       "        vertical-align: middle;\n",
       "    }\n",
       "\n",
       "    .dataframe tbody tr th {\n",
       "        vertical-align: top;\n",
       "    }\n",
       "\n",
       "    .dataframe thead th {\n",
       "        text-align: right;\n",
       "    }\n",
       "</style>\n",
       "<table border=\"1\" class=\"dataframe\">\n",
       "  <thead>\n",
       "    <tr style=\"text-align: right;\">\n",
       "      <th></th>\n",
       "      <th>date</th>\n",
       "      <th>stop_sequence</th>\n",
       "      <th>from</th>\n",
       "      <th>to</th>\n",
       "      <th>scheduled_time</th>\n",
       "      <th>actual_time</th>\n",
       "      <th>delay_minutes</th>\n",
       "      <th>status</th>\n",
       "      <th>line</th>\n",
       "    </tr>\n",
       "  </thead>\n",
       "  <tbody>\n",
       "    <tr>\n",
       "      <th>6</th>\n",
       "      <td>2019-01-01</td>\n",
       "      <td>1.0</td>\n",
       "      <td>Hoboken</td>\n",
       "      <td>Hoboken</td>\n",
       "      <td>2019-01-01 23:08:00</td>\n",
       "      <td>2019-01-01 23:07:00</td>\n",
       "      <td>0.00</td>\n",
       "      <td>departed</td>\n",
       "      <td>Montclair-Boonton</td>\n",
       "    </tr>\n",
       "    <tr>\n",
       "      <th>7</th>\n",
       "      <td>2019-01-01</td>\n",
       "      <td>2.0</td>\n",
       "      <td>Hoboken</td>\n",
       "      <td>Newark Broad Street</td>\n",
       "      <td>2019-01-01 23:26:00</td>\n",
       "      <td>2019-01-01 23:32:39</td>\n",
       "      <td>6.65</td>\n",
       "      <td>departed</td>\n",
       "      <td>Montclair-Boonton</td>\n",
       "    </tr>\n",
       "    <tr>\n",
       "      <th>8</th>\n",
       "      <td>2019-01-01</td>\n",
       "      <td>3.0</td>\n",
       "      <td>Newark Broad Street</td>\n",
       "      <td>Watsessing Avenue</td>\n",
       "      <td>2019-01-01 23:38:00</td>\n",
       "      <td>2019-01-01 23:40:00</td>\n",
       "      <td>2.00</td>\n",
       "      <td>estimated</td>\n",
       "      <td>Montclair-Boonton</td>\n",
       "    </tr>\n",
       "    <tr>\n",
       "      <th>9</th>\n",
       "      <td>2019-01-01</td>\n",
       "      <td>4.0</td>\n",
       "      <td>Watsessing Avenue</td>\n",
       "      <td>Bloomfield</td>\n",
       "      <td>2019-01-01 23:40:00</td>\n",
       "      <td>2019-01-01 23:43:00</td>\n",
       "      <td>3.00</td>\n",
       "      <td>estimated</td>\n",
       "      <td>Montclair-Boonton</td>\n",
       "    </tr>\n",
       "    <tr>\n",
       "      <th>10</th>\n",
       "      <td>2019-01-01</td>\n",
       "      <td>5.0</td>\n",
       "      <td>Bloomfield</td>\n",
       "      <td>Glen Ridge</td>\n",
       "      <td>2019-01-01 23:43:00</td>\n",
       "      <td>2019-01-01 23:45:00</td>\n",
       "      <td>2.00</td>\n",
       "      <td>estimated</td>\n",
       "      <td>Montclair-Boonton</td>\n",
       "    </tr>\n",
       "  </tbody>\n",
       "</table>\n",
       "</div>"
      ],
      "text/plain": [
       "          date  stop_sequence                 from                   to  \\\n",
       "6   2019-01-01            1.0              Hoboken              Hoboken   \n",
       "7   2019-01-01            2.0              Hoboken  Newark Broad Street   \n",
       "8   2019-01-01            3.0  Newark Broad Street    Watsessing Avenue   \n",
       "9   2019-01-01            4.0    Watsessing Avenue           Bloomfield   \n",
       "10  2019-01-01            5.0           Bloomfield           Glen Ridge   \n",
       "\n",
       "         scheduled_time          actual_time  delay_minutes     status  \\\n",
       "6   2019-01-01 23:08:00  2019-01-01 23:07:00           0.00   departed   \n",
       "7   2019-01-01 23:26:00  2019-01-01 23:32:39           6.65   departed   \n",
       "8   2019-01-01 23:38:00  2019-01-01 23:40:00           2.00  estimated   \n",
       "9   2019-01-01 23:40:00  2019-01-01 23:43:00           3.00  estimated   \n",
       "10  2019-01-01 23:43:00  2019-01-01 23:45:00           2.00  estimated   \n",
       "\n",
       "                 line  \n",
       "6   Montclair-Boonton  \n",
       "7   Montclair-Boonton  \n",
       "8   Montclair-Boonton  \n",
       "9   Montclair-Boonton  \n",
       "10  Montclair-Boonton  "
      ]
     },
     "execution_count": 64,
     "metadata": {},
     "output_type": "execute_result"
    }
   ],
   "source": [
    "df_2019.head()"
   ]
  },
  {
   "cell_type": "code",
   "execution_count": null,
   "metadata": {},
   "outputs": [],
   "source": []
  }
 ],
 "metadata": {
  "kernelspec": {
   "display_name": "Python 3",
   "language": "python",
   "name": "python3"
  },
  "language_info": {
   "codemirror_mode": {
    "name": "ipython",
    "version": 3
   },
   "file_extension": ".py",
   "mimetype": "text/x-python",
   "name": "python",
   "nbconvert_exporter": "python",
   "pygments_lexer": "ipython3",
   "version": "3.7.3"
  }
 },
 "nbformat": 4,
 "nbformat_minor": 2
}
