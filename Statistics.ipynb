{
 "cells": [
  {
   "cell_type": "code",
   "execution_count": 57,
   "metadata": {},
   "outputs": [],
   "source": [
    "import numpy as np\n",
    "import pandas as pd\n",
    "\n",
    "def pick_mode(series):\n",
    "\n",
    "    \n",
    "    (values, counts) = np.unique(series, return_counts=True)\n",
    "    ind = np.argmax(counts)\n",
    "    return values[ind]\n",
    "    \n",
    "def calculate_stat_s(series):\n",
    "    mean = np.mean(series)\n",
    "    median = np.median(series)\n",
    "    mode = pick_mode(series)\n",
    "    variance = np.var(series)\n",
    "    sd = np.std(series)\n",
    "    se = sd / np.sqrt(len(series) -1)\n",
    "    print('Mean = ', mean)\n",
    "    print('Median = ', median)\n",
    "    print('Mode = ', mode)\n",
    "    print('Variance = ', variance)\n",
    "    print('Standard deviarion = ', sd)\n",
    "    print('Standard error = ', se)"
   ]
  },
  {
   "cell_type": "code",
   "execution_count": 30,
   "metadata": {},
   "outputs": [
    {
     "name": "stdout",
     "output_type": "stream",
     "text": [
      "Mean =  9.857142857142858\n",
      "Median =  10.0\n",
      "Mode =  8\n",
      "Variance =  6.408163265306122\n",
      "Standard deviarion =  2.531435020952764\n",
      "Standard error =  1.0334540197243194\n"
     ]
    }
   ],
   "source": [
    "a1 = [14, 12, 11, 10, 8, 6, 8]\n",
    "calculate_stat_s(a1)\n"
   ]
  },
  {
   "cell_type": "code",
   "execution_count": 58,
   "metadata": {},
   "outputs": [
    {
     "name": "stdout",
     "output_type": "stream",
     "text": [
      "Mean =  10.0\n",
      "Median =  10.0\n",
      "Mode =  8\n",
      "Variance =  5.428571428571429\n",
      "Standard deviarion =  2.32992949004287\n",
      "Standard error =  0.951189731211342\n"
     ]
    }
   ],
   "source": [
    "a2 = [14, 12, 11, 10, 8, 7, 8]\n",
    "calculate_stat_s(a2)"
   ]
  },
  {
   "cell_type": "code",
   "execution_count": 54,
   "metadata": {},
   "outputs": [
    {
     "name": "stdout",
     "output_type": "stream",
     "text": [
      "Mean =  9.0\n",
      "Median =  10.0\n",
      "Mode =  none\n",
      "Variance =  15.428571428571429\n",
      "Standard deviarion =  3.927922024247863\n",
      "Standard error =  1.6035674514745466\n"
     ]
    }
   ],
   "source": [
    "a3 = [14, 12, 11, 10, 8, 7, 1]\n",
    "calculate_stat_s(a3)"
   ]
  },
  {
   "cell_type": "code",
   "execution_count": null,
   "metadata": {},
   "outputs": [],
   "source": []
  }
 ],
 "metadata": {
  "kernelspec": {
   "display_name": "Python 3",
   "language": "python",
   "name": "python3"
  },
  "language_info": {
   "codemirror_mode": {
    "name": "ipython",
    "version": 3
   },
   "file_extension": ".py",
   "mimetype": "text/x-python",
   "name": "python",
   "nbconvert_exporter": "python",
   "pygments_lexer": "ipython3",
   "version": "3.7.3"
  }
 },
 "nbformat": 4,
 "nbformat_minor": 2
}
