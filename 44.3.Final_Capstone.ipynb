{
 "cells": [
  {
   "cell_type": "markdown",
   "metadata": {},
   "source": [
    "# Final Capstone\n",
    "\n",
    "# Project Title: TalkingData User Demographics\n",
    "\n",
    "### In this project the data collected by TalkingData, China’s largest third-party mobile data platform, will be used. The data set can be found on kaggle website link bellow:\n",
    "https://www.kaggle.com/c/talkingdata-mobile-user-demographics\n",
    "### TalkingData is seeking to leverage behavioral data from more than 70% of the 500 million mobile devices active daily in China to help its clients better understand and interact with their audiences. The datas set will be used to build a model predicting users’ demographic characteristics based on their app usage, geolocation, and mobile device properties.\n",
    "### File descriptions:\n",
    "<br>gender_age_train.csv: the train set\n",
    "<br> gender_age_test.csv: the test set\n",
    "<br> events.csv: when a user uses TalkingData SDK, the event gets logged in this data. Each event has an event id, location (lat/long)\n",
    "<br> app_events.csv: the event corresponds to a list of apps in app_events.\n",
    "<br> app_labels.csv: apps and their labels, the label_id's can be used to join with label_categories\n",
    "<br> label_categories.csv: apps' labels and their categories in text\n",
    "<br> phone_brand_device_model.csv: device ids, brand, and models \n",
    "\n",
    "### Notes:\n",
    "<br> 'group' in gender_age_train.csv areage groups which is the target variable we are going to predict\n",
    "<br> 'timestamp' in events.csv referrs to when the user is using an app with TalkingData SDK\n",
    "<br> 'phone_brands' in phone_brand_device_model.csv are in Chinese\n",
    "\n",
    "### Project Goal:\n",
    "<br> Given the data set, the gender, age, type of device, and which phone brand used by a user will be used in order to accurately classify and predict the age range and gender of that individual."
   ]
  },
  {
   "cell_type": "code",
   "execution_count": 1,
   "metadata": {},
   "outputs": [
    {
     "name": "stderr",
     "output_type": "stream",
     "text": [
      "C:\\Users\\Fazel\\Anaconda3\\lib\\site-packages\\statsmodels\\tools\\_testing.py:19: FutureWarning: pandas.util.testing is deprecated. Use the functions in the public API at pandas.testing instead.\n",
      "  import pandas.util.testing as tm\n"
     ]
    }
   ],
   "source": [
    "# Load necessary libraries\n",
    "import pandas as pd\n",
    "import numpy as np\n",
    "%matplotlib inline\n",
    "import matplotlib.pyplot as plt\n",
    "import seaborn as sns\n",
    "from sklearn.preprocessing import LabelEncoder\n",
    "from sklearn.model_selection import train_test_split, cross_validate, cross_val_score, GridSearchCV\n",
    "from sklearn.utils import resample\n",
    "from sklearn.preprocessing import StandardScaler\n",
    "from sklearn.decomposition import PCA\n",
    "from sklearn.feature_selection import SelectKBest, f_regression\n",
    "from sklearn.naive_bayes import GaussianNB\n",
    "from sklearn.metrics import classification_report\n",
    "from sklearn.metrics import confusion_matrix\n",
    "from sklearn.metrics import accuracy_score\n",
    "from sklearn.neighbors import KNeighborsClassifier\n",
    "from sklearn import tree\n",
    "from sklearn.ensemble import RandomForestClassifier\n",
    "from sklearn.linear_model import LogisticRegression\n",
    "from sklearn.svm import LinearSVC\n",
    "from sklearn import preprocessing\n",
    "from time import perf_counter\n"
   ]
  },
  {
   "cell_type": "code",
   "execution_count": 2,
   "metadata": {},
   "outputs": [],
   "source": [
    "# Read information from csv files\n",
    "gender_age_train = pd.read_csv(\"../Fazel/talkingdata-mobile-user-demographics/gender_age_train.csv\")\n",
    "gender_age_test = pd.read_csv(\"../Fazel/talkingdata-mobile-user-demographics/gender_age_test.csv\")\n",
    "events = pd.read_csv(\"../Fazel/talkingdata-mobile-user-demographics/events.csv\")\n",
    "app_events = pd.read_csv(\"../Fazel/talkingdata-mobile-user-demographics/app_events.csv\")\n",
    "app_labels = pd.read_csv(\"../Fazel/talkingdata-mobile-user-demographics/app_labels.csv\")\n",
    "label_categories = pd.read_csv(\"../Fazel/talkingdata-mobile-user-demographics/label_categories.csv\")\n",
    "phone_brand_device_model = pd.read_csv(\"../Fazel/talkingdata-mobile-user-demographics/phone_brand_device_model.csv\")"
   ]
  },
  {
   "cell_type": "markdown",
   "metadata": {},
   "source": [
    "# Exploratory Data Analysis"
   ]
  },
  {
   "cell_type": "code",
   "execution_count": 3,
   "metadata": {},
   "outputs": [
    {
     "name": "stdout",
     "output_type": "stream",
     "text": [
      "(74645, 4)\n"
     ]
    },
    {
     "data": {
      "text/html": [
       "<div>\n",
       "<style scoped>\n",
       "    .dataframe tbody tr th:only-of-type {\n",
       "        vertical-align: middle;\n",
       "    }\n",
       "\n",
       "    .dataframe tbody tr th {\n",
       "        vertical-align: top;\n",
       "    }\n",
       "\n",
       "    .dataframe thead th {\n",
       "        text-align: right;\n",
       "    }\n",
       "</style>\n",
       "<table border=\"1\" class=\"dataframe\">\n",
       "  <thead>\n",
       "    <tr style=\"text-align: right;\">\n",
       "      <th></th>\n",
       "      <th>device_id</th>\n",
       "      <th>gender</th>\n",
       "      <th>age</th>\n",
       "      <th>group</th>\n",
       "    </tr>\n",
       "  </thead>\n",
       "  <tbody>\n",
       "    <tr>\n",
       "      <th>0</th>\n",
       "      <td>-8076087639492063270</td>\n",
       "      <td>M</td>\n",
       "      <td>35</td>\n",
       "      <td>M32-38</td>\n",
       "    </tr>\n",
       "    <tr>\n",
       "      <th>1</th>\n",
       "      <td>-2897161552818060146</td>\n",
       "      <td>M</td>\n",
       "      <td>35</td>\n",
       "      <td>M32-38</td>\n",
       "    </tr>\n",
       "    <tr>\n",
       "      <th>2</th>\n",
       "      <td>-8260683887967679142</td>\n",
       "      <td>M</td>\n",
       "      <td>35</td>\n",
       "      <td>M32-38</td>\n",
       "    </tr>\n",
       "    <tr>\n",
       "      <th>3</th>\n",
       "      <td>-4938849341048082022</td>\n",
       "      <td>M</td>\n",
       "      <td>30</td>\n",
       "      <td>M29-31</td>\n",
       "    </tr>\n",
       "    <tr>\n",
       "      <th>4</th>\n",
       "      <td>245133531816851882</td>\n",
       "      <td>M</td>\n",
       "      <td>30</td>\n",
       "      <td>M29-31</td>\n",
       "    </tr>\n",
       "  </tbody>\n",
       "</table>\n",
       "</div>"
      ],
      "text/plain": [
       "             device_id gender  age   group\n",
       "0 -8076087639492063270      M   35  M32-38\n",
       "1 -2897161552818060146      M   35  M32-38\n",
       "2 -8260683887967679142      M   35  M32-38\n",
       "3 -4938849341048082022      M   30  M29-31\n",
       "4   245133531816851882      M   30  M29-31"
      ]
     },
     "execution_count": 3,
     "metadata": {},
     "output_type": "execute_result"
    }
   ],
   "source": [
    "print(gender_age_train.shape)\n",
    "gender_age_train.head()"
   ]
  },
  {
   "cell_type": "code",
   "execution_count": 9,
   "metadata": {},
   "outputs": [
    {
     "data": {
      "image/png": "[encoded data removed]",
      "text/plain": [
       "<Figure size 1440x144 with 2 Axes>"
      ]
     },
     "metadata": {
      "needs_background": "light"
     },
     "output_type": "display_data"
    }
   ],
   "source": [
    "select_categoric = ['gender', 'group']\n",
    "total_records= len(gender_age_train)\n",
    "plt.figure(figsize=(20,2))\n",
    "j=0\n",
    "for i in select_categoric:\n",
    "    j +=1\n",
    "    plt.subplot(1,2,j)\n",
    "    ax1 = sns.countplot(data=gender_age_train, x= i)\n",
    "    if(j==8 or j== 7):\n",
    "        plt.xticks( rotation=90)\n",
    "    for p in ax1.patches:\n",
    "        height = p.get_height()\n",
    "        ax1.text(p.get_x()+p.get_width()/2.,\n",
    "                height + 3,\n",
    "                '{:1.2f}%'.format((height/total_records)*100,0),\n",
    "                ha=\"center\",rotation=0) \n",
    "plt.subplots_adjust(bottom=-0.9, top=2)\n",
    "plt.show()"
   ]
  },
  {
   "cell_type": "code",
   "execution_count": 33,
   "metadata": {},
   "outputs": [
    {
     "data": {
      "text/plain": [
       "M23-26    9605\n",
       "M32-38    9476\n",
       "M39+      8581\n",
       "M22-      7488\n",
       "M29-31    7309\n",
       "F33-42    5561\n",
       "M27-28    5445\n",
       "F23-      5050\n",
       "F29-32    4628\n",
       "F43+      4194\n",
       "F24-26    4190\n",
       "F27-28    3118\n",
       "Name: group, dtype: int64"
      ]
     },
     "execution_count": 33,
     "metadata": {},
     "output_type": "execute_result"
    }
   ],
   "source": [
    "# Check numerical value of age groups\n",
    "gender_age_train.group.value_counts()"
   ]
  },
  {
   "cell_type": "markdown",
   "metadata": {},
   "source": [
    "The graphs of the two most iterested variables for our prediction models show that the percentage of male users is pretty higher than female users, and young male users are the most of all users. Because the age groups contain deferent amount of users, and it will be our target variable in the prediction models, we will need to balance the dataset to avoid overfitting our models."
   ]
  },
  {
   "cell_type": "code",
   "execution_count": 10,
   "metadata": {},
   "outputs": [
    {
     "data": {
      "image/png": "[encoded data removed]",
      "text/plain": [
       "<Figure size 864x576 with 1 Axes>"
      ]
     },
     "metadata": {
      "needs_background": "light"
     },
     "output_type": "display_data"
    }
   ],
   "source": [
    "# Distribution of Age\n",
    "fig,ax = plt.subplots(figsize=(12,8))\n",
    "plt.title('Distribution of Age')\n",
    "plt.xlabel('Ages')\n",
    "plt.ylabel('Count')\n",
    "sns.distplot(gender_age_train.age);"
   ]
  },
  {
   "cell_type": "markdown",
   "metadata": {},
   "source": [
    "Looking at the graph of age distribution we can see that the most users are belonged to category of young users. \n",
    "Also the age is the only variable in entire data set that could have outlier problem. This graph show that there is no need to concern about this type of problem. I will do necessary steps for dealing with missin values in a few next steps."
   ]
  },
  {
   "cell_type": "code",
   "execution_count": 14,
   "metadata": {},
   "outputs": [
    {
     "name": "stdout",
     "output_type": "stream",
     "text": [
      "(112071, 1)\n"
     ]
    },
    {
     "data": {
      "text/html": [
       "<div>\n",
       "<style scoped>\n",
       "    .dataframe tbody tr th:only-of-type {\n",
       "        vertical-align: middle;\n",
       "    }\n",
       "\n",
       "    .dataframe tbody tr th {\n",
       "        vertical-align: top;\n",
       "    }\n",
       "\n",
       "    .dataframe thead th {\n",
       "        text-align: right;\n",
       "    }\n",
       "</style>\n",
       "<table border=\"1\" class=\"dataframe\">\n",
       "  <thead>\n",
       "    <tr style=\"text-align: right;\">\n",
       "      <th></th>\n",
       "      <th>device_id</th>\n",
       "    </tr>\n",
       "  </thead>\n",
       "  <tbody>\n",
       "    <tr>\n",
       "      <th>0</th>\n",
       "      <td>1002079943728939269</td>\n",
       "    </tr>\n",
       "    <tr>\n",
       "      <th>1</th>\n",
       "      <td>-1547860181818787117</td>\n",
       "    </tr>\n",
       "    <tr>\n",
       "      <th>2</th>\n",
       "      <td>7374582448058474277</td>\n",
       "    </tr>\n",
       "    <tr>\n",
       "      <th>3</th>\n",
       "      <td>-6220210354783429585</td>\n",
       "    </tr>\n",
       "    <tr>\n",
       "      <th>4</th>\n",
       "      <td>-5893464122623104785</td>\n",
       "    </tr>\n",
       "  </tbody>\n",
       "</table>\n",
       "</div>"
      ],
      "text/plain": [
       "             device_id\n",
       "0  1002079943728939269\n",
       "1 -1547860181818787117\n",
       "2  7374582448058474277\n",
       "3 -6220210354783429585\n",
       "4 -5893464122623104785"
      ]
     },
     "execution_count": 14,
     "metadata": {},
     "output_type": "execute_result"
    }
   ],
   "source": [
    "print(gender_age_test.shape)\n",
    "gender_age_test.head()"
   ]
  },
  {
   "cell_type": "markdown",
   "metadata": {},
   "source": [
    "The test file contains just device_id. We probably need to some merges on the files."
   ]
  },
  {
   "cell_type": "code",
   "execution_count": 15,
   "metadata": {},
   "outputs": [
    {
     "name": "stdout",
     "output_type": "stream",
     "text": [
      "(3252950, 5)\n"
     ]
    },
    {
     "data": {
      "text/html": [
       "<div>\n",
       "<style scoped>\n",
       "    .dataframe tbody tr th:only-of-type {\n",
       "        vertical-align: middle;\n",
       "    }\n",
       "\n",
       "    .dataframe tbody tr th {\n",
       "        vertical-align: top;\n",
       "    }\n",
       "\n",
       "    .dataframe thead th {\n",
       "        text-align: right;\n",
       "    }\n",
       "</style>\n",
       "<table border=\"1\" class=\"dataframe\">\n",
       "  <thead>\n",
       "    <tr style=\"text-align: right;\">\n",
       "      <th></th>\n",
       "      <th>event_id</th>\n",
       "      <th>device_id</th>\n",
       "      <th>timestamp</th>\n",
       "      <th>longitude</th>\n",
       "      <th>latitude</th>\n",
       "    </tr>\n",
       "  </thead>\n",
       "  <tbody>\n",
       "    <tr>\n",
       "      <th>0</th>\n",
       "      <td>1</td>\n",
       "      <td>29182687948017175</td>\n",
       "      <td>2016-05-01 00:55:25</td>\n",
       "      <td>121.38</td>\n",
       "      <td>31.24</td>\n",
       "    </tr>\n",
       "    <tr>\n",
       "      <th>1</th>\n",
       "      <td>2</td>\n",
       "      <td>-6401643145415154744</td>\n",
       "      <td>2016-05-01 00:54:12</td>\n",
       "      <td>103.65</td>\n",
       "      <td>30.97</td>\n",
       "    </tr>\n",
       "    <tr>\n",
       "      <th>2</th>\n",
       "      <td>3</td>\n",
       "      <td>-4833982096941402721</td>\n",
       "      <td>2016-05-01 00:08:05</td>\n",
       "      <td>106.60</td>\n",
       "      <td>29.70</td>\n",
       "    </tr>\n",
       "    <tr>\n",
       "      <th>3</th>\n",
       "      <td>4</td>\n",
       "      <td>-6815121365017318426</td>\n",
       "      <td>2016-05-01 00:06:40</td>\n",
       "      <td>104.27</td>\n",
       "      <td>23.28</td>\n",
       "    </tr>\n",
       "    <tr>\n",
       "      <th>4</th>\n",
       "      <td>5</td>\n",
       "      <td>-5373797595892518570</td>\n",
       "      <td>2016-05-01 00:07:18</td>\n",
       "      <td>115.88</td>\n",
       "      <td>28.66</td>\n",
       "    </tr>\n",
       "  </tbody>\n",
       "</table>\n",
       "</div>"
      ],
      "text/plain": [
       "   event_id            device_id            timestamp  longitude  latitude\n",
       "0         1    29182687948017175  2016-05-01 00:55:25     121.38     31.24\n",
       "1         2 -6401643145415154744  2016-05-01 00:54:12     103.65     30.97\n",
       "2         3 -4833982096941402721  2016-05-01 00:08:05     106.60     29.70\n",
       "3         4 -6815121365017318426  2016-05-01 00:06:40     104.27     23.28\n",
       "4         5 -5373797595892518570  2016-05-01 00:07:18     115.88     28.66"
      ]
     },
     "execution_count": 15,
     "metadata": {},
     "output_type": "execute_result"
    }
   ],
   "source": [
    "print(events.shape)\n",
    "events.head()"
   ]
  },
  {
   "cell_type": "code",
   "execution_count": 16,
   "metadata": {},
   "outputs": [
    {
     "name": "stdout",
     "output_type": "stream",
     "text": [
      "(32473067, 4)\n"
     ]
    },
    {
     "data": {
      "text/html": [
       "<div>\n",
       "<style scoped>\n",
       "    .dataframe tbody tr th:only-of-type {\n",
       "        vertical-align: middle;\n",
       "    }\n",
       "\n",
       "    .dataframe tbody tr th {\n",
       "        vertical-align: top;\n",
       "    }\n",
       "\n",
       "    .dataframe thead th {\n",
       "        text-align: right;\n",
       "    }\n",
       "</style>\n",
       "<table border=\"1\" class=\"dataframe\">\n",
       "  <thead>\n",
       "    <tr style=\"text-align: right;\">\n",
       "      <th></th>\n",
       "      <th>event_id</th>\n",
       "      <th>app_id</th>\n",
       "      <th>is_installed</th>\n",
       "      <th>is_active</th>\n",
       "    </tr>\n",
       "  </thead>\n",
       "  <tbody>\n",
       "    <tr>\n",
       "      <th>0</th>\n",
       "      <td>2</td>\n",
       "      <td>5927333115845830913</td>\n",
       "      <td>1</td>\n",
       "      <td>1</td>\n",
       "    </tr>\n",
       "    <tr>\n",
       "      <th>1</th>\n",
       "      <td>2</td>\n",
       "      <td>-5720078949152207372</td>\n",
       "      <td>1</td>\n",
       "      <td>0</td>\n",
       "    </tr>\n",
       "    <tr>\n",
       "      <th>2</th>\n",
       "      <td>2</td>\n",
       "      <td>-1633887856876571208</td>\n",
       "      <td>1</td>\n",
       "      <td>0</td>\n",
       "    </tr>\n",
       "    <tr>\n",
       "      <th>3</th>\n",
       "      <td>2</td>\n",
       "      <td>-653184325010919369</td>\n",
       "      <td>1</td>\n",
       "      <td>1</td>\n",
       "    </tr>\n",
       "    <tr>\n",
       "      <th>4</th>\n",
       "      <td>2</td>\n",
       "      <td>8693964245073640147</td>\n",
       "      <td>1</td>\n",
       "      <td>1</td>\n",
       "    </tr>\n",
       "  </tbody>\n",
       "</table>\n",
       "</div>"
      ],
      "text/plain": [
       "   event_id               app_id  is_installed  is_active\n",
       "0         2  5927333115845830913             1          1\n",
       "1         2 -5720078949152207372             1          0\n",
       "2         2 -1633887856876571208             1          0\n",
       "3         2  -653184325010919369             1          1\n",
       "4         2  8693964245073640147             1          1"
      ]
     },
     "execution_count": 16,
     "metadata": {},
     "output_type": "execute_result"
    }
   ],
   "source": [
    "print(app_events.shape)\n",
    "app_events.head()"
   ]
  },
  {
   "cell_type": "code",
   "execution_count": 31,
   "metadata": {
    "scrolled": true
   },
   "outputs": [
    {
     "data": {
      "image/png": "[encoded data removed]",
      "text/plain": [
       "<Figure size 432x288 with 1 Axes>"
      ]
     },
     "metadata": {
      "needs_background": "light"
     },
     "output_type": "display_data"
    },
    {
     "data": {
      "text/plain": [
       "0    19740071\n",
       "1    12732996\n",
       "Name: is_active, dtype: int64"
      ]
     },
     "execution_count": 31,
     "metadata": {},
     "output_type": "execute_result"
    }
   ],
   "source": [
    "# View value counts for active users\n",
    "ax = sns.countplot('is_active', data=app_events, label='Not Active')\n",
    "plt.title('Is the User Active?')\n",
    "ax.legend()\n",
    "plt.show()\n",
    "pd.value_counts(app_events['is_active'])"
   ]
  },
  {
   "cell_type": "code",
   "execution_count": 36,
   "metadata": {},
   "outputs": [
    {
     "data": {
      "image/png": "[encoded data removed]",
      "text/plain": [
       "<Figure size 432x288 with 1 Axes>"
      ]
     },
     "metadata": {
      "needs_background": "light"
     },
     "output_type": "display_data"
    },
    {
     "data": {
      "text/plain": [
       "1    32473067\n",
       "Name: is_installed, dtype: int64"
      ]
     },
     "execution_count": 36,
     "metadata": {},
     "output_type": "execute_result"
    }
   ],
   "source": [
    "# View value counts for active users\n",
    "ax = sns.countplot('is_installed', data=app_events)\n",
    "plt.title('Is the app installed?')\n",
    "plt.show()\n",
    "pd.value_counts(app_events['is_installed'])"
   ]
  },
  {
   "cell_type": "code",
   "execution_count": 40,
   "metadata": {},
   "outputs": [
    {
     "name": "stdout",
     "output_type": "stream",
     "text": [
      "(459943, 2)\n"
     ]
    },
    {
     "data": {
      "text/html": [
       "<div>\n",
       "<style scoped>\n",
       "    .dataframe tbody tr th:only-of-type {\n",
       "        vertical-align: middle;\n",
       "    }\n",
       "\n",
       "    .dataframe tbody tr th {\n",
       "        vertical-align: top;\n",
       "    }\n",
       "\n",
       "    .dataframe thead th {\n",
       "        text-align: right;\n",
       "    }\n",
       "</style>\n",
       "<table border=\"1\" class=\"dataframe\">\n",
       "  <thead>\n",
       "    <tr style=\"text-align: right;\">\n",
       "      <th></th>\n",
       "      <th>app_id</th>\n",
       "      <th>label_id</th>\n",
       "    </tr>\n",
       "  </thead>\n",
       "  <tbody>\n",
       "    <tr>\n",
       "      <th>0</th>\n",
       "      <td>7324884708820027918</td>\n",
       "      <td>251</td>\n",
       "    </tr>\n",
       "    <tr>\n",
       "      <th>1</th>\n",
       "      <td>-4494216993218550286</td>\n",
       "      <td>251</td>\n",
       "    </tr>\n",
       "    <tr>\n",
       "      <th>2</th>\n",
       "      <td>6058196446775239644</td>\n",
       "      <td>406</td>\n",
       "    </tr>\n",
       "    <tr>\n",
       "      <th>3</th>\n",
       "      <td>6058196446775239644</td>\n",
       "      <td>407</td>\n",
       "    </tr>\n",
       "    <tr>\n",
       "      <th>4</th>\n",
       "      <td>8694625920731541625</td>\n",
       "      <td>406</td>\n",
       "    </tr>\n",
       "  </tbody>\n",
       "</table>\n",
       "</div>"
      ],
      "text/plain": [
       "                app_id  label_id\n",
       "0  7324884708820027918       251\n",
       "1 -4494216993218550286       251\n",
       "2  6058196446775239644       406\n",
       "3  6058196446775239644       407\n",
       "4  8694625920731541625       406"
      ]
     },
     "execution_count": 40,
     "metadata": {},
     "output_type": "execute_result"
    }
   ],
   "source": [
    "print(app_labels.shape)\n",
    "app_labels.head()"
   ]
  },
  {
   "cell_type": "code",
   "execution_count": 38,
   "metadata": {},
   "outputs": [
    {
     "name": "stdout",
     "output_type": "stream",
     "text": [
      "app_id      113211\n",
      "label_id       507\n",
      "dtype: int64\n"
     ]
    }
   ],
   "source": [
    "print(app_labels.nunique())"
   ]
  },
  {
   "cell_type": "code",
   "execution_count": 19,
   "metadata": {},
   "outputs": [
    {
     "name": "stdout",
     "output_type": "stream",
     "text": [
      "(930, 2)\n"
     ]
    },
    {
     "data": {
      "text/html": [
       "<div>\n",
       "<style scoped>\n",
       "    .dataframe tbody tr th:only-of-type {\n",
       "        vertical-align: middle;\n",
       "    }\n",
       "\n",
       "    .dataframe tbody tr th {\n",
       "        vertical-align: top;\n",
       "    }\n",
       "\n",
       "    .dataframe thead th {\n",
       "        text-align: right;\n",
       "    }\n",
       "</style>\n",
       "<table border=\"1\" class=\"dataframe\">\n",
       "  <thead>\n",
       "    <tr style=\"text-align: right;\">\n",
       "      <th></th>\n",
       "      <th>label_id</th>\n",
       "      <th>category</th>\n",
       "    </tr>\n",
       "  </thead>\n",
       "  <tbody>\n",
       "    <tr>\n",
       "      <th>0</th>\n",
       "      <td>1</td>\n",
       "      <td>NaN</td>\n",
       "    </tr>\n",
       "    <tr>\n",
       "      <th>1</th>\n",
       "      <td>2</td>\n",
       "      <td>game-game type</td>\n",
       "    </tr>\n",
       "    <tr>\n",
       "      <th>2</th>\n",
       "      <td>3</td>\n",
       "      <td>game-Game themes</td>\n",
       "    </tr>\n",
       "    <tr>\n",
       "      <th>3</th>\n",
       "      <td>4</td>\n",
       "      <td>game-Art Style</td>\n",
       "    </tr>\n",
       "    <tr>\n",
       "      <th>4</th>\n",
       "      <td>5</td>\n",
       "      <td>game-Leisure time</td>\n",
       "    </tr>\n",
       "  </tbody>\n",
       "</table>\n",
       "</div>"
      ],
      "text/plain": [
       "   label_id           category\n",
       "0         1                NaN\n",
       "1         2     game-game type\n",
       "2         3   game-Game themes\n",
       "3         4     game-Art Style\n",
       "4         5  game-Leisure time"
      ]
     },
     "execution_count": 19,
     "metadata": {},
     "output_type": "execute_result"
    }
   ],
   "source": [
    "print(label_categories.shape)\n",
    "label_categories.head()"
   ]
  },
  {
   "cell_type": "code",
   "execution_count": 41,
   "metadata": {},
   "outputs": [
    {
     "name": "stdout",
     "output_type": "stream",
     "text": [
      "label_id    930\n",
      "category    835\n",
      "dtype: int64\n"
     ]
    }
   ],
   "source": [
    "print(label_categories.nunique())"
   ]
  },
  {
   "cell_type": "code",
   "execution_count": 21,
   "metadata": {
    "scrolled": true
   },
   "outputs": [
    {
     "name": "stdout",
     "output_type": "stream",
     "text": [
      "(187245, 3)\n"
     ]
    },
    {
     "data": {
      "text/html": [
       "<div>\n",
       "<style scoped>\n",
       "    .dataframe tbody tr th:only-of-type {\n",
       "        vertical-align: middle;\n",
       "    }\n",
       "\n",
       "    .dataframe tbody tr th {\n",
       "        vertical-align: top;\n",
       "    }\n",
       "\n",
       "    .dataframe thead th {\n",
       "        text-align: right;\n",
       "    }\n",
       "</style>\n",
       "<table border=\"1\" class=\"dataframe\">\n",
       "  <thead>\n",
       "    <tr style=\"text-align: right;\">\n",
       "      <th></th>\n",
       "      <th>device_id</th>\n",
       "      <th>phone_brand</th>\n",
       "      <th>device_model</th>\n",
       "    </tr>\n",
       "  </thead>\n",
       "  <tbody>\n",
       "    <tr>\n",
       "      <th>0</th>\n",
       "      <td>-8890648629457979026</td>\n",
       "      <td>小米</td>\n",
       "      <td>红米</td>\n",
       "    </tr>\n",
       "    <tr>\n",
       "      <th>1</th>\n",
       "      <td>1277779817574759137</td>\n",
       "      <td>小米</td>\n",
       "      <td>MI 2</td>\n",
       "    </tr>\n",
       "    <tr>\n",
       "      <th>2</th>\n",
       "      <td>5137427614288105724</td>\n",
       "      <td>三星</td>\n",
       "      <td>Galaxy S4</td>\n",
       "    </tr>\n",
       "    <tr>\n",
       "      <th>3</th>\n",
       "      <td>3669464369358936369</td>\n",
       "      <td>SUGAR</td>\n",
       "      <td>时尚手机</td>\n",
       "    </tr>\n",
       "    <tr>\n",
       "      <th>4</th>\n",
       "      <td>-5019277647504317457</td>\n",
       "      <td>三星</td>\n",
       "      <td>Galaxy Note 2</td>\n",
       "    </tr>\n",
       "  </tbody>\n",
       "</table>\n",
       "</div>"
      ],
      "text/plain": [
       "             device_id phone_brand   device_model\n",
       "0 -8890648629457979026          小米             红米\n",
       "1  1277779817574759137          小米           MI 2\n",
       "2  5137427614288105724          三星      Galaxy S4\n",
       "3  3669464369358936369       SUGAR           时尚手机\n",
       "4 -5019277647504317457          三星  Galaxy Note 2"
      ]
     },
     "execution_count": 21,
     "metadata": {},
     "output_type": "execute_result"
    }
   ],
   "source": [
    "print(phone_brand_device_model.shape)\n",
    "phone_brand_device_model.head()"
   ]
  },
  {
   "cell_type": "code",
   "execution_count": 45,
   "metadata": {},
   "outputs": [
    {
     "name": "stdout",
     "output_type": "stream",
     "text": [
      "device_id       186716\n",
      "phone_brand        131\n",
      "device_model      1599\n",
      "dtype: int64\n"
     ]
    }
   ],
   "source": [
    "print(phone_brand_device_model.nunique())"
   ]
  },
  {
   "cell_type": "code",
   "execution_count": 43,
   "metadata": {},
   "outputs": [
    {
     "name": "stdout",
     "output_type": "stream",
     "text": [
      "Number of distinct model names: 1599\n",
      "Number of distinct brand+model names: 1667\n"
     ]
    }
   ],
   "source": [
    "# Brands & model names\n",
    "print('Number of distinct model names: ' + str(phone_brand_device_model.groupby(['device_model']).size().shape[0]))\n",
    "print('Number of distinct brand+model names: ' + str(phone_brand_device_model.groupby(['phone_brand','device_model']).size().shape[0]))"
   ]
  },
  {
   "cell_type": "markdown",
   "metadata": {},
   "source": [
    "We need to add a new column to data set that contains a new variable which refers to each device and its brand. Then for simplifying I will encode each of them to numbers between 0 - 1666."
   ]
  },
  {
   "cell_type": "code",
   "execution_count": 15,
   "metadata": {
    "scrolled": true
   },
   "outputs": [
    {
     "data": {
      "text/html": [
       "<div>\n",
       "<style scoped>\n",
       "    .dataframe tbody tr th:only-of-type {\n",
       "        vertical-align: middle;\n",
       "    }\n",
       "\n",
       "    .dataframe tbody tr th {\n",
       "        vertical-align: top;\n",
       "    }\n",
       "\n",
       "    .dataframe thead th {\n",
       "        text-align: right;\n",
       "    }\n",
       "</style>\n",
       "<table border=\"1\" class=\"dataframe\">\n",
       "  <thead>\n",
       "    <tr style=\"text-align: right;\">\n",
       "      <th></th>\n",
       "      <th>device_id</th>\n",
       "      <th>phone_brand</th>\n",
       "      <th>device_model</th>\n",
       "      <th>brand_and_model</th>\n",
       "      <th>encoded_model</th>\n",
       "    </tr>\n",
       "  </thead>\n",
       "  <tbody>\n",
       "    <tr>\n",
       "      <th>0</th>\n",
       "      <td>-8890648629457979026</td>\n",
       "      <td>小米</td>\n",
       "      <td>红米</td>\n",
       "      <td>小米红米</td>\n",
       "      <td>858</td>\n",
       "    </tr>\n",
       "    <tr>\n",
       "      <th>1</th>\n",
       "      <td>1277779817574759137</td>\n",
       "      <td>小米</td>\n",
       "      <td>MI 2</td>\n",
       "      <td>小米MI 2</td>\n",
       "      <td>843</td>\n",
       "    </tr>\n",
       "    <tr>\n",
       "      <th>2</th>\n",
       "      <td>5137427614288105724</td>\n",
       "      <td>三星</td>\n",
       "      <td>Galaxy S4</td>\n",
       "      <td>三星Galaxy S4</td>\n",
       "      <td>371</td>\n",
       "    </tr>\n",
       "    <tr>\n",
       "      <th>3</th>\n",
       "      <td>3669464369358936369</td>\n",
       "      <td>SUGAR</td>\n",
       "      <td>时尚手机</td>\n",
       "      <td>SUGAR时尚手机</td>\n",
       "      <td>166</td>\n",
       "    </tr>\n",
       "    <tr>\n",
       "      <th>4</th>\n",
       "      <td>-5019277647504317457</td>\n",
       "      <td>三星</td>\n",
       "      <td>Galaxy Note 2</td>\n",
       "      <td>三星Galaxy Note 2</td>\n",
       "      <td>347</td>\n",
       "    </tr>\n",
       "  </tbody>\n",
       "</table>\n",
       "</div>"
      ],
      "text/plain": [
       "             device_id phone_brand   device_model  brand_and_model  \\\n",
       "0 -8890648629457979026          小米             红米             小米红米   \n",
       "1  1277779817574759137          小米           MI 2           小米MI 2   \n",
       "2  5137427614288105724          三星      Galaxy S4      三星Galaxy S4   \n",
       "3  3669464369358936369       SUGAR           时尚手机        SUGAR时尚手机   \n",
       "4 -5019277647504317457          三星  Galaxy Note 2  三星Galaxy Note 2   \n",
       "\n",
       "   encoded_model  \n",
       "0            858  \n",
       "1            843  \n",
       "2            371  \n",
       "3            166  \n",
       "4            347  "
      ]
     },
     "execution_count": 15,
     "metadata": {},
     "output_type": "execute_result"
    }
   ],
   "source": [
    "# Combine phone_brand & device_model\n",
    "phone_brand_device_model['brand_and_model'] = phone_brand_device_model['phone_brand'].astype(str) + phone_brand_device_model['device_model']\n",
    "\n",
    "# Build numerical labels for each device\n",
    "model_encoder = LabelEncoder().fit(phone_brand_device_model['brand_and_model'])\n",
    "\n",
    "# Store in a new column\n",
    "phone_brand_device_model['encoded_model'] = model_encoder.transform(phone_brand_device_model['brand_and_model'])\n",
    "phone_brand_device_model.head()"
   ]
  },
  {
   "cell_type": "markdown",
   "metadata": {},
   "source": [
    "# Merging Files"
   ]
  },
  {
   "cell_type": "code",
   "execution_count": 38,
   "metadata": {},
   "outputs": [],
   "source": [
    "# Add active status from app_events to app_labels\n",
    "apps_labeled = pd.merge(app_labels,\n",
    "                       app_events[['app_id', 'is_active']],\n",
    "                       on='app_id').dropna().drop_duplicates() # Drop miising values & duplicates"
   ]
  },
  {
   "cell_type": "code",
   "execution_count": 39,
   "metadata": {},
   "outputs": [
    {
     "data": {
      "text/plain": [
       "(117374, 3)"
      ]
     },
     "execution_count": 39,
     "metadata": {},
     "output_type": "execute_result"
    }
   ],
   "source": [
    "print(apps_labeled.shape)"
   ]
  },
  {
   "cell_type": "code",
   "execution_count": 47,
   "metadata": {
    "scrolled": true
   },
   "outputs": [
    {
     "data": {
      "text/html": [
       "<div>\n",
       "<style scoped>\n",
       "    .dataframe tbody tr th:only-of-type {\n",
       "        vertical-align: middle;\n",
       "    }\n",
       "\n",
       "    .dataframe tbody tr th {\n",
       "        vertical-align: top;\n",
       "    }\n",
       "\n",
       "    .dataframe thead th {\n",
       "        text-align: right;\n",
       "    }\n",
       "</style>\n",
       "<table border=\"1\" class=\"dataframe\">\n",
       "  <thead>\n",
       "    <tr style=\"text-align: right;\">\n",
       "      <th></th>\n",
       "      <th>app_id</th>\n",
       "      <th>label_id</th>\n",
       "      <th>is_active</th>\n",
       "    </tr>\n",
       "  </thead>\n",
       "  <tbody>\n",
       "    <tr>\n",
       "      <th>0</th>\n",
       "      <td>7324884708820027918</td>\n",
       "      <td>251</td>\n",
       "      <td>0</td>\n",
       "    </tr>\n",
       "    <tr>\n",
       "      <th>5</th>\n",
       "      <td>7324884708820027918</td>\n",
       "      <td>691</td>\n",
       "      <td>0</td>\n",
       "    </tr>\n",
       "    <tr>\n",
       "      <th>10</th>\n",
       "      <td>7324884708820027918</td>\n",
       "      <td>751</td>\n",
       "      <td>0</td>\n",
       "    </tr>\n",
       "    <tr>\n",
       "      <th>15</th>\n",
       "      <td>7324884708820027918</td>\n",
       "      <td>786</td>\n",
       "      <td>0</td>\n",
       "    </tr>\n",
       "    <tr>\n",
       "      <th>20</th>\n",
       "      <td>7324884708820027918</td>\n",
       "      <td>775</td>\n",
       "      <td>0</td>\n",
       "    </tr>\n",
       "  </tbody>\n",
       "</table>\n",
       "</div>"
      ],
      "text/plain": [
       "                 app_id  label_id  is_active\n",
       "0   7324884708820027918       251          0\n",
       "5   7324884708820027918       691          0\n",
       "10  7324884708820027918       751          0\n",
       "15  7324884708820027918       786          0\n",
       "20  7324884708820027918       775          0"
      ]
     },
     "execution_count": 47,
     "metadata": {},
     "output_type": "execute_result"
    }
   ],
   "source": [
    "apps_labeled.head()"
   ]
  },
  {
   "cell_type": "code",
   "execution_count": 9,
   "metadata": {},
   "outputs": [
    {
     "data": {
      "text/html": [
       "<div>\n",
       "<style scoped>\n",
       "    .dataframe tbody tr th:only-of-type {\n",
       "        vertical-align: middle;\n",
       "    }\n",
       "\n",
       "    .dataframe tbody tr th {\n",
       "        vertical-align: top;\n",
       "    }\n",
       "\n",
       "    .dataframe thead th {\n",
       "        text-align: right;\n",
       "    }\n",
       "</style>\n",
       "<table border=\"1\" class=\"dataframe\">\n",
       "  <thead>\n",
       "    <tr style=\"text-align: right;\">\n",
       "      <th></th>\n",
       "      <th>app_id</th>\n",
       "      <th>is_active</th>\n",
       "      <th>device_id</th>\n",
       "      <th>timestamp</th>\n",
       "      <th>longitude</th>\n",
       "      <th>latitude</th>\n",
       "    </tr>\n",
       "  </thead>\n",
       "  <tbody>\n",
       "    <tr>\n",
       "      <th>0</th>\n",
       "      <td>5927333115845830913</td>\n",
       "      <td>1</td>\n",
       "      <td>-6401643145415154744</td>\n",
       "      <td>2016-05-01 00:54:12</td>\n",
       "      <td>103.65</td>\n",
       "      <td>30.97</td>\n",
       "    </tr>\n",
       "    <tr>\n",
       "      <th>1</th>\n",
       "      <td>-5720078949152207372</td>\n",
       "      <td>0</td>\n",
       "      <td>-6401643145415154744</td>\n",
       "      <td>2016-05-01 00:54:12</td>\n",
       "      <td>103.65</td>\n",
       "      <td>30.97</td>\n",
       "    </tr>\n",
       "    <tr>\n",
       "      <th>2</th>\n",
       "      <td>-1633887856876571208</td>\n",
       "      <td>0</td>\n",
       "      <td>-6401643145415154744</td>\n",
       "      <td>2016-05-01 00:54:12</td>\n",
       "      <td>103.65</td>\n",
       "      <td>30.97</td>\n",
       "    </tr>\n",
       "    <tr>\n",
       "      <th>3</th>\n",
       "      <td>-653184325010919369</td>\n",
       "      <td>1</td>\n",
       "      <td>-6401643145415154744</td>\n",
       "      <td>2016-05-01 00:54:12</td>\n",
       "      <td>103.65</td>\n",
       "      <td>30.97</td>\n",
       "    </tr>\n",
       "    <tr>\n",
       "      <th>4</th>\n",
       "      <td>8693964245073640147</td>\n",
       "      <td>1</td>\n",
       "      <td>-6401643145415154744</td>\n",
       "      <td>2016-05-01 00:54:12</td>\n",
       "      <td>103.65</td>\n",
       "      <td>30.97</td>\n",
       "    </tr>\n",
       "  </tbody>\n",
       "</table>\n",
       "</div>"
      ],
      "text/plain": [
       "                app_id  is_active            device_id            timestamp  \\\n",
       "0  5927333115845830913          1 -6401643145415154744  2016-05-01 00:54:12   \n",
       "1 -5720078949152207372          0 -6401643145415154744  2016-05-01 00:54:12   \n",
       "2 -1633887856876571208          0 -6401643145415154744  2016-05-01 00:54:12   \n",
       "3  -653184325010919369          1 -6401643145415154744  2016-05-01 00:54:12   \n",
       "4  8693964245073640147          1 -6401643145415154744  2016-05-01 00:54:12   \n",
       "\n",
       "   longitude  latitude  \n",
       "0     103.65     30.97  \n",
       "1     103.65     30.97  \n",
       "2     103.65     30.97  \n",
       "3     103.65     30.97  \n",
       "4     103.65     30.97  "
      ]
     },
     "execution_count": 9,
     "metadata": {},
     "output_type": "execute_result"
    }
   ],
   "source": [
    "# Gather device_id & app_id in a dataset\n",
    "device_apps = (\n",
    "    app_events.merge(events, how = 'left', left_on = 'event_id', right_on = 'event_id').drop('event_id', axis = 1)\n",
    "    .drop_duplicates()\n",
    ")\n",
    "device_apps.head()"
   ]
  },
  {
   "cell_type": "code",
   "execution_count": 13,
   "metadata": {},
   "outputs": [
    {
     "name": "stdout",
     "output_type": "stream",
     "text": [
      "(1097150, 6)\n"
     ]
    },
    {
     "data": {
      "text/html": [
       "<div>\n",
       "<style scoped>\n",
       "    .dataframe tbody tr th:only-of-type {\n",
       "        vertical-align: middle;\n",
       "    }\n",
       "\n",
       "    .dataframe tbody tr th {\n",
       "        vertical-align: top;\n",
       "    }\n",
       "\n",
       "    .dataframe thead th {\n",
       "        text-align: right;\n",
       "    }\n",
       "</style>\n",
       "<table border=\"1\" class=\"dataframe\">\n",
       "  <thead>\n",
       "    <tr style=\"text-align: right;\">\n",
       "      <th></th>\n",
       "      <th>device_id</th>\n",
       "      <th>gender</th>\n",
       "      <th>age</th>\n",
       "      <th>group</th>\n",
       "      <th>app_id</th>\n",
       "      <th>is_active</th>\n",
       "    </tr>\n",
       "  </thead>\n",
       "  <tbody>\n",
       "    <tr>\n",
       "      <th>0</th>\n",
       "      <td>-8260683887967679142</td>\n",
       "      <td>M</td>\n",
       "      <td>35</td>\n",
       "      <td>M32-38</td>\n",
       "      <td>4287147352639325907</td>\n",
       "      <td>0</td>\n",
       "    </tr>\n",
       "    <tr>\n",
       "      <th>1</th>\n",
       "      <td>-8260683887967679142</td>\n",
       "      <td>M</td>\n",
       "      <td>35</td>\n",
       "      <td>M32-38</td>\n",
       "      <td>-4085686983594738208</td>\n",
       "      <td>0</td>\n",
       "    </tr>\n",
       "    <tr>\n",
       "      <th>2</th>\n",
       "      <td>-8260683887967679142</td>\n",
       "      <td>M</td>\n",
       "      <td>35</td>\n",
       "      <td>M32-38</td>\n",
       "      <td>6324194957022958681</td>\n",
       "      <td>0</td>\n",
       "    </tr>\n",
       "    <tr>\n",
       "      <th>3</th>\n",
       "      <td>-8260683887967679142</td>\n",
       "      <td>M</td>\n",
       "      <td>35</td>\n",
       "      <td>M32-38</td>\n",
       "      <td>-8687507491028761317</td>\n",
       "      <td>0</td>\n",
       "    </tr>\n",
       "    <tr>\n",
       "      <th>4</th>\n",
       "      <td>-8260683887967679142</td>\n",
       "      <td>M</td>\n",
       "      <td>35</td>\n",
       "      <td>M32-38</td>\n",
       "      <td>877288515501232570</td>\n",
       "      <td>1</td>\n",
       "    </tr>\n",
       "  </tbody>\n",
       "</table>\n",
       "</div>"
      ],
      "text/plain": [
       "             device_id gender  age   group               app_id  is_active\n",
       "0 -8260683887967679142      M   35  M32-38  4287147352639325907          0\n",
       "1 -8260683887967679142      M   35  M32-38 -4085686983594738208          0\n",
       "2 -8260683887967679142      M   35  M32-38  6324194957022958681          0\n",
       "3 -8260683887967679142      M   35  M32-38 -8687507491028761317          0\n",
       "4 -8260683887967679142      M   35  M32-38   877288515501232570          1"
      ]
     },
     "execution_count": 13,
     "metadata": {},
     "output_type": "execute_result"
    }
   ],
   "source": [
    "# Add device_id to train set\n",
    "ga_apps = pd.merge(gender_age_train,\n",
    "                  device_apps[['app_id', 'is_active', 'device_id']],\n",
    "                  on='device_id').dropna().drop_duplicates()\n",
    "#Shape of ga_apps\n",
    "print(ga_apps.shape)\n",
    "\n",
    "# Show how the new df looks.\n",
    "ga_apps.head()"
   ]
  },
  {
   "cell_type": "code",
   "execution_count": 16,
   "metadata": {},
   "outputs": [
    {
     "name": "stdout",
     "output_type": "stream",
     "text": [
      "(1097198, 7)\n"
     ]
    },
    {
     "data": {
      "text/html": [
       "<div>\n",
       "<style scoped>\n",
       "    .dataframe tbody tr th:only-of-type {\n",
       "        vertical-align: middle;\n",
       "    }\n",
       "\n",
       "    .dataframe tbody tr th {\n",
       "        vertical-align: top;\n",
       "    }\n",
       "\n",
       "    .dataframe thead th {\n",
       "        text-align: right;\n",
       "    }\n",
       "</style>\n",
       "<table border=\"1\" class=\"dataframe\">\n",
       "  <thead>\n",
       "    <tr style=\"text-align: right;\">\n",
       "      <th></th>\n",
       "      <th>device_id</th>\n",
       "      <th>gender</th>\n",
       "      <th>age</th>\n",
       "      <th>group</th>\n",
       "      <th>app_id</th>\n",
       "      <th>is_active</th>\n",
       "      <th>encoded_model</th>\n",
       "    </tr>\n",
       "  </thead>\n",
       "  <tbody>\n",
       "    <tr>\n",
       "      <th>0</th>\n",
       "      <td>-8260683887967679142</td>\n",
       "      <td>M</td>\n",
       "      <td>35</td>\n",
       "      <td>M32-38</td>\n",
       "      <td>4287147352639325907</td>\n",
       "      <td>0</td>\n",
       "      <td>843</td>\n",
       "    </tr>\n",
       "    <tr>\n",
       "      <th>1</th>\n",
       "      <td>-8260683887967679142</td>\n",
       "      <td>M</td>\n",
       "      <td>35</td>\n",
       "      <td>M32-38</td>\n",
       "      <td>-4085686983594738208</td>\n",
       "      <td>0</td>\n",
       "      <td>843</td>\n",
       "    </tr>\n",
       "    <tr>\n",
       "      <th>2</th>\n",
       "      <td>-8260683887967679142</td>\n",
       "      <td>M</td>\n",
       "      <td>35</td>\n",
       "      <td>M32-38</td>\n",
       "      <td>6324194957022958681</td>\n",
       "      <td>0</td>\n",
       "      <td>843</td>\n",
       "    </tr>\n",
       "    <tr>\n",
       "      <th>3</th>\n",
       "      <td>-8260683887967679142</td>\n",
       "      <td>M</td>\n",
       "      <td>35</td>\n",
       "      <td>M32-38</td>\n",
       "      <td>-8687507491028761317</td>\n",
       "      <td>0</td>\n",
       "      <td>843</td>\n",
       "    </tr>\n",
       "    <tr>\n",
       "      <th>4</th>\n",
       "      <td>-8260683887967679142</td>\n",
       "      <td>M</td>\n",
       "      <td>35</td>\n",
       "      <td>M32-38</td>\n",
       "      <td>877288515501232570</td>\n",
       "      <td>1</td>\n",
       "      <td>843</td>\n",
       "    </tr>\n",
       "  </tbody>\n",
       "</table>\n",
       "</div>"
      ],
      "text/plain": [
       "             device_id gender  age   group               app_id  is_active  \\\n",
       "0 -8260683887967679142      M   35  M32-38  4287147352639325907          0   \n",
       "1 -8260683887967679142      M   35  M32-38 -4085686983594738208          0   \n",
       "2 -8260683887967679142      M   35  M32-38  6324194957022958681          0   \n",
       "3 -8260683887967679142      M   35  M32-38 -8687507491028761317          0   \n",
       "4 -8260683887967679142      M   35  M32-38   877288515501232570          1   \n",
       "\n",
       "   encoded_model  \n",
       "0            843  \n",
       "1            843  \n",
       "2            843  \n",
       "3            843  \n",
       "4            843  "
      ]
     },
     "execution_count": 16,
     "metadata": {},
     "output_type": "execute_result"
    }
   ],
   "source": [
    "# Merge the previous data set with brands now. \n",
    "ga_apps_brands = pd.merge(ga_apps,\n",
    "                         phone_brand_device_model[['device_id', 'encoded_model']],\n",
    "                         on='device_id').dropna().drop_duplicates()\n",
    "#Show me the shape\n",
    "print(ga_apps_brands.shape)\n",
    "\n",
    "#Look at how the data looks.\n",
    "ga_apps_brands.head()"
   ]
  },
  {
   "cell_type": "code",
   "execution_count": 20,
   "metadata": {},
   "outputs": [
    {
     "name": "stdout",
     "output_type": "stream",
     "text": [
      "(7034350, 8)\n"
     ]
    },
    {
     "data": {
      "text/html": [
       "<div>\n",
       "<style scoped>\n",
       "    .dataframe tbody tr th:only-of-type {\n",
       "        vertical-align: middle;\n",
       "    }\n",
       "\n",
       "    .dataframe tbody tr th {\n",
       "        vertical-align: top;\n",
       "    }\n",
       "\n",
       "    .dataframe thead th {\n",
       "        text-align: right;\n",
       "    }\n",
       "</style>\n",
       "<table border=\"1\" class=\"dataframe\">\n",
       "  <thead>\n",
       "    <tr style=\"text-align: right;\">\n",
       "      <th></th>\n",
       "      <th>device_id</th>\n",
       "      <th>gender</th>\n",
       "      <th>age</th>\n",
       "      <th>group</th>\n",
       "      <th>app_id</th>\n",
       "      <th>is_active</th>\n",
       "      <th>encoded_model</th>\n",
       "      <th>label_id</th>\n",
       "    </tr>\n",
       "  </thead>\n",
       "  <tbody>\n",
       "    <tr>\n",
       "      <th>0</th>\n",
       "      <td>-8260683887967679142</td>\n",
       "      <td>M</td>\n",
       "      <td>35</td>\n",
       "      <td>M32-38</td>\n",
       "      <td>4287147352639325907</td>\n",
       "      <td>0</td>\n",
       "      <td>843</td>\n",
       "      <td>713</td>\n",
       "    </tr>\n",
       "    <tr>\n",
       "      <th>2</th>\n",
       "      <td>-8260683887967679142</td>\n",
       "      <td>M</td>\n",
       "      <td>35</td>\n",
       "      <td>M32-38</td>\n",
       "      <td>4287147352639325907</td>\n",
       "      <td>0</td>\n",
       "      <td>843</td>\n",
       "      <td>704</td>\n",
       "    </tr>\n",
       "    <tr>\n",
       "      <th>4</th>\n",
       "      <td>-8260683887967679142</td>\n",
       "      <td>M</td>\n",
       "      <td>35</td>\n",
       "      <td>M32-38</td>\n",
       "      <td>4287147352639325907</td>\n",
       "      <td>0</td>\n",
       "      <td>843</td>\n",
       "      <td>548</td>\n",
       "    </tr>\n",
       "    <tr>\n",
       "      <th>6</th>\n",
       "      <td>8761770737926125955</td>\n",
       "      <td>F</td>\n",
       "      <td>22</td>\n",
       "      <td>F23-</td>\n",
       "      <td>4287147352639325907</td>\n",
       "      <td>0</td>\n",
       "      <td>226</td>\n",
       "      <td>713</td>\n",
       "    </tr>\n",
       "    <tr>\n",
       "      <th>8</th>\n",
       "      <td>8761770737926125955</td>\n",
       "      <td>F</td>\n",
       "      <td>22</td>\n",
       "      <td>F23-</td>\n",
       "      <td>4287147352639325907</td>\n",
       "      <td>0</td>\n",
       "      <td>226</td>\n",
       "      <td>704</td>\n",
       "    </tr>\n",
       "  </tbody>\n",
       "</table>\n",
       "</div>"
      ],
      "text/plain": [
       "             device_id gender  age   group               app_id  is_active  \\\n",
       "0 -8260683887967679142      M   35  M32-38  4287147352639325907          0   \n",
       "2 -8260683887967679142      M   35  M32-38  4287147352639325907          0   \n",
       "4 -8260683887967679142      M   35  M32-38  4287147352639325907          0   \n",
       "6  8761770737926125955      F   22    F23-  4287147352639325907          0   \n",
       "8  8761770737926125955      F   22    F23-  4287147352639325907          0   \n",
       "\n",
       "   encoded_model  label_id  \n",
       "0            843       713  \n",
       "2            843       704  \n",
       "4            843       548  \n",
       "6            226       713  \n",
       "8            226       704  "
      ]
     },
     "execution_count": 20,
     "metadata": {},
     "output_type": "execute_result"
    }
   ],
   "source": [
    "# Putting all of the data sets together.\n",
    "ga_apps_labeled_brands = pd.merge(ga_apps_brands,\n",
    "                                 apps_labeled[['app_id', 'label_id']],\n",
    "                                 on='app_id').dropna().drop_duplicates()\n",
    "#Show me the shape\n",
    "print(ga_apps_labeled_brands.shape)\n",
    "\n",
    "#Look at how the data looks.\n",
    "ga_apps_labeled_brands.head()"
   ]
  },
  {
   "cell_type": "markdown",
   "metadata": {},
   "source": [
    "Now our data set contains all intereseted variables that we need for our machone learning models. In next step I prepare the data set for the machine learning model with digitizing the variables values."
   ]
  },
  {
   "cell_type": "code",
   "execution_count": 11,
   "metadata": {},
   "outputs": [
    {
     "name": "stdout",
     "output_type": "stream",
     "text": [
      "1    4942697\n",
      "0    2091653\n",
      "Name: gender, dtype: int64\n"
     ]
    },
    {
     "data": {
      "text/html": [
       "<div>\n",
       "<style scoped>\n",
       "    .dataframe tbody tr th:only-of-type {\n",
       "        vertical-align: middle;\n",
       "    }\n",
       "\n",
       "    .dataframe tbody tr th {\n",
       "        vertical-align: top;\n",
       "    }\n",
       "\n",
       "    .dataframe thead th {\n",
       "        text-align: right;\n",
       "    }\n",
       "</style>\n",
       "<table border=\"1\" class=\"dataframe\">\n",
       "  <thead>\n",
       "    <tr style=\"text-align: right;\">\n",
       "      <th></th>\n",
       "      <th>device_id</th>\n",
       "      <th>gender</th>\n",
       "      <th>age</th>\n",
       "      <th>group</th>\n",
       "      <th>app_id</th>\n",
       "      <th>is_active</th>\n",
       "      <th>encoded_model</th>\n",
       "      <th>label_id</th>\n",
       "    </tr>\n",
       "  </thead>\n",
       "  <tbody>\n",
       "    <tr>\n",
       "      <th>0</th>\n",
       "      <td>-8260683887967679142</td>\n",
       "      <td>1</td>\n",
       "      <td>35</td>\n",
       "      <td>M32-38</td>\n",
       "      <td>4287147352639325907</td>\n",
       "      <td>0</td>\n",
       "      <td>843</td>\n",
       "      <td>713</td>\n",
       "    </tr>\n",
       "    <tr>\n",
       "      <th>1</th>\n",
       "      <td>-8260683887967679142</td>\n",
       "      <td>1</td>\n",
       "      <td>35</td>\n",
       "      <td>M32-38</td>\n",
       "      <td>4287147352639325907</td>\n",
       "      <td>0</td>\n",
       "      <td>843</td>\n",
       "      <td>704</td>\n",
       "    </tr>\n",
       "    <tr>\n",
       "      <th>2</th>\n",
       "      <td>-8260683887967679142</td>\n",
       "      <td>1</td>\n",
       "      <td>35</td>\n",
       "      <td>M32-38</td>\n",
       "      <td>4287147352639325907</td>\n",
       "      <td>0</td>\n",
       "      <td>843</td>\n",
       "      <td>548</td>\n",
       "    </tr>\n",
       "    <tr>\n",
       "      <th>3</th>\n",
       "      <td>8761770737926125955</td>\n",
       "      <td>0</td>\n",
       "      <td>22</td>\n",
       "      <td>F23-</td>\n",
       "      <td>4287147352639325907</td>\n",
       "      <td>0</td>\n",
       "      <td>226</td>\n",
       "      <td>713</td>\n",
       "    </tr>\n",
       "    <tr>\n",
       "      <th>4</th>\n",
       "      <td>8761770737926125955</td>\n",
       "      <td>0</td>\n",
       "      <td>22</td>\n",
       "      <td>F23-</td>\n",
       "      <td>4287147352639325907</td>\n",
       "      <td>0</td>\n",
       "      <td>226</td>\n",
       "      <td>704</td>\n",
       "    </tr>\n",
       "  </tbody>\n",
       "</table>\n",
       "</div>"
      ],
      "text/plain": [
       "             device_id  gender  age   group               app_id  is_active  \\\n",
       "0 -8260683887967679142       1   35  M32-38  4287147352639325907          0   \n",
       "1 -8260683887967679142       1   35  M32-38  4287147352639325907          0   \n",
       "2 -8260683887967679142       1   35  M32-38  4287147352639325907          0   \n",
       "3  8761770737926125955       0   22    F23-  4287147352639325907          0   \n",
       "4  8761770737926125955       0   22    F23-  4287147352639325907          0   \n",
       "\n",
       "   encoded_model  label_id  \n",
       "0            843       713  \n",
       "1            843       704  \n",
       "2            843       548  \n",
       "3            226       713  \n",
       "4            226       704  "
      ]
     },
     "execution_count": 11,
     "metadata": {},
     "output_type": "execute_result"
    }
   ],
   "source": [
    "# Convert gender to 0 & 1\n",
    "ga_apps_labeled_brands['gender'] = ga_apps_labeled_brands['gender'].apply(lambda x: 1 if x == 'M' else 0 )\n",
    "print(ga_apps_labeled_brands.gender.value_counts())\n",
    "ga_apps_labeled_brands.head()"
   ]
  },
  {
   "cell_type": "code",
   "execution_count": 19,
   "metadata": {},
   "outputs": [
    {
     "data": {
      "image/png": "[encoded data removed]",
      "text/plain": [
       "<Figure size 1296x1296 with 2 Axes>"
      ]
     },
     "metadata": {
      "needs_background": "light"
     },
     "output_type": "display_data"
    }
   ],
   "source": [
    "# Check for Multicollinearity with 10% of dtata set because actual data set is huge\n",
    "df_reduct = ga_apps_labeled_brands[:700000]\n",
    "\n",
    "# Group by group since that's the output that we care about.\n",
    "df_reduct = df_reduct.groupby('group')\n",
    "sns.heatmap(df_reduct.corr(), annot=True);\n",
    "plt.show()"
   ]
  },
  {
   "cell_type": "markdown",
   "metadata": {},
   "source": [
    "The heat map above shows that there is no significant correlation between the variabels, and low numbers are a sign of being hard to apply to machine learning models because the features in different groups don't have a strong relation.\n",
    "# Creating Dummies\n",
    "Two of our variables are important to be dummified, lable_id and encoded_model. Although we already reduct number of devices with combining them with their brand, but the encoded_model variable contains so many models plus brand which wout not be necessory to consider due to low correalation. So dummifying app_labels will give more insight into the data, and we use dummies for this variable."
   ]
  },
  {
   "cell_type": "code",
   "execution_count": 36,
   "metadata": {},
   "outputs": [
    {
     "name": "stdout",
     "output_type": "stream",
     "text": [
      "label_id:  485\n",
      "encoded_model:  942\n"
     ]
    }
   ],
   "source": [
    "print('label_id: ', ga_apps_labeled_brands.label_id.nunique())\n",
    "print('encoded_model: ', ga_apps_labeled_brands.encoded_model.nunique())"
   ]
  },
  {
   "cell_type": "code",
   "execution_count": 38,
   "metadata": {},
   "outputs": [
    {
     "data": {
      "text/html": [
       "<div>\n",
       "<style scoped>\n",
       "    .dataframe tbody tr th:only-of-type {\n",
       "        vertical-align: middle;\n",
       "    }\n",
       "\n",
       "    .dataframe tbody tr th {\n",
       "        vertical-align: top;\n",
       "    }\n",
       "\n",
       "    .dataframe thead th {\n",
       "        text-align: right;\n",
       "    }\n",
       "</style>\n",
       "<table border=\"1\" class=\"dataframe\">\n",
       "  <thead>\n",
       "    <tr style=\"text-align: right;\">\n",
       "      <th></th>\n",
       "      <th>device_id</th>\n",
       "      <th>gender</th>\n",
       "      <th>age</th>\n",
       "      <th>group</th>\n",
       "      <th>app_id</th>\n",
       "      <th>is_active</th>\n",
       "      <th>encoded_model</th>\n",
       "      <th>2</th>\n",
       "      <th>4</th>\n",
       "      <th>6</th>\n",
       "      <th>...</th>\n",
       "      <th>1012</th>\n",
       "      <th>1013</th>\n",
       "      <th>1014</th>\n",
       "      <th>1015</th>\n",
       "      <th>1016</th>\n",
       "      <th>1017</th>\n",
       "      <th>1018</th>\n",
       "      <th>1019</th>\n",
       "      <th>1020</th>\n",
       "      <th>1021</th>\n",
       "    </tr>\n",
       "  </thead>\n",
       "  <tbody>\n",
       "    <tr>\n",
       "      <th>0</th>\n",
       "      <td>-8260683887967679142</td>\n",
       "      <td>1</td>\n",
       "      <td>35</td>\n",
       "      <td>M32-38</td>\n",
       "      <td>4287147352639325907</td>\n",
       "      <td>0</td>\n",
       "      <td>843</td>\n",
       "      <td>0</td>\n",
       "      <td>0</td>\n",
       "      <td>0</td>\n",
       "      <td>...</td>\n",
       "      <td>0</td>\n",
       "      <td>0</td>\n",
       "      <td>0</td>\n",
       "      <td>0</td>\n",
       "      <td>0</td>\n",
       "      <td>0</td>\n",
       "      <td>0</td>\n",
       "      <td>0</td>\n",
       "      <td>0</td>\n",
       "      <td>0</td>\n",
       "    </tr>\n",
       "    <tr>\n",
       "      <th>1</th>\n",
       "      <td>-8260683887967679142</td>\n",
       "      <td>1</td>\n",
       "      <td>35</td>\n",
       "      <td>M32-38</td>\n",
       "      <td>4287147352639325907</td>\n",
       "      <td>0</td>\n",
       "      <td>843</td>\n",
       "      <td>0</td>\n",
       "      <td>0</td>\n",
       "      <td>0</td>\n",
       "      <td>...</td>\n",
       "      <td>0</td>\n",
       "      <td>0</td>\n",
       "      <td>0</td>\n",
       "      <td>0</td>\n",
       "      <td>0</td>\n",
       "      <td>0</td>\n",
       "      <td>0</td>\n",
       "      <td>0</td>\n",
       "      <td>0</td>\n",
       "      <td>0</td>\n",
       "    </tr>\n",
       "    <tr>\n",
       "      <th>2</th>\n",
       "      <td>-8260683887967679142</td>\n",
       "      <td>1</td>\n",
       "      <td>35</td>\n",
       "      <td>M32-38</td>\n",
       "      <td>4287147352639325907</td>\n",
       "      <td>0</td>\n",
       "      <td>843</td>\n",
       "      <td>0</td>\n",
       "      <td>0</td>\n",
       "      <td>0</td>\n",
       "      <td>...</td>\n",
       "      <td>0</td>\n",
       "      <td>0</td>\n",
       "      <td>0</td>\n",
       "      <td>0</td>\n",
       "      <td>0</td>\n",
       "      <td>0</td>\n",
       "      <td>0</td>\n",
       "      <td>0</td>\n",
       "      <td>0</td>\n",
       "      <td>0</td>\n",
       "    </tr>\n",
       "    <tr>\n",
       "      <th>3</th>\n",
       "      <td>8761770737926125955</td>\n",
       "      <td>0</td>\n",
       "      <td>22</td>\n",
       "      <td>F23-</td>\n",
       "      <td>4287147352639325907</td>\n",
       "      <td>0</td>\n",
       "      <td>226</td>\n",
       "      <td>0</td>\n",
       "      <td>0</td>\n",
       "      <td>0</td>\n",
       "      <td>...</td>\n",
       "      <td>0</td>\n",
       "      <td>0</td>\n",
       "      <td>0</td>\n",
       "      <td>0</td>\n",
       "      <td>0</td>\n",
       "      <td>0</td>\n",
       "      <td>0</td>\n",
       "      <td>0</td>\n",
       "      <td>0</td>\n",
       "      <td>0</td>\n",
       "    </tr>\n",
       "    <tr>\n",
       "      <th>4</th>\n",
       "      <td>8761770737926125955</td>\n",
       "      <td>0</td>\n",
       "      <td>22</td>\n",
       "      <td>F23-</td>\n",
       "      <td>4287147352639325907</td>\n",
       "      <td>0</td>\n",
       "      <td>226</td>\n",
       "      <td>0</td>\n",
       "      <td>0</td>\n",
       "      <td>0</td>\n",
       "      <td>...</td>\n",
       "      <td>0</td>\n",
       "      <td>0</td>\n",
       "      <td>0</td>\n",
       "      <td>0</td>\n",
       "      <td>0</td>\n",
       "      <td>0</td>\n",
       "      <td>0</td>\n",
       "      <td>0</td>\n",
       "      <td>0</td>\n",
       "      <td>0</td>\n",
       "    </tr>\n",
       "  </tbody>\n",
       "</table>\n",
       "<p>5 rows × 492 columns</p>\n",
       "</div>"
      ],
      "text/plain": [
       "             device_id  gender  age   group               app_id  is_active  \\\n",
       "0 -8260683887967679142       1   35  M32-38  4287147352639325907          0   \n",
       "1 -8260683887967679142       1   35  M32-38  4287147352639325907          0   \n",
       "2 -8260683887967679142       1   35  M32-38  4287147352639325907          0   \n",
       "3  8761770737926125955       0   22    F23-  4287147352639325907          0   \n",
       "4  8761770737926125955       0   22    F23-  4287147352639325907          0   \n",
       "\n",
       "   encoded_model  2  4  6  ...  1012  1013  1014  1015  1016  1017  1018  \\\n",
       "0            843  0  0  0  ...     0     0     0     0     0     0     0   \n",
       "1            843  0  0  0  ...     0     0     0     0     0     0     0   \n",
       "2            843  0  0  0  ...     0     0     0     0     0     0     0   \n",
       "3            226  0  0  0  ...     0     0     0     0     0     0     0   \n",
       "4            226  0  0  0  ...     0     0     0     0     0     0     0   \n",
       "\n",
       "   1019  1020  1021  \n",
       "0     0     0     0  \n",
       "1     0     0     0  \n",
       "2     0     0     0  \n",
       "3     0     0     0  \n",
       "4     0     0     0  \n",
       "\n",
       "[5 rows x 492 columns]"
      ]
     },
     "execution_count": 38,
     "metadata": {},
     "output_type": "execute_result"
    }
   ],
   "source": [
    "ga_apps_labeled_brands = pd.concat([ga_apps_labeled_brands,pd.get_dummies(ga_apps_labeled_brands.label_id)], axis=1)\n",
    "ga_apps_labeled_brands = ga_apps_labeled_brands.drop(columns=['label_id'], axis=1)\n",
    "ga_apps_labeled_brands.head()"
   ]
  },
  {
   "cell_type": "markdown",
   "metadata": {},
   "source": [
    "# Dealing with unbalanced data\n",
    "Previously we saw that the data set contains significantly different persantage of men and women users. We also need to check the balance of users in each age groups."
   ]
  },
  {
   "cell_type": "code",
   "execution_count": 39,
   "metadata": {},
   "outputs": [
    {
     "data": {
      "text/plain": [
       "M32-38    1185421\n",
       "M39+      1107632\n",
       "M23-26     817660\n",
       "M29-31     810956\n",
       "M27-28     530780\n",
       "F33-42     517420\n",
       "M22-       490248\n",
       "F43+       391188\n",
       "F29-32     368450\n",
       "F23-       303034\n",
       "F24-26     265262\n",
       "F27-28     246299\n",
       "Name: group, dtype: int64"
      ]
     },
     "execution_count": 39,
     "metadata": {},
     "output_type": "execute_result"
    }
   ],
   "source": [
    "# Count group values\n",
    "ga_apps_labeled_brands.group.value_counts()"
   ]
  },
  {
   "cell_type": "markdown",
   "metadata": {},
   "source": [
    "It is important to have balanced data in each group because otherwise the results of machine learning models will be influenced by dominant age groups. For this purpose an also having a smaller data set I will use down sampling method for all age groups.  "
   ]
  },
  {
   "cell_type": "code",
   "execution_count": 41,
   "metadata": {},
   "outputs": [],
   "source": [
    "# Downsampling the gender/age training set\n",
    "M22 = ga_apps_labeled_brands[ga_apps_labeled_brands.group=='M22-']\n",
    "M23_26 = ga_apps_labeled_brands[ga_apps_labeled_brands.group=='M23-26']\n",
    "M27_28 = ga_apps_labeled_brands[ga_apps_labeled_brands.group=='M27-28']\n",
    "M29_31 = ga_apps_labeled_brands[ga_apps_labeled_brands.group=='M29-31']\n",
    "M32_38 = ga_apps_labeled_brands[ga_apps_labeled_brands.group=='M32-38']\n",
    "M39 = ga_apps_labeled_brands[ga_apps_labeled_brands.group=='M39+']\n",
    "F23 = ga_apps_labeled_brands[ga_apps_labeled_brands.group=='F23-']\n",
    "F24_26 = ga_apps_labeled_brands[ga_apps_labeled_brands.group=='F24-26']\n",
    "F27_28 = ga_apps_labeled_brands[ga_apps_labeled_brands.group=='F27-28']\n",
    "F29_32 = ga_apps_labeled_brands[ga_apps_labeled_brands.group=='F29-32']\n",
    "F33_42 = ga_apps_labeled_brands[ga_apps_labeled_brands.group=='F33-42']\n",
    "F43 = ga_apps_labeled_brands[ga_apps_labeled_brands.group=='F43+']\n",
    "\n",
    "# Downsample majority classes.\n",
    "M22 = resample(M22, replace=True, n_samples=50000, random_state=15)\n",
    "\n",
    "M23_26 = resample(M23_26, replace=True, n_samples=50000, random_state=15)\n",
    "\n",
    "M27_28 = resample(M27_28, replace=True, n_samples=50000, random_state=15)\n",
    "\n",
    "M29_31 = resample(M29_31, replace=True, n_samples=50000, random_state=15)\n",
    "\n",
    "M32_38 = resample(M32_38, replace=True, n_samples=50000, random_state=15)\n",
    "\n",
    "M39 = resample(M39, replace=True, n_samples=50000, random_state=15)\n",
    "\n",
    "F23 = resample(F23, replace=True, n_samples=50000, random_state=15)\n",
    "\n",
    "F24_26 = resample(F24_26, replace=True, n_samples=50000, random_state=15)\n",
    "\n",
    "F27_28 = resample(F27_28, replace=True, n_samples=50000, random_state=15)\n",
    "\n",
    "F29_32 = resample(F29_32, replace=True, n_samples=50000, random_state=15)\n",
    "\n",
    "F33_42 = resample(F33_42, replace=True, n_samples=50000, random_state=15)\n",
    "\n",
    "F43 = resample(F43, replace=True, n_samples=50000, random_state=15)"
   ]
  },
  {
   "cell_type": "code",
   "execution_count": 34,
   "metadata": {},
   "outputs": [
    {
     "data": {
      "text/plain": [
       "F24-26    50000\n",
       "F27-28    50000\n",
       "M39+      50000\n",
       "M27-28    50000\n",
       "F33-42    50000\n",
       "F23-      50000\n",
       "M29-31    50000\n",
       "M32-38    50000\n",
       "F29-32    50000\n",
       "M22-      50000\n",
       "F43+      50000\n",
       "M23-26    50000\n",
       "Name: group, dtype: int64"
      ]
     },
     "execution_count": 34,
     "metadata": {},
     "output_type": "execute_result"
    }
   ],
   "source": [
    "# Display new class counts# Combine downsampled majority class \n",
    "df_resampled = pd.concat([M22, M23_26, M27_28, M29_31, M32_38, M39, \n",
    "                          F23, F24_26, F27_28, F29_32, F33_42, F43])\n",
    " \n",
    "# Display new class counts\n",
    "df_resampled.group.value_counts()\n",
    "df_resampled.group.value_counts()"
   ]
  },
  {
   "cell_type": "code",
   "execution_count": 43,
   "metadata": {
    "scrolled": true
   },
   "outputs": [
    {
     "data": {
      "text/html": [
       "<div>\n",
       "<style scoped>\n",
       "    .dataframe tbody tr th:only-of-type {\n",
       "        vertical-align: middle;\n",
       "    }\n",
       "\n",
       "    .dataframe tbody tr th {\n",
       "        vertical-align: top;\n",
       "    }\n",
       "\n",
       "    .dataframe thead th {\n",
       "        text-align: right;\n",
       "    }\n",
       "</style>\n",
       "<table border=\"1\" class=\"dataframe\">\n",
       "  <thead>\n",
       "    <tr style=\"text-align: right;\">\n",
       "      <th></th>\n",
       "      <th>device_id</th>\n",
       "      <th>gender</th>\n",
       "      <th>age</th>\n",
       "      <th>group</th>\n",
       "      <th>app_id</th>\n",
       "      <th>is_active</th>\n",
       "      <th>encoded_model</th>\n",
       "      <th>2</th>\n",
       "      <th>4</th>\n",
       "      <th>6</th>\n",
       "      <th>...</th>\n",
       "      <th>1012</th>\n",
       "      <th>1013</th>\n",
       "      <th>1014</th>\n",
       "      <th>1015</th>\n",
       "      <th>1016</th>\n",
       "      <th>1017</th>\n",
       "      <th>1018</th>\n",
       "      <th>1019</th>\n",
       "      <th>1020</th>\n",
       "      <th>1021</th>\n",
       "    </tr>\n",
       "  </thead>\n",
       "  <tbody>\n",
       "    <tr>\n",
       "      <th>3744216</th>\n",
       "      <td>-5392476162277178472</td>\n",
       "      <td>1</td>\n",
       "      <td>22</td>\n",
       "      <td>M22-</td>\n",
       "      <td>-4532036554977283654</td>\n",
       "      <td>0</td>\n",
       "      <td>1656</td>\n",
       "      <td>0</td>\n",
       "      <td>0</td>\n",
       "      <td>0</td>\n",
       "      <td>...</td>\n",
       "      <td>0</td>\n",
       "      <td>0</td>\n",
       "      <td>0</td>\n",
       "      <td>0</td>\n",
       "      <td>0</td>\n",
       "      <td>0</td>\n",
       "      <td>0</td>\n",
       "      <td>0</td>\n",
       "      <td>0</td>\n",
       "      <td>0</td>\n",
       "    </tr>\n",
       "    <tr>\n",
       "      <th>6448337</th>\n",
       "      <td>-4696717825163435386</td>\n",
       "      <td>1</td>\n",
       "      <td>20</td>\n",
       "      <td>M22-</td>\n",
       "      <td>6365245642140162341</td>\n",
       "      <td>0</td>\n",
       "      <td>1654</td>\n",
       "      <td>0</td>\n",
       "      <td>0</td>\n",
       "      <td>0</td>\n",
       "      <td>...</td>\n",
       "      <td>0</td>\n",
       "      <td>0</td>\n",
       "      <td>0</td>\n",
       "      <td>0</td>\n",
       "      <td>0</td>\n",
       "      <td>0</td>\n",
       "      <td>0</td>\n",
       "      <td>0</td>\n",
       "      <td>0</td>\n",
       "      <td>0</td>\n",
       "    </tr>\n",
       "    <tr>\n",
       "      <th>3751820</th>\n",
       "      <td>2633631061299877151</td>\n",
       "      <td>1</td>\n",
       "      <td>21</td>\n",
       "      <td>M22-</td>\n",
       "      <td>-4532036554977283654</td>\n",
       "      <td>0</td>\n",
       "      <td>863</td>\n",
       "      <td>0</td>\n",
       "      <td>0</td>\n",
       "      <td>0</td>\n",
       "      <td>...</td>\n",
       "      <td>0</td>\n",
       "      <td>0</td>\n",
       "      <td>0</td>\n",
       "      <td>0</td>\n",
       "      <td>0</td>\n",
       "      <td>0</td>\n",
       "      <td>0</td>\n",
       "      <td>0</td>\n",
       "      <td>0</td>\n",
       "      <td>0</td>\n",
       "    </tr>\n",
       "    <tr>\n",
       "      <th>2770570</th>\n",
       "      <td>1190494768027267871</td>\n",
       "      <td>1</td>\n",
       "      <td>21</td>\n",
       "      <td>M22-</td>\n",
       "      <td>-6172775651801283024</td>\n",
       "      <td>0</td>\n",
       "      <td>1655</td>\n",
       "      <td>0</td>\n",
       "      <td>0</td>\n",
       "      <td>0</td>\n",
       "      <td>...</td>\n",
       "      <td>0</td>\n",
       "      <td>0</td>\n",
       "      <td>0</td>\n",
       "      <td>0</td>\n",
       "      <td>0</td>\n",
       "      <td>0</td>\n",
       "      <td>0</td>\n",
       "      <td>0</td>\n",
       "      <td>0</td>\n",
       "      <td>0</td>\n",
       "    </tr>\n",
       "    <tr>\n",
       "      <th>2561580</th>\n",
       "      <td>-1598678751372462774</td>\n",
       "      <td>1</td>\n",
       "      <td>22</td>\n",
       "      <td>M22-</td>\n",
       "      <td>6666573792468194779</td>\n",
       "      <td>0</td>\n",
       "      <td>1655</td>\n",
       "      <td>0</td>\n",
       "      <td>0</td>\n",
       "      <td>0</td>\n",
       "      <td>...</td>\n",
       "      <td>0</td>\n",
       "      <td>0</td>\n",
       "      <td>0</td>\n",
       "      <td>0</td>\n",
       "      <td>0</td>\n",
       "      <td>0</td>\n",
       "      <td>0</td>\n",
       "      <td>0</td>\n",
       "      <td>0</td>\n",
       "      <td>0</td>\n",
       "    </tr>\n",
       "  </tbody>\n",
       "</table>\n",
       "<p>5 rows × 492 columns</p>\n",
       "</div>"
      ],
      "text/plain": [
       "                   device_id  gender  age group               app_id  \\\n",
       "3744216 -5392476162277178472       1   22  M22- -4532036554977283654   \n",
       "6448337 -4696717825163435386       1   20  M22-  6365245642140162341   \n",
       "3751820  2633631061299877151       1   21  M22- -4532036554977283654   \n",
       "2770570  1190494768027267871       1   21  M22- -6172775651801283024   \n",
       "2561580 -1598678751372462774       1   22  M22-  6666573792468194779   \n",
       "\n",
       "         is_active  encoded_model  2  4  6  ...  1012  1013  1014  1015  1016  \\\n",
       "3744216          0           1656  0  0  0  ...     0     0     0     0     0   \n",
       "6448337          0           1654  0  0  0  ...     0     0     0     0     0   \n",
       "3751820          0            863  0  0  0  ...     0     0     0     0     0   \n",
       "2770570          0           1655  0  0  0  ...     0     0     0     0     0   \n",
       "2561580          0           1655  0  0  0  ...     0     0     0     0     0   \n",
       "\n",
       "         1017  1018  1019  1020  1021  \n",
       "3744216     0     0     0     0     0  \n",
       "6448337     0     0     0     0     0  \n",
       "3751820     0     0     0     0     0  \n",
       "2770570     0     0     0     0     0  \n",
       "2561580     0     0     0     0     0  \n",
       "\n",
       "[5 rows x 492 columns]"
      ]
     },
     "execution_count": 43,
     "metadata": {},
     "output_type": "execute_result"
    }
   ],
   "source": [
    "df_resampled.head()"
   ]
  },
  {
   "cell_type": "code",
   "execution_count": 14,
   "metadata": {},
   "outputs": [
    {
     "data": {
      "text/plain": [
       "device_id     int64\n",
       "gender        int64\n",
       "age           int64\n",
       "group        object\n",
       "app_id        int64\n",
       "              ...  \n",
       "1017          int64\n",
       "1018          int64\n",
       "1019          int64\n",
       "1020          int64\n",
       "1021          int64\n",
       "Length: 492, dtype: object"
      ]
     },
     "execution_count": 14,
     "metadata": {},
     "output_type": "execute_result"
    }
   ],
   "source": [
    "df_resampled.dtypes"
   ]
  },
  {
   "cell_type": "markdown",
   "metadata": {},
   "source": [
    "# Feature Selection & Set Train and Test"
   ]
  },
  {
   "cell_type": "code",
   "execution_count": 5,
   "metadata": {},
   "outputs": [],
   "source": [
    "# Train/test set  \n",
    "X = df_resampled.drop(['group'], axis=1)\n",
    "y = df_resampled['group'].values\n",
    "\n",
    "# Instantiate StandardScaler\n",
    "ss = StandardScaler()\n",
    "\n",
    "# Standarize and fit the data first \n",
    "X_stand = ss.fit_transform(X)\n",
    "\n",
    "# Train test split\n",
    "X_train, X_test, y_train, y_test = train_test_split( X_stand, y, test_size = 0.20, random_state = 1 )"
   ]
  },
  {
   "cell_type": "markdown",
   "metadata": {},
   "source": [
    "# Supervised Learning Models\n",
    "# Feature selection using PCA"
   ]
  },
  {
   "cell_type": "code",
   "execution_count": 18,
   "metadata": {},
   "outputs": [
    {
     "name": "stdout",
     "output_type": "stream",
     "text": [
      "Components: (600000, 383)\n"
     ]
    }
   ],
   "source": [
    "# Obtain the optimal amount of components\n",
    "pca = PCA(n_components=0.85)\n",
    "\n",
    "# Fit the standarized data into it.\n",
    "X_pca = pca.fit_transform(X_stand)\n",
    "\n",
    "# Check how many components were taken \n",
    "print('Components:', X_pca.shape)\n",
    "\n",
    "# Create a new training and testing set specifically for PCA modeling.\n",
    "X_train_pca, X_test_pca, y_train_pca, y_test_pca = train_test_split( X_pca, y, test_size = 0.20, random_state = 1 )"
   ]
  },
  {
   "cell_type": "markdown",
   "metadata": {},
   "source": [
    "# Naive Bayes - PCA Featuring"
   ]
  },
  {
   "cell_type": "code",
   "execution_count": 21,
   "metadata": {},
   "outputs": [
    {
     "name": "stdout",
     "output_type": "stream",
     "text": [
      "GaussianNB(priors=None, var_smoothing=1e-09)\n"
     ]
    }
   ],
   "source": [
    "# Run Naive Bayes.\n",
    "gnb = GaussianNB()\n",
    "# Fit the model.\n",
    "gnb.fit(X_train_pca, y_train_pca)\n",
    "print(gnb)"
   ]
  },
  {
   "cell_type": "code",
   "execution_count": 25,
   "metadata": {},
   "outputs": [
    {
     "name": "stdout",
     "output_type": "stream",
     "text": [
      "Cross-Validation Scores: [0.09126667 0.09073333 0.09391667 0.09151667 0.09685    0.09345\n",
      " 0.0898     0.09281667 0.09146667 0.0909    ]\n",
      "Averaged Cross-Validation Scores: 9.23%.\n",
      "              precision    recall  f1-score   support\n",
      "\n",
      "        F23-       0.14      0.04      0.06     10051\n",
      "      F24-26       0.10      0.09      0.09     10099\n",
      "      F27-28       0.13      0.02      0.04      9926\n",
      "      F29-32       0.12      0.02      0.03     10044\n",
      "      F33-42       0.10      0.00      0.00      9876\n",
      "        F43+       0.09      0.89      0.16      9937\n",
      "        M22-       0.13      0.02      0.03      9983\n",
      "      M23-26       0.10      0.00      0.00      9840\n",
      "      M27-28       0.12      0.01      0.02      9958\n",
      "      M29-31       0.10      0.01      0.02     10139\n",
      "      M32-38       0.11      0.01      0.01     10078\n",
      "        M39+       0.13      0.01      0.02     10069\n",
      "\n",
      "    accuracy                           0.09    120000\n",
      "   macro avg       0.11      0.09      0.04    120000\n",
      "weighted avg       0.11      0.09      0.04    120000\n",
      "\n",
      "[[ 395 1099  156  111    8 7958  114   22   44   75   37   32]\n",
      " [ 274  883  144  173   11 8228  110   18   68   71   57   62]\n",
      " [ 270  806  218  168    7 8098   98   15   61   93   41   51]\n",
      " [ 227  765  166  184   14 8321   73   25   53  100   39   77]\n",
      " [ 193  655  158  172   17 8333   78   15   53   84   41   77]\n",
      " [ 170  351  112  145   18 8818   77   10   45   76   42   73]\n",
      " [ 344  898  120   70   21 8035  166   12   71  111   56   79]\n",
      " [ 246  743  129  105   14 8134  116   21   78  124   40   90]\n",
      " [ 223  665  123  108   17 8332  114   26   94  108   66   82]\n",
      " [ 180  662  117  120    9 8543  113   20   93  127   52  103]\n",
      " [ 160  641  159  101   14 8486  104   12   62  132   64  143]\n",
      " [ 139  457  124  110   16 8761   90   20   53  115   57  127]]\n"
     ]
    }
   ],
   "source": [
    "y_pred_gnb = gnb.predict(X_test_pca)\n",
    "# Accuracy score.\n",
    "accuracy_score(y_test_pca, y_pred_gnb)\n",
    "# Cross-validation.\n",
    "gnb_score = cross_val_score(gnb, X_pca, y, cv=10)\n",
    "print('Cross-Validation Scores: {}'.format(gnb_score))\n",
    "print('Averaged Cross-Validation Scores: {:.2%}.'.format(gnb_score.mean()))\n",
    "# Classification report.\n",
    "print(classification_report(y_test_pca, y_pred_gnb))\n",
    "# Confusion matrix.\n",
    "print(confusion_matrix(y_test_pca, y_pred_gnb))"
   ]
  },
  {
   "cell_type": "markdown",
   "metadata": {},
   "source": []
  },
  {
   "cell_type": "markdown",
   "metadata": {},
   "source": [
    "# K-Nearest Neighbors - PCA Featuring"
   ]
  },
  {
   "cell_type": "code",
   "execution_count": 31,
   "metadata": {},
   "outputs": [
    {
     "name": "stdout",
     "output_type": "stream",
     "text": [
      "0.7815520833333334\n",
      "{'n_neighbors': 4, 'weights': 'distance'}\n",
      "KNeighborsClassifier(algorithm='auto', leaf_size=30, metric='minkowski',\n",
      "                     metric_params=None, n_jobs=None, n_neighbors=4, p=2,\n",
      "                     weights='distance')\n"
     ]
    }
   ],
   "source": [
    "# Finding best parameters by GridSearchCV\n",
    "\n",
    "k_range = [2,4,5,10]\n",
    "weight_options = [\"uniform\", \"distance\"]\n",
    "\n",
    "param_grid = dict(n_neighbors = k_range, weights = weight_options)\n",
    "#print (param_grid)\n",
    "knn = KNeighborsClassifier()\n",
    "\n",
    "grid = GridSearchCV(knn, param_grid, cv = 10, scoring = 'accuracy')\n",
    "grid.fit(X_train_pca,y_train_pca)\n",
    "\n",
    "print (grid.best_score_)\n",
    "print (grid.best_params_)\n",
    "print (grid.best_estimator_)"
   ]
  },
  {
   "cell_type": "code",
   "execution_count": 33,
   "metadata": {},
   "outputs": [
    {
     "name": "stdout",
     "output_type": "stream",
     "text": [
      "KNeighborsClassifier(algorithm='auto', leaf_size=30, metric='minkowski',\n",
      "                     metric_params=None, n_jobs=None, n_neighbors=4, p=2,\n",
      "                     weights='distance')\n",
      "Cross-Validation Scores: [0.80068333 0.7986     0.80048333 0.80205    0.80161667 0.80185\n",
      " 0.79621667 0.79915    0.80121667 0.80165   ]\n",
      "Averaged Cross-Validation Scores: 80.04%.\n",
      "              precision    recall  f1-score   support\n",
      "\n",
      "        F23-       0.91      0.85      0.88     10051\n",
      "      F24-26       0.71      0.73      0.72     10099\n",
      "      F27-28       0.65      0.73      0.68      9926\n",
      "      F29-32       0.74      0.73      0.74     10044\n",
      "      F33-42       0.88      0.83      0.85      9876\n",
      "        F43+       0.95      0.94      0.94      9937\n",
      "        M22-       0.88      0.86      0.87      9983\n",
      "      M23-26       0.71      0.68      0.69      9840\n",
      "      M27-28       0.63      0.71      0.67      9958\n",
      "      M29-31       0.69      0.72      0.71     10139\n",
      "      M32-38       0.83      0.79      0.81     10078\n",
      "        M39+       0.95      0.91      0.93     10069\n",
      "\n",
      "    accuracy                           0.79    120000\n",
      "   macro avg       0.79      0.79      0.79    120000\n",
      "weighted avg       0.79      0.79      0.79    120000\n",
      "\n",
      "[[8524 1243  196   56    4    0    6    3    8    8    2    1]\n",
      " [ 676 7417 1738  228   23    0    1    4    6    4    2    0]\n",
      " [  86 1410 7203 1179   35    1    2    0    0    7    3    0]\n",
      " [  47  276 1858 7332  514    1    0    1    1    4    8    2]\n",
      " [   5   45  117 1047 8215  432    1    1    1    1    2    9]\n",
      " [   0    0    3   28  571 9319    0    0    0    1    1   14]\n",
      " [   4    2    1    0    0    0 8540 1213  173   44    5    1]\n",
      " [   2    3    4    0    0    0 1017 6672 1922  196   23    1]\n",
      " [   2    1    2    0    1    1   86 1277 7090 1427   67    4]\n",
      " [   2    4    0    0    2    0   23  234 1887 7279  699    9]\n",
      " [   0    2    1    0    1    0    9   45  166 1459 7971  424]\n",
      " [   0    0    0    6   15   35    0    6   10   48  790 9159]]\n"
     ]
    }
   ],
   "source": [
    "# Build the KNN model.\n",
    "knn = KNeighborsClassifier(algorithm='auto', leaf_size=30, metric='minkowski',\n",
    "                     metric_params=None, n_jobs=None, n_neighbors=4, p=2,\n",
    "                     weights='distance')\n",
    "# Fit the model.\n",
    "knn.fit(X_train_pca, y_train_pca)\n",
    "print(knn)\n",
    "y_pred_knn = knn.predict(X_test_pca)\n",
    "# Accuracy score.\n",
    "accuracy_score(y_test_pca, y_pred_knn)\n",
    "# Cross-validation.\n",
    "knn_score = cross_val_score(knn, X_pca, y, cv=10)\n",
    "print('Cross-Validation Scores: {}'.format(knn_score))\n",
    "print('Averaged Cross-Validation Scores: {:.2%}.'.format(knn_score.mean()))\n",
    "# Classification report.\n",
    "print(classification_report(y_test_pca, y_pred_knn))\n",
    "# Confusion matrix.\n",
    "print(confusion_matrix(y_test_pca, y_pred_knn))"
   ]
  },
  {
   "cell_type": "markdown",
   "metadata": {},
   "source": []
  },
  {
   "cell_type": "markdown",
   "metadata": {},
   "source": [
    "# Decision Tree - PCA Featuring"
   ]
  },
  {
   "cell_type": "code",
   "execution_count": 61,
   "metadata": {},
   "outputs": [
    {
     "name": "stdout",
     "output_type": "stream",
     "text": [
      "Fitting 3 folds for each of 8640 candidates, totalling 25920 fits\n"
     ]
    },
    {
     "name": "stderr",
     "output_type": "stream",
     "text": [
      "[Parallel(n_jobs=1)]: Using backend SequentialBackend with 1 concurrent workers.\n",
      "[Parallel(n_jobs=1)]: Done 25920 out of 25920 | elapsed: 363.5min finished\n"
     ]
    },
    {
     "name": "stdout",
     "output_type": "stream",
     "text": [
      "0.32731249999999995\n",
      "{'criterion': 'gini', 'max_depth': 10, 'max_features': 9, 'max_leaf_nodes': 100, 'min_samples_split': 2, 'random_state': 20}\n",
      "DecisionTreeClassifier(ccp_alpha=0.0, class_weight=None, criterion='gini',\n",
      "                       max_depth=10, max_features=9, max_leaf_nodes=100,\n",
      "                       min_impurity_decrease=0.0, min_impurity_split=None,\n",
      "                       min_samples_leaf=1, min_samples_split=2,\n",
      "                       min_weight_fraction_leaf=0.0, presort='deprecated',\n",
      "                       random_state=20, splitter='best')\n"
     ]
    }
   ],
   "source": [
    "# Finding best parameters by GridSearchCV\n",
    "params = {'criterion':['gini','entropy'], 'max_features': list(range(2, 10)),\n",
    "          'max_depth':[4,5,6,7,8,9,10,15,20],\n",
    "          'max_leaf_nodes': [2, 10, 25, 100], 'min_samples_split': [2, 3, 4], 'random_state': [1, 5, 10, 15, 20]}\n",
    "decision_tree = tree.DecisionTreeClassifier()\n",
    "grid_search_cv = GridSearchCV(decision_tree, params, verbose=1, cv=3)\n",
    "\n",
    "grid_search_cv.fit(X_train_pca, y_train_pca)\n",
    "\n",
    "print (grid_search_cv.best_score_)\n",
    "print (grid_search_cv.best_params_)\n",
    "print (grid_search_cv.best_estimator_)"
   ]
  },
  {
   "cell_type": "code",
   "execution_count": 62,
   "metadata": {},
   "outputs": [
    {
     "name": "stdout",
     "output_type": "stream",
     "text": [
      "DecisionTreeClassifier(ccp_alpha=0.0, class_weight=None, criterion='gini',\n",
      "                       max_depth=10, max_features=9, max_leaf_nodes=100,\n",
      "                       min_impurity_decrease=0.0, min_impurity_split=None,\n",
      "                       min_samples_leaf=1, min_samples_split=2,\n",
      "                       min_weight_fraction_leaf=0.0, presort='deprecated',\n",
      "                       random_state=20, splitter='best')\n",
      "Cross-Validation Scores: [0.27103333 0.27435    0.27631667 0.26181667 0.27493333 0.27353333\n",
      " 0.26216667 0.25555    0.25876667 0.26205   ]\n",
      "Averaged Cross-Validation Scores: 26.71%.\n",
      "              precision    recall  f1-score   support\n",
      "\n",
      "        F23-       0.22      0.42      0.29     10051\n",
      "      F24-26       0.22      0.10      0.13     10099\n",
      "      F27-28       0.24      0.14      0.17      9926\n",
      "      F29-32       0.25      0.18      0.21     10044\n",
      "      F33-42       0.19      0.40      0.26      9876\n",
      "        F43+       0.39      0.35      0.37      9937\n",
      "        M22-       0.33      0.38      0.35      9983\n",
      "      M23-26       0.23      0.03      0.05      9840\n",
      "      M27-28       0.21      0.06      0.10      9958\n",
      "      M29-31       0.20      0.23      0.22     10139\n",
      "      M32-38       0.21      0.16      0.18     10078\n",
      "        M39+       0.27      0.50      0.35     10069\n",
      "\n",
      "    accuracy                           0.25    120000\n",
      "   macro avg       0.25      0.25      0.22    120000\n",
      "weighted avg       0.25      0.25      0.22    120000\n",
      "\n",
      "[[4243  613  774  741 1698  391  387   38  134  361  320  351]\n",
      " [2659  980 1456  976 2161  455  251   45   49  333  312  422]\n",
      " [2241  611 1361 1413 2432  559  194   32   22  266  316  479]\n",
      " [1852  406 1158 1763 2892  598  156   38   16  285  266  614]\n",
      " [1282  263  498 1008 3943 1269   85   44    5  321  354  804]\n",
      " [ 880  245   62  590 2679 3430   98   33    2  220  199 1499]\n",
      " [1109  224   69   11  782  329 3778  270  488  969  738 1216]\n",
      " [1086  224   66   31  812  294 2259  292  591 1760  844 1581]\n",
      " [1003  237   73   29  859  295 1582  237  645 2219  958 1821]\n",
      " [ 912  222   65   43  860  297 1418  126  547 2320 1203 2126]\n",
      " [1014  239   65  107  892  385  939   65  425 1526 1649 2772]\n",
      " [ 822  226   93  320  838  549  456   29  103  783  781 5069]]\n"
     ]
    }
   ],
   "source": [
    "# Build the Decision Tree model\n",
    "dtc = tree.DecisionTreeClassifier(ccp_alpha=0.0, class_weight=None, criterion='gini',\n",
    "                       max_depth=10, max_features=9, max_leaf_nodes=100,\n",
    "                       min_impurity_decrease=0.0, min_impurity_split=None,\n",
    "                       min_samples_leaf=1, min_samples_split=2,\n",
    "                       min_weight_fraction_leaf=0.0, presort='deprecated',\n",
    "                       random_state=20, splitter='best')\n",
    "# Fitting the model\n",
    "dtc.fit(X_train_pca, y_train_pca)\n",
    "print(dtc)\n",
    "y_pred_dtc = dtc.predict(X_test_pca)\n",
    "# Accuracy score\n",
    "accuracy_score(y_test_pca, y_pred_dtc)\n",
    "# Cross-validation\n",
    "dtc_score = cross_val_score(dtc, X_pca, y, cv=10)\n",
    "print('Cross-Validation Scores: {}'.format(dtc_score))\n",
    "print('Averaged Cross-Validation Scores: {:.2%}.'.format(dtc_score.mean()))\n",
    "# Classification report\n",
    "print(classification_report(y_test_pca, y_pred_dtc))\n",
    "# Confusion matrix\n",
    "print(confusion_matrix(y_test_pca, y_pred_dtc))"
   ]
  },
  {
   "cell_type": "markdown",
   "metadata": {},
   "source": []
  },
  {
   "cell_type": "markdown",
   "metadata": {},
   "source": [
    "# Random Forest - PCA Featuring"
   ]
  },
  {
   "cell_type": "code",
   "execution_count": 67,
   "metadata": {},
   "outputs": [
    {
     "name": "stdout",
     "output_type": "stream",
     "text": [
      "Fitting 3 folds for each of 8 candidates, totalling 24 fits\n"
     ]
    },
    {
     "name": "stderr",
     "output_type": "stream",
     "text": [
      "[Parallel(n_jobs=-1)]: Using backend LokyBackend with 4 concurrent workers.\n",
      "[Parallel(n_jobs=-1)]: Done  24 out of  24 | elapsed: 18.5min finished\n"
     ]
    },
    {
     "name": "stdout",
     "output_type": "stream",
     "text": [
      "0.5555833333333333\n",
      "{'max_depth': 8, 'max_features': 8, 'n_estimators': 1000}\n",
      "RandomForestClassifier(bootstrap=True, ccp_alpha=0.0, class_weight=None,\n",
      "                       criterion='gini', max_depth=8, max_features=8,\n",
      "                       max_leaf_nodes=None, max_samples=None,\n",
      "                       min_impurity_decrease=0.0, min_impurity_split=None,\n",
      "                       min_samples_leaf=1, min_samples_split=2,\n",
      "                       min_weight_fraction_leaf=0.0, n_estimators=1000,\n",
      "                       n_jobs=None, oob_score=False, random_state=None,\n",
      "                       verbose=0, warm_start=False)\n"
     ]
    }
   ],
   "source": [
    "# Finding best parameters by GridSearchCV\n",
    "grid_rfc = RandomForestClassifier()\n",
    "param_grid = {'n_estimators': [100,1000], \n",
    "              'max_depth': [5,8], \n",
    "               'max_features': [4, 8]}\n",
    "\n",
    "grid_search_cv = GridSearchCV(grid_rfc, param_grid, verbose=1, cv=3, n_jobs=-1)\n",
    "grid_search_cv.fit(X_train_pca, y_train_pca)\n",
    "\n",
    "print (grid_search_cv.best_score_)\n",
    "print (grid_search_cv.best_params_)\n",
    "print (grid_search_cv.best_estimator_)"
   ]
  },
  {
   "cell_type": "code",
   "execution_count": 66,
   "metadata": {},
   "outputs": [
    {
     "name": "stdout",
     "output_type": "stream",
     "text": [
      "RandomForestClassifier(bootstrap=True, ccp_alpha=0.0, class_weight=None,\n",
      "                       criterion='gini', max_depth=8, max_features=8,\n",
      "                       max_leaf_nodes=None, max_samples=None,\n",
      "                       min_impurity_decrease=0.0, min_impurity_split=None,\n",
      "                       min_samples_leaf=1, min_samples_split=2,\n",
      "                       min_weight_fraction_leaf=0.0, n_estimators=1000,\n",
      "                       n_jobs=-1, oob_score=False, random_state=None, verbose=0,\n",
      "                       warm_start=False)\n",
      "Cross-Validation Scores: [0.54548333 0.55006667 0.55036667 0.54808333 0.54171667 0.54523333\n",
      " 0.54823333 0.54568333 0.54756667 0.54801667]\n",
      "Averaged Cross-Validation Scores: 54.70%.\n",
      "              precision    recall  f1-score   support\n",
      "\n",
      "        F23-       0.48      0.78      0.59     10051\n",
      "      F24-26       0.45      0.27      0.34     10099\n",
      "      F27-28       0.49      0.39      0.43      9926\n",
      "      F29-32       0.61      0.39      0.48     10044\n",
      "      F33-42       0.55      0.60      0.57      9876\n",
      "        F43+       0.78      0.95      0.86      9937\n",
      "        M22-       0.49      0.74      0.59      9983\n",
      "      M23-26       0.44      0.20      0.27      9840\n",
      "      M27-28       0.39      0.45      0.42      9958\n",
      "      M29-31       0.56      0.37      0.45     10139\n",
      "      M32-38       0.63      0.55      0.59     10078\n",
      "        M39+       0.68      0.90      0.77     10069\n",
      "\n",
      "    accuracy                           0.55    120000\n",
      "   macro avg       0.54      0.55      0.53    120000\n",
      "weighted avg       0.54      0.55      0.53    120000\n",
      "\n",
      "[[7829  419  677  353  403    8  106   25   98   37   55   41]\n",
      " [3848 2762 1811  416  807   19   66   17  100   63  112   78]\n",
      " [1705 1897 3900  869 1143   34   50    5   65   41   91  126]\n",
      " [1163  848 1355 3945 2279   81   39    4   40   26  109  155]\n",
      " [ 540  140  180  480 5894 2319   29    4   21   15   42  212]\n",
      " [ 113    0   10   78   81 9489   27    0    1    6   13  119]\n",
      " [ 270    6   14   30   27    3 7394  423 1118  247  307  144]\n",
      " [ 247   22    9   44   32    3 4137 1962 2219  509  378  278]\n",
      " [ 229   24   14   50   33    7 1651 1360 4505 1180  476  429]\n",
      " [ 194   16   12   60   27   15 1106  548 2469 3761 1261  670]\n",
      " [ 208   22   19   72   30   11  491  143  734  760 5518 2070]\n",
      " [ 108    9   11   53   32  209   88   16   54   46  358 9085]]\n"
     ]
    }
   ],
   "source": [
    "# Building the Random Forest model\n",
    "rfc = RandomForestClassifier(max_depth=8, max_features=8, n_estimators=1000, n_jobs=-1)\n",
    "# Fitting the model.\n",
    "rfc.fit(X_train_pca, y_train_pca)\n",
    "print(rfc)\n",
    "y_pred_rfc = rfc.predict(X_test_pca)\n",
    "# Accuracy score\n",
    "accuracy_score(y_test_pca, y_pred_rfc)\n",
    "# Cross-validation\n",
    "rfc_score = cross_val_score(rfc, X_pca, y, cv=10)\n",
    "print('Cross-Validation Scores: {}'.format(rfc_score))\n",
    "print('Averaged Cross-Validation Scores: {:.2%}.'.format(rfc_score.mean()))\n",
    "# Classification report\n",
    "print(classification_report(y_test_pca, y_pred_rfc))\n",
    "# Confusion matrix\n",
    "print(confusion_matrix(y_test_pca, y_pred_rfc))"
   ]
  },
  {
   "cell_type": "markdown",
   "metadata": {},
   "source": []
  },
  {
   "cell_type": "markdown",
   "metadata": {},
   "source": [
    "# Logistic Regression - PCA Featuring"
   ]
  },
  {
   "cell_type": "code",
   "execution_count": 17,
   "metadata": {},
   "outputs": [
    {
     "name": "stderr",
     "output_type": "stream",
     "text": [
      "C:\\Users\\Fazel\\Anaconda3\\lib\\site-packages\\sklearn\\linear_model\\_logistic.py:940: ConvergenceWarning: lbfgs failed to converge (status=1):\n",
      "STOP: TOTAL NO. of ITERATIONS REACHED LIMIT.\n",
      "\n",
      "Increase the number of iterations (max_iter) or scale the data as shown in:\n",
      "    https://scikit-learn.org/stable/modules/preprocessing.html\n",
      "Please also refer to the documentation for alternative solver options:\n",
      "    https://scikit-learn.org/stable/modules/linear_model.html#logistic-regression\n",
      "  extra_warning_msg=_LOGISTIC_SOLVER_CONVERGENCE_MSG)\n"
     ]
    },
    {
     "name": "stdout",
     "output_type": "stream",
     "text": [
      "0.9764583333333334\n",
      "{'C': 1000, 'max_iter': 2000, 'multi_class': 'multinomial', 'penalty': 'l2'}\n",
      "LogisticRegression(C=1000, class_weight=None, dual=False, fit_intercept=True,\n",
      "                   intercept_scaling=1, l1_ratio=None, max_iter=2000,\n",
      "                   multi_class='multinomial', n_jobs=None, penalty='l2',\n",
      "                   random_state=None, solver='lbfgs', tol=0.0001, verbose=0,\n",
      "                   warm_start=False)\n"
     ]
    }
   ],
   "source": [
    "# Finding best parameters by GridSearchCV\n",
    "log_reg = LogisticRegression()\n",
    "\n",
    "params = {'C':[1000,10000],\n",
    "          'multi_class':['multinomial'],\n",
    "          'max_iter':[100,2000],\n",
    "          'penalty':['l1','l2']}\n",
    "\n",
    "logreg_cv = GridSearchCV(log_reg, params, cv=10, n_jobs=-1)\n",
    "logreg_cv.fit(X_train_pca, y_train_pca)\n",
    "\n",
    "print (logreg_cv.best_score_)\n",
    "print (logreg_cv.best_params_)\n",
    "print (logreg_cv.best_estimator_)"
   ]
  },
  {
   "cell_type": "code",
   "execution_count": 18,
   "metadata": {
    "scrolled": false
   },
   "outputs": [
    {
     "name": "stdout",
     "output_type": "stream",
     "text": [
      "LogisticRegression(C=1000, class_weight=None, dual=False, fit_intercept=True,\n",
      "                   intercept_scaling=1, l1_ratio=None, max_iter=2000,\n",
      "                   multi_class='multinomial', n_jobs=-1, penalty='l2',\n",
      "                   random_state=None, solver='lbfgs', tol=0.0001, verbose=0,\n",
      "                   warm_start=False)\n",
      "Cross-Validation Scores: [0.98033333 0.97683333 0.98116667 0.98033333 0.981      0.98183333\n",
      " 0.98       0.98116667 0.9795     0.97816667]\n",
      "Averaged Cross-Validation Scores: 98.00%.\n",
      "              precision    recall  f1-score   support\n",
      "\n",
      "        F23-       0.98      0.98      0.98       987\n",
      "      F24-26       0.98      0.98      0.98       991\n",
      "      F27-28       0.97      0.98      0.98       980\n",
      "      F29-32       0.98      0.97      0.97      1002\n",
      "      F33-42       0.97      0.97      0.97       953\n",
      "        F43+       0.99      0.99      0.99      1000\n",
      "        M22-       0.98      0.98      0.98      1053\n",
      "      M23-26       0.97      0.98      0.98      1048\n",
      "      M27-28       0.98      0.98      0.98       985\n",
      "      M29-31       0.97      0.98      0.98      1009\n",
      "      M32-38       0.97      0.96      0.96       988\n",
      "        M39+       0.98      0.97      0.97      1004\n",
      "\n",
      "    accuracy                           0.98     12000\n",
      "   macro avg       0.98      0.98      0.98     12000\n",
      "weighted avg       0.98      0.98      0.98     12000\n",
      "\n",
      "[[ 970   10    0    2    1    0    2    2    0    0    0    0]\n",
      " [   9  972    9    0    0    0    1    0    0    0    0    0]\n",
      " [   3    4  965    5    1    0    0    0    0    1    1    0]\n",
      " [   0    4   14  969   11    3    0    0    0    0    1    0]\n",
      " [   0    0    2   12  927    8    0    1    0    1    2    0]\n",
      " [   0    0    0    0    9  987    0    0    0    1    1    2]\n",
      " [   2    0    0    1    0    0 1036   10    2    1    1    0]\n",
      " [   1    0    0    0    0    0   14 1029    3    0    0    1]\n",
      " [   0    1    0    0    0    0    3   10  965    5    0    1]\n",
      " [   0    0    0    0    0    0    1    5   11  988    3    1]\n",
      " [   0    1    1    0    0    0    0    2    5   15  948   16]\n",
      " [   0    0    0    0    2    2    0    1    1    2   21  975]]\n"
     ]
    }
   ],
   "source": [
    "# Building the Logistic Regression model\n",
    "log_reg = LogisticRegression(C=1000, max_iter=2000, multi_class='multinomial', n_jobs=-1, penalty='l2')\n",
    "# Fitting the model\n",
    "log_reg.fit(X_train_pca, y_train_pca)\n",
    "print(log_reg)\n",
    "y_pred_lr = log_reg.predict(X_test_pca)\n",
    "# Accuracy score.\n",
    "accuracy_score(y_test_pca, y_pred_lr)\n",
    "# Cross-validation.\n",
    "lr_score = cross_val_score(log_reg, X_pca, y, cv=10)\n",
    "print('Cross-Validation Scores: {}'.format(lr_score))\n",
    "print('Averaged Cross-Validation Scores: {:.2%}.'.format(lr_score.mean()))\n",
    "# Classification report.\n",
    "print(classification_report(y_test_pca, y_pred_lr))\n",
    "# Confusion matrix.\n",
    "print(confusion_matrix(y_test_pca, y_pred_lr))"
   ]
  },
  {
   "cell_type": "markdown",
   "metadata": {},
   "source": []
  },
  {
   "cell_type": "markdown",
   "metadata": {},
   "source": [
    "# Support Vector Machine - PCA Featuring"
   ]
  },
  {
   "cell_type": "code",
   "execution_count": 10,
   "metadata": {},
   "outputs": [],
   "source": [
    "# Normalization on standardized data\n",
    "X_norm = preprocessing.normalize(X_stand)\n",
    "\n",
    "# Fit the normalized data into pca\n",
    "X_pca = pca.fit_transform(X_norm)\n",
    "\n",
    "# Create a new training and testing set specifically for PCA modeling.\n",
    "X_train_pca_n, X_test_pca_n, y_train_pca_n, y_test_pca_n = train_test_split( X_pca, y, test_size = 0.20, random_state = 1 )"
   ]
  },
  {
   "cell_type": "code",
   "execution_count": 11,
   "metadata": {},
   "outputs": [
    {
     "name": "stdout",
     "output_type": "stream",
     "text": [
      "0.5265196078431372\n",
      "{'C': 10, 'max_iter': 1000}\n",
      "LinearSVC(C=10, class_weight=None, dual=True, fit_intercept=True,\n",
      "          intercept_scaling=1, loss='squared_hinge', max_iter=1000,\n",
      "          multi_class='ovr', penalty='l2', random_state=None, tol=0.0001,\n",
      "          verbose=0)\n"
     ]
    }
   ],
   "source": [
    "# Finding best parameters by GridSearchCV\n",
    "svc = LinearSVC()\n",
    "\n",
    "Cs = [0.1, 1, 10, 100]\n",
    "param_grid = {'C': Cs, 'max_iter' : [1000, 5000, 10000]}\n",
    "\n",
    "grid_search_cv = GridSearchCV(svc, param_grid, n_jobs=-1, cv=5)\n",
    "grid_search_cv.fit(X_train_pca, y_train_pca)\n",
    "\n",
    "print (grid_search_cv.best_score_)\n",
    "print (grid_search_cv.best_params_)\n",
    "print (grid_search_cv.best_estimator_)"
   ]
  },
  {
   "cell_type": "code",
   "execution_count": 12,
   "metadata": {},
   "outputs": [
    {
     "name": "stdout",
     "output_type": "stream",
     "text": [
      "LinearSVC(C=10, class_weight=None, dual=True, fit_intercept=True,\n",
      "          intercept_scaling=1, loss='squared_hinge', max_iter=1000,\n",
      "          multi_class='ovr', penalty='l2', random_state=None, tol=0.0001,\n",
      "          verbose=0)\n",
      "Cross-Validation Scores: [0.52323529 0.52039216 0.52470588 0.52901961 0.51990196 0.52686275\n",
      " 0.52254902 0.51794118 0.52284314 0.52666667]\n",
      "Averaged Cross-Validation Scores: 52.34%.\n",
      "              precision    recall  f1-score   support\n",
      "\n",
      "        F23-       0.59      0.88      0.70      1699\n",
      "      F24-26       0.31      0.36      0.34      1673\n",
      "      F27-28       0.40      0.25      0.31      1764\n",
      "      F29-32       0.52      0.33      0.40      1637\n",
      "      F33-42       0.61      0.42      0.50      1685\n",
      "        F43+       0.64      0.90      0.75      1663\n",
      "        M22-       0.57      0.87      0.69      1682\n",
      "      M23-26       0.35      0.36      0.35      1732\n",
      "      M27-28       0.43      0.28      0.34      1767\n",
      "      M29-31       0.52      0.34      0.41      1719\n",
      "      M32-38       0.56      0.40      0.47      1701\n",
      "        M39+       0.61      0.89      0.73      1678\n",
      "\n",
      "    accuracy                           0.52     20400\n",
      "   macro avg       0.51      0.52      0.50     20400\n",
      "weighted avg       0.51      0.52      0.50     20400\n",
      "\n",
      "[[1494  112   64   29    0    0    0    0    0    0    0    0]\n",
      " [ 861  608  129   75    0    0    0    0    0    0    0    0]\n",
      " [ 161  928  439  217   19    0    0    0    0    0    0    0]\n",
      " [  24  286  456  541  289   41    0    0    0    0    0    0]\n",
      " [   0    3   18  165  710  789    0    0    0    0    0    0]\n",
      " [   0    0    0   19  142 1502    0    0    0    0    0    0]\n",
      " [   0    0    0    0    0    0 1464  125   46   47    0    0]\n",
      " [   0    0    0    0    0    0  948  626   82   76    0    0]\n",
      " [   0    0    0    0    0    0  145  861  496  251    8    6]\n",
      " [   0    0    0    0    0    0    4  178  513  576  376   72]\n",
      " [   0    0    0    0    0    0    0    7   14  137  681  862]\n",
      " [   0    0    0    0    0    0    0    0    0   25  156 1497]]\n"
     ]
    }
   ],
   "source": [
    "# Building the SVM model\n",
    "svc = LinearSVC(C=10, max_iter=1000)\n",
    "# Fitting the model\n",
    "svc.fit(X_train_pca_n, y_train_pca_n)\n",
    "print(svc)\n",
    "y_pred_svc = svc.predict(X_test_pca_n)\n",
    "# Accuracy score\n",
    "accuracy_score(y_test_pca_n, y_pred_svc)\n",
    "# Cross-validation\n",
    "svc_score = cross_val_score(svc, X_pca_n, y, cv=10)\n",
    "print('Cross-Validation Scores: {}'.format(svc_score))\n",
    "print('Averaged Cross-Validation Scores: {:.2%}.'.format(svc_score.mean()))\n",
    "# Classification score\n",
    "print(classification_report(y_test_pca_n, y_pred_svc))\n",
    "# Confusion matrix\n",
    "print(confusion_matrix(y_test_pca_n, y_pred_svc))"
   ]
  },
  {
   "cell_type": "markdown",
   "metadata": {},
   "source": []
  },
  {
   "cell_type": "markdown",
   "metadata": {},
   "source": [
    "# Feature selection using SelectKBest"
   ]
  },
  {
   "cell_type": "code",
   "execution_count": 34,
   "metadata": {},
   "outputs": [
    {
     "data": {
      "text/html": [
       "<div>\n",
       "<style scoped>\n",
       "    .dataframe tbody tr th:only-of-type {\n",
       "        vertical-align: middle;\n",
       "    }\n",
       "\n",
       "    .dataframe tbody tr th {\n",
       "        vertical-align: top;\n",
       "    }\n",
       "\n",
       "    .dataframe thead th {\n",
       "        text-align: right;\n",
       "    }\n",
       "</style>\n",
       "<table border=\"1\" class=\"dataframe\">\n",
       "  <thead>\n",
       "    <tr style=\"text-align: right;\">\n",
       "      <th></th>\n",
       "      <th>device_id</th>\n",
       "      <th>gender</th>\n",
       "      <th>age</th>\n",
       "      <th>group</th>\n",
       "      <th>app_id</th>\n",
       "      <th>is_active</th>\n",
       "      <th>encoded_model</th>\n",
       "      <th>2</th>\n",
       "      <th>4</th>\n",
       "      <th>6</th>\n",
       "      <th>...</th>\n",
       "      <th>1013</th>\n",
       "      <th>1014</th>\n",
       "      <th>1015</th>\n",
       "      <th>1016</th>\n",
       "      <th>1017</th>\n",
       "      <th>1018</th>\n",
       "      <th>1019</th>\n",
       "      <th>1020</th>\n",
       "      <th>1021</th>\n",
       "      <th>encoded_group</th>\n",
       "    </tr>\n",
       "  </thead>\n",
       "  <tbody>\n",
       "    <tr>\n",
       "      <th>0</th>\n",
       "      <td>-243186812835285661</td>\n",
       "      <td>1</td>\n",
       "      <td>22</td>\n",
       "      <td>M22-</td>\n",
       "      <td>33792862810792679</td>\n",
       "      <td>1</td>\n",
       "      <td>865</td>\n",
       "      <td>0</td>\n",
       "      <td>0</td>\n",
       "      <td>0</td>\n",
       "      <td>...</td>\n",
       "      <td>0</td>\n",
       "      <td>0</td>\n",
       "      <td>0</td>\n",
       "      <td>0</td>\n",
       "      <td>0</td>\n",
       "      <td>0</td>\n",
       "      <td>0</td>\n",
       "      <td>0</td>\n",
       "      <td>0</td>\n",
       "      <td>6</td>\n",
       "    </tr>\n",
       "    <tr>\n",
       "      <th>1</th>\n",
       "      <td>3042999840186016499</td>\n",
       "      <td>1</td>\n",
       "      <td>20</td>\n",
       "      <td>M22-</td>\n",
       "      <td>-7509752927626140732</td>\n",
       "      <td>0</td>\n",
       "      <td>128</td>\n",
       "      <td>0</td>\n",
       "      <td>0</td>\n",
       "      <td>0</td>\n",
       "      <td>...</td>\n",
       "      <td>0</td>\n",
       "      <td>0</td>\n",
       "      <td>0</td>\n",
       "      <td>0</td>\n",
       "      <td>0</td>\n",
       "      <td>0</td>\n",
       "      <td>0</td>\n",
       "      <td>0</td>\n",
       "      <td>0</td>\n",
       "      <td>6</td>\n",
       "    </tr>\n",
       "    <tr>\n",
       "      <th>2</th>\n",
       "      <td>-9024646837768278604</td>\n",
       "      <td>1</td>\n",
       "      <td>22</td>\n",
       "      <td>M22-</td>\n",
       "      <td>-7377705850326369447</td>\n",
       "      <td>0</td>\n",
       "      <td>847</td>\n",
       "      <td>0</td>\n",
       "      <td>0</td>\n",
       "      <td>0</td>\n",
       "      <td>...</td>\n",
       "      <td>0</td>\n",
       "      <td>0</td>\n",
       "      <td>0</td>\n",
       "      <td>0</td>\n",
       "      <td>0</td>\n",
       "      <td>0</td>\n",
       "      <td>0</td>\n",
       "      <td>0</td>\n",
       "      <td>0</td>\n",
       "      <td>6</td>\n",
       "    </tr>\n",
       "    <tr>\n",
       "      <th>3</th>\n",
       "      <td>4760257368378545414</td>\n",
       "      <td>1</td>\n",
       "      <td>20</td>\n",
       "      <td>M22-</td>\n",
       "      <td>2022530832075009460</td>\n",
       "      <td>0</td>\n",
       "      <td>848</td>\n",
       "      <td>0</td>\n",
       "      <td>0</td>\n",
       "      <td>0</td>\n",
       "      <td>...</td>\n",
       "      <td>0</td>\n",
       "      <td>0</td>\n",
       "      <td>0</td>\n",
       "      <td>0</td>\n",
       "      <td>0</td>\n",
       "      <td>0</td>\n",
       "      <td>0</td>\n",
       "      <td>0</td>\n",
       "      <td>0</td>\n",
       "      <td>6</td>\n",
       "    </tr>\n",
       "    <tr>\n",
       "      <th>4</th>\n",
       "      <td>7690261349530060632</td>\n",
       "      <td>1</td>\n",
       "      <td>21</td>\n",
       "      <td>M22-</td>\n",
       "      <td>-923192824907939817</td>\n",
       "      <td>0</td>\n",
       "      <td>846</td>\n",
       "      <td>0</td>\n",
       "      <td>0</td>\n",
       "      <td>0</td>\n",
       "      <td>...</td>\n",
       "      <td>0</td>\n",
       "      <td>0</td>\n",
       "      <td>0</td>\n",
       "      <td>0</td>\n",
       "      <td>0</td>\n",
       "      <td>0</td>\n",
       "      <td>0</td>\n",
       "      <td>0</td>\n",
       "      <td>0</td>\n",
       "      <td>6</td>\n",
       "    </tr>\n",
       "  </tbody>\n",
       "</table>\n",
       "<p>5 rows × 493 columns</p>\n",
       "</div>"
      ],
      "text/plain": [
       "             device_id  gender  age group               app_id  is_active  \\\n",
       "0  -243186812835285661       1   22  M22-    33792862810792679          1   \n",
       "1  3042999840186016499       1   20  M22- -7509752927626140732          0   \n",
       "2 -9024646837768278604       1   22  M22- -7377705850326369447          0   \n",
       "3  4760257368378545414       1   20  M22-  2022530832075009460          0   \n",
       "4  7690261349530060632       1   21  M22-  -923192824907939817          0   \n",
       "\n",
       "   encoded_model  2  4  6  ...  1013  1014  1015  1016  1017  1018  1019  \\\n",
       "0            865  0  0  0  ...     0     0     0     0     0     0     0   \n",
       "1            128  0  0  0  ...     0     0     0     0     0     0     0   \n",
       "2            847  0  0  0  ...     0     0     0     0     0     0     0   \n",
       "3            848  0  0  0  ...     0     0     0     0     0     0     0   \n",
       "4            846  0  0  0  ...     0     0     0     0     0     0     0   \n",
       "\n",
       "   1020  1021  encoded_group  \n",
       "0     0     0              6  \n",
       "1     0     0              6  \n",
       "2     0     0              6  \n",
       "3     0     0              6  \n",
       "4     0     0              6  \n",
       "\n",
       "[5 rows x 493 columns]"
      ]
     },
     "execution_count": 34,
     "metadata": {},
     "output_type": "execute_result"
    }
   ],
   "source": [
    "# Encode groups for preparing to fit SelectKBest\n",
    "# Build numerical labels for target groups\n",
    "model_encoder = LabelEncoder().fit(df_resampled['group'])\n",
    "\n",
    "# Store in a new column\n",
    "df_resampled['encoded_group'] = model_encoder.transform(df_resampled['group'])\n",
    "df_resampled()"
   ]
  },
  {
   "cell_type": "code",
   "execution_count": 35,
   "metadata": {},
   "outputs": [],
   "source": [
    "Y = df_resampled['encoded_group'].values"
   ]
  },
  {
   "cell_type": "code",
   "execution_count": 37,
   "metadata": {},
   "outputs": [
    {
     "name": "stderr",
     "output_type": "stream",
     "text": [
      "C:\\Users\\Fazel\\Anaconda3\\lib\\site-packages\\sklearn\\feature_selection\\_univariate_selection.py:299: RuntimeWarning: invalid value encountered in true_divide\n",
      "  corr /= X_norms\n",
      "C:\\Users\\Fazel\\Anaconda3\\lib\\site-packages\\scipy\\stats\\_distn_infrastructure.py:901: RuntimeWarning: invalid value encountered in greater\n",
      "  return (a < x) & (x < b)\n",
      "C:\\Users\\Fazel\\Anaconda3\\lib\\site-packages\\scipy\\stats\\_distn_infrastructure.py:901: RuntimeWarning: invalid value encountered in less\n",
      "  return (a < x) & (x < b)\n",
      "C:\\Users\\Fazel\\Anaconda3\\lib\\site-packages\\scipy\\stats\\_distn_infrastructure.py:1892: RuntimeWarning: invalid value encountered in less_equal\n",
      "  cond2 = cond0 & (x <= _a)\n"
     ]
    }
   ],
   "source": [
    "# Select top 100 features\n",
    "selection = SelectKBest(score_func=f_regression, k=100) \n",
    "X_kbest = selection.fit_transform(X_stand, Y)\n"
   ]
  },
  {
   "cell_type": "code",
   "execution_count": 43,
   "metadata": {},
   "outputs": [],
   "source": [
    "# Create a new training and testing set specifically for SelectBestK featuring.\n",
    "X_train_kbest, X_test_kbest, y_train_kbest, y_test_kbest = train_test_split( X_kbest, y, test_size = 0.20, random_state = 1 )"
   ]
  },
  {
   "cell_type": "markdown",
   "metadata": {},
   "source": [
    "# Naive Bayes - SelectKBest Featuring"
   ]
  },
  {
   "cell_type": "code",
   "execution_count": 49,
   "metadata": {},
   "outputs": [
    {
     "name": "stdout",
     "output_type": "stream",
     "text": [
      "GaussianNB(priors=None, var_smoothing=1e-09)\n",
      "Running time:  0.6707760849994884\n"
     ]
    }
   ],
   "source": [
    "# Run Naive Bayes.\n",
    "gnb = GaussianNB()\n",
    "time_start = perf_counter()\n",
    "# Fit the model\n",
    "gnb.fit(X_train_kbest, y_train_kbest)\n",
    "time_elapsed = (perf_counter() - time_start)\n",
    "print(gnb)\n",
    "print('Running time: ', time_elapsed)"
   ]
  },
  {
   "cell_type": "code",
   "execution_count": 50,
   "metadata": {},
   "outputs": [
    {
     "name": "stdout",
     "output_type": "stream",
     "text": [
      "Cross-Validation Scores: [0.34313725 0.3195098  0.27676471 0.32254902 0.26980392 0.27196078\n",
      " 0.25470588 0.38264706 0.30264706 0.26029412]\n",
      "Averaged Cross-Validation Scores: 30.04%.\n",
      "              precision    recall  f1-score   support\n",
      "\n",
      "        F23-       0.47      0.12      0.19      1699\n",
      "      F24-26       0.41      0.02      0.04      1673\n",
      "      F27-28       0.58      0.11      0.19      1764\n",
      "      F29-32       0.22      0.01      0.01      1637\n",
      "      F33-42       0.21      0.85      0.33      1685\n",
      "        F43+       0.46      0.62      0.53      1663\n",
      "        M22-       0.43      0.05      0.08      1682\n",
      "      M23-26       0.30      0.92      0.45      1732\n",
      "      M27-28       0.00      0.00      0.00      1767\n",
      "      M29-31       0.47      0.62      0.54      1719\n",
      "      M32-38       0.25      0.02      0.03      1701\n",
      "        M39+       0.65      0.95      0.78      1678\n",
      "\n",
      "    accuracy                           0.36     20400\n",
      "   macro avg       0.37      0.36      0.26     20400\n",
      "weighted avg       0.37      0.36      0.26     20400\n",
      "\n",
      "[[ 196   15    3    6  920  559    0    0    0    0    0    0]\n",
      " [  83   35   93    5 1317  140    0    0    0    0    0    0]\n",
      " [  53   25  201    5 1332  148    0    0    0    0    0    0]\n",
      " [  51    8   47   11 1359  161    0    0    0    0    0    0]\n",
      " [  24    3    3   18 1435  202    0    0    0    0    0    0]\n",
      " [   7    0    0    5  614 1037    0    0    0    0    0    0]\n",
      " [   0    0    0    0    0    0   77 1542    1    2    7   53]\n",
      " [   0    0    0    0    0    0   40 1600    3   32    4   53]\n",
      " [   0    0    0    0    0    0   19 1546    0  129    6   67]\n",
      " [   0    0    0    0    0    0   26  537    0 1058    6   92]\n",
      " [   0    0    0    0    0    0   14   65    0 1009   27  586]\n",
      " [   0    0    0    0    0    0    5   12    0    0   59 1602]]\n"
     ]
    }
   ],
   "source": [
    "y_pred_gnb = gnb.predict(X_test_kbest)\n",
    "# Accuracy score.\n",
    "accuracy_score(y_test_kbest, y_pred_gnb)\n",
    "# Cross-validation.\n",
    "gnb_score = cross_val_score(gnb, X_kbest, y, cv=10)\n",
    "print('Cross-Validation Scores: {}'.format(gnb_score))\n",
    "print('Averaged Cross-Validation Scores: {:.2%}.'.format(gnb_score.mean()))\n",
    "# Classification report.\n",
    "print(classification_report(y_test_kbest, y_pred_gnb))\n",
    "# Confusion matrix.\n",
    "print(confusion_matrix(y_test_kbest, y_pred_gnb))"
   ]
  },
  {
   "cell_type": "markdown",
   "metadata": {},
   "source": []
  },
  {
   "cell_type": "markdown",
   "metadata": {},
   "source": [
    "# K-Nearest Neighbors - SelectKBest Featuring"
   ]
  },
  {
   "cell_type": "code",
   "execution_count": 31,
   "metadata": {},
   "outputs": [
    {
     "name": "stdout",
     "output_type": "stream",
     "text": [
      "0.7815520833333334\n",
      "{'n_neighbors': 4, 'weights': 'distance'}\n",
      "KNeighborsClassifier(algorithm='auto', leaf_size=30, metric='minkowski',\n",
      "                     metric_params=None, n_jobs=None, n_neighbors=4, p=2,\n",
      "                     weights='distance')\n"
     ]
    }
   ],
   "source": [
    "# Finding best parameters by GridSearchCV\n",
    "\n",
    "k_range = [2,4,5,10]\n",
    "weight_options = [\"uniform\", \"distance\"]\n",
    "\n",
    "param_grid = dict(n_neighbors = k_range, weights = weight_options)\n",
    "#print (param_grid)\n",
    "knn = KNeighborsClassifier()\n",
    "\n",
    "grid = GridSearchCV(knn, param_grid, cv = 10, scoring = 'accuracy')\n",
    "grid.fit(X_train_kbest,y_train_kbest)\n",
    "\n",
    "print (grid.best_score_)\n",
    "print (grid.best_params_)\n",
    "print (grid.best_estimator_)"
   ]
  },
  {
   "cell_type": "code",
   "execution_count": 55,
   "metadata": {},
   "outputs": [
    {
     "name": "stdout",
     "output_type": "stream",
     "text": [
      "KNeighborsClassifier(algorithm='auto', leaf_size=30, metric='minkowski',\n",
      "                     metric_params=None, n_jobs=-1, n_neighbors=4, p=2,\n",
      "                     weights='distance')\n",
      "Running time:  79.35574454299967\n",
      "Cross-Validation Scores: [0.85029412 0.85107843 0.85176471 0.85490196 0.85568627 0.85147059\n",
      " 0.84941176 0.85313725 0.85009804 0.84784314]\n",
      "Averaged Cross-Validation Scores: 85.16%.\n",
      "              precision    recall  f1-score   support\n",
      "\n",
      "        F23-       0.92      0.86      0.89      1699\n",
      "      F24-26       0.76      0.80      0.78      1673\n",
      "      F27-28       0.75      0.79      0.77      1764\n",
      "      F29-32       0.79      0.81      0.80      1637\n",
      "      F33-42       0.90      0.86      0.88      1685\n",
      "        F43+       0.95      0.95      0.95      1663\n",
      "        M22-       0.90      0.90      0.90      1682\n",
      "      M23-26       0.80      0.75      0.77      1732\n",
      "      M27-28       0.72      0.80      0.76      1767\n",
      "      M29-31       0.77      0.81      0.79      1719\n",
      "      M32-38       0.88      0.84      0.85      1701\n",
      "        M39+       0.97      0.92      0.94      1678\n",
      "\n",
      "    accuracy                           0.84     20400\n",
      "   macro avg       0.84      0.84      0.84     20400\n",
      "weighted avg       0.84      0.84      0.84     20400\n",
      "\n",
      "[[1454  188   41   15    1    0    0    0    0    0    0    0]\n",
      " [ 102 1334  209   26    2    0    0    0    0    0    0    0]\n",
      " [  11  193 1393  161    4    1    0    1    0    0    0    0]\n",
      " [   5   32  197 1328   74    0    0    0    0    1    0    0]\n",
      " [   1    6   17  139 1451   71    0    0    0    0    0    0]\n",
      " [   0    1    0    4   73 1584    0    0    0    0    0    1]\n",
      " [   0    1    0    0    0    0 1517  134   26    3    1    0]\n",
      " [   1    0    0    0    0    0  149 1300  256   22    3    1]\n",
      " [   0    0    0    0    0    0   10  163 1414  171    9    0]\n",
      " [   1    0    0    0    0    0    3   15  235 1385   80    0]\n",
      " [   0    0    0    1    0    0    2    9   19  195 1421   54]\n",
      " [   0    0    0    0    0    4    0    3    1   14  109 1547]]\n"
     ]
    }
   ],
   "source": [
    "# Build the KNN model.\n",
    "knn = KNeighborsClassifier(algorithm='auto', leaf_size=30, metric='minkowski',\n",
    "                     metric_params=None, n_jobs=-1, n_neighbors=4, p=2,\n",
    "                     weights='distance')\n",
    "time_start = perf_counter()\n",
    "# Fit the model.\n",
    "knn.fit(X_train_kbest, y_train_kbest)\n",
    "time_elapsed = (perf_counter() - time_start)\n",
    "print(knn)\n",
    "print('Running time: ', time_elapsed)\n",
    "y_pred_knn = knn.predict(X_test_kbest)\n",
    "# Accuracy score.\n",
    "accuracy_score(y_test_kbest, y_pred_knn)\n",
    "# Cross-validation.\n",
    "knn_score = cross_val_score(knn, X_kbest, y, cv=10)\n",
    "print('Cross-Validation Scores: {}'.format(knn_score))\n",
    "print('Averaged Cross-Validation Scores: {:.2%}.'.format(knn_score.mean()))\n",
    "# Classification report.\n",
    "print(classification_report(y_test_kbest, y_pred_knn))\n",
    "# Confusion matrix.\n",
    "print(confusion_matrix(y_test_kbest, y_pred_knn))"
   ]
  },
  {
   "cell_type": "markdown",
   "metadata": {},
   "source": []
  },
  {
   "cell_type": "markdown",
   "metadata": {},
   "source": [
    "# Decision Tree - SelectKBest Featuring"
   ]
  },
  {
   "cell_type": "code",
   "execution_count": 61,
   "metadata": {},
   "outputs": [
    {
     "name": "stdout",
     "output_type": "stream",
     "text": [
      "Fitting 3 folds for each of 8640 candidates, totalling 25920 fits\n"
     ]
    },
    {
     "name": "stderr",
     "output_type": "stream",
     "text": [
      "[Parallel(n_jobs=1)]: Using backend SequentialBackend with 1 concurrent workers.\n",
      "[Parallel(n_jobs=1)]: Done 25920 out of 25920 | elapsed: 363.5min finished\n"
     ]
    },
    {
     "name": "stdout",
     "output_type": "stream",
     "text": [
      "0.32731249999999995\n",
      "{'criterion': 'gini', 'max_depth': 10, 'max_features': 9, 'max_leaf_nodes': 100, 'min_samples_split': 2, 'random_state': 20}\n",
      "DecisionTreeClassifier(ccp_alpha=0.0, class_weight=None, criterion='gini',\n",
      "                       max_depth=10, max_features=9, max_leaf_nodes=100,\n",
      "                       min_impurity_decrease=0.0, min_impurity_split=None,\n",
      "                       min_samples_leaf=1, min_samples_split=2,\n",
      "                       min_weight_fraction_leaf=0.0, presort='deprecated',\n",
      "                       random_state=20, splitter='best')\n"
     ]
    }
   ],
   "source": [
    "# Finding best parameters by GridSearchCV\n",
    "params = {'criterion':['gini','entropy'], 'max_features': list(range(2, 10)),\n",
    "          'max_depth':[4,5,6,7,8,9,10,15,20],\n",
    "          'max_leaf_nodes': [2, 10, 25, 100], 'min_samples_split': [2, 3, 4], 'random_state': [1, 5, 10, 15, 20]}\n",
    "decision_tree = tree.DecisionTreeClassifier()\n",
    "grid_search_cv = GridSearchCV(decision_tree, params, verbose=1, cv=3)\n",
    "\n",
    "grid_search_cv.fit(X_train_kbest, y_train_kbest)\n",
    "\n",
    "print (grid_search_cv.best_score_)\n",
    "print (grid_search_cv.best_params_)\n",
    "print (grid_search_cv.best_estimator_)"
   ]
  },
  {
   "cell_type": "code",
   "execution_count": 64,
   "metadata": {},
   "outputs": [
    {
     "name": "stdout",
     "output_type": "stream",
     "text": [
      "DecisionTreeClassifier(ccp_alpha=0.0, class_weight=None, criterion='gini',\n",
      "                       max_depth=10, max_features=9, max_leaf_nodes=100,\n",
      "                       min_impurity_decrease=0.0, min_impurity_split=None,\n",
      "                       min_samples_leaf=1, min_samples_split=2,\n",
      "                       min_weight_fraction_leaf=0.0, presort='deprecated',\n",
      "                       random_state=20, splitter='best')\n",
      "Running time:  0.5988214769968181\n",
      "Cross-Validation Scores: [0.34235294 0.37205882 0.49823529 0.44137255 0.38186275 0.43696078\n",
      " 0.28931373 0.32186275 0.42529412 0.34627451]\n",
      "Averaged Cross-Validation Scores: 38.56%.\n",
      "              precision    recall  f1-score   support\n",
      "\n",
      "        F23-       0.67      0.04      0.08      1699\n",
      "      F24-26       0.50      0.98      0.66      1673\n",
      "      F27-28       0.21      0.26      0.23      1764\n",
      "      F29-32       0.26      0.21      0.23      1637\n",
      "      F33-42       0.28      0.25      0.26      1685\n",
      "        F43+       0.12      0.00      0.00      1663\n",
      "        M22-       0.58      0.21      0.31      1682\n",
      "      M23-26       0.53      0.86      0.65      1732\n",
      "      M27-28       0.23      0.12      0.16      1767\n",
      "      M29-31       0.29      0.00      0.01      1719\n",
      "      M32-38       0.57      0.01      0.02      1701\n",
      "        M39+       0.13      0.60      0.22      1678\n",
      "\n",
      "    accuracy                           0.29     20400\n",
      "   macro avg       0.36      0.29      0.24     20400\n",
      "weighted avg       0.36      0.29      0.24     20400\n",
      "\n",
      "[[  71 1619    0    0    0    0    6    3    0    0    0    0]\n",
      " [  30 1634    0    0    0    0    6    3    0    0    0    0]\n",
      " [   0    0  453  312    1    4    0    0  142    0    0  852]\n",
      " [   0    0  373  342    2    3    0    0   88    0    3  826]\n",
      " [   0    0  248    0  415    5    0    0   57    2    8  950]\n",
      " [   0    0  194    0  407    2    0    0   97    0    0  963]\n",
      " [   5    0    0    0    0    0  350 1327    0    0    0    0]\n",
      " [   0    1    0    0    0    0  246 1485    0    0    0    0]\n",
      " [   0    0  289  291    3    0    0    0  210    8    0  966]\n",
      " [   0    0  235  311    3    2    0    0  160    6    1 1001]\n",
      " [   0    0  210   81  265    0    0    0   96    3   16 1030]\n",
      " [   0    0  177    1  408    1    0    0   82    2    0 1007]]\n"
     ]
    }
   ],
   "source": [
    "# Build the Decision Tree model\n",
    "dtc = tree.DecisionTreeClassifier(ccp_alpha=0.0, class_weight=None, criterion='gini',\n",
    "                       max_depth=10, max_features=9, max_leaf_nodes=100,\n",
    "                       min_impurity_decrease=0.0, min_impurity_split=None,\n",
    "                       min_samples_leaf=1, min_samples_split=2,\n",
    "                       min_weight_fraction_leaf=0.0, presort='deprecated',\n",
    "                       random_state=20, splitter='best')\n",
    "time_start = perf_counter()\n",
    "# Fitting the model\n",
    "dtc.fit(X_train_kbest, y_train_kbest)\n",
    "time_elapsed = (perf_counter() - time_start)\n",
    "print(dtc)\n",
    "print('Running time: ', time_elapsed)\n",
    "\n",
    "y_pred_dtc = dtc.predict(X_test_kbest)\n",
    "# Accuracy score\n",
    "accuracy_score(y_test_kbest, y_pred_dtc)\n",
    "# Cross-validation\n",
    "dtc_score = cross_val_score(dtc, X_kbest, y, cv=10)\n",
    "print('Cross-Validation Scores: {}'.format(dtc_score))\n",
    "print('Averaged Cross-Validation Scores: {:.2%}.'.format(dtc_score.mean()))\n",
    "# Classification report\n",
    "print(classification_report(y_test_kbest, y_pred_dtc))\n",
    "# Confusion matrix\n",
    "print(confusion_matrix(y_test_kbest, y_pred_dtc))"
   ]
  },
  {
   "cell_type": "code",
   "execution_count": 67,
   "metadata": {},
   "outputs": [
    {
     "name": "stdout",
     "output_type": "stream",
     "text": [
      "Fitting 3 folds for each of 8 candidates, totalling 24 fits\n"
     ]
    },
    {
     "name": "stderr",
     "output_type": "stream",
     "text": [
      "[Parallel(n_jobs=-1)]: Using backend LokyBackend with 4 concurrent workers.\n",
      "[Parallel(n_jobs=-1)]: Done  24 out of  24 | elapsed: 18.5min finished\n"
     ]
    },
    {
     "name": "stdout",
     "output_type": "stream",
     "text": [
      "0.5555833333333333\n",
      "{'max_depth': 8, 'max_features': 8, 'n_estimators': 1000}\n",
      "RandomForestClassifier(bootstrap=True, ccp_alpha=0.0, class_weight=None,\n",
      "                       criterion='gini', max_depth=8, max_features=8,\n",
      "                       max_leaf_nodes=None, max_samples=None,\n",
      "                       min_impurity_decrease=0.0, min_impurity_split=None,\n",
      "                       min_samples_leaf=1, min_samples_split=2,\n",
      "                       min_weight_fraction_leaf=0.0, n_estimators=1000,\n",
      "                       n_jobs=None, oob_score=False, random_state=None,\n",
      "                       verbose=0, warm_start=False)\n"
     ]
    }
   ],
   "source": [
    "# Finding best parameters by GridSearchCV\n",
    "grid_rfc = RandomForestClassifier()\n",
    "param_grid = {'n_estimators': [100,1000], \n",
    "              'max_depth': [5,8], \n",
    "               'max_features': [4, 8]}\n",
    "\n",
    "grid_search_cv = GridSearchCV(grid_rfc, param_grid, verbose=1, cv=3, n_jobs=-1)\n",
    "grid_search_cv.fit(X_train_kbest, y_train_kbest)\n",
    "\n",
    "print (grid_search_cv.best_score_)\n",
    "print (grid_search_cv.best_params_)\n",
    "print (grid_search_cv.best_estimator_)"
   ]
  },
  {
   "cell_type": "code",
   "execution_count": 68,
   "metadata": {},
   "outputs": [
    {
     "name": "stdout",
     "output_type": "stream",
     "text": [
      "RandomForestClassifier(bootstrap=True, ccp_alpha=0.0, class_weight=None,\n",
      "                       criterion='gini', max_depth=8, max_features=8,\n",
      "                       max_leaf_nodes=None, max_samples=None,\n",
      "                       min_impurity_decrease=0.0, min_impurity_split=None,\n",
      "                       min_samples_leaf=1, min_samples_split=2,\n",
      "                       min_weight_fraction_leaf=0.0, n_estimators=1000,\n",
      "                       n_jobs=-1, oob_score=False, random_state=None, verbose=0,\n",
      "                       warm_start=False)\n",
      "Running time:  75.13701524900534\n",
      "Cross-Validation Scores: [0.9995098  0.99764706 0.99882353 0.99705882 0.99735294 0.99539216\n",
      " 0.99901961 0.99686275 0.99656863 0.99754902]\n",
      "Averaged Cross-Validation Scores: 99.76%.\n",
      "              precision    recall  f1-score   support\n",
      "\n",
      "        F23-       1.00      1.00      1.00      1699\n",
      "      F24-26       1.00      1.00      1.00      1673\n",
      "      F27-28       1.00      1.00      1.00      1764\n",
      "      F29-32       0.99      1.00      1.00      1637\n",
      "      F33-42       1.00      0.99      1.00      1685\n",
      "        F43+       1.00      1.00      1.00      1663\n",
      "        M22-       0.98      1.00      0.99      1682\n",
      "      M23-26       1.00      0.98      0.99      1732\n",
      "      M27-28       1.00      1.00      1.00      1767\n",
      "      M29-31       1.00      1.00      1.00      1719\n",
      "      M32-38       1.00      1.00      1.00      1701\n",
      "        M39+       1.00      1.00      1.00      1678\n",
      "\n",
      "    accuracy                           1.00     20400\n",
      "   macro avg       1.00      1.00      1.00     20400\n",
      "weighted avg       1.00      1.00      1.00     20400\n",
      "\n",
      "[[1699    0    0    0    0    0    0    0    0    0    0    0]\n",
      " [   0 1673    0    0    0    0    0    0    0    0    0    0]\n",
      " [   0    0 1764    0    0    0    0    0    0    0    0    0]\n",
      " [   0    0    0 1637    0    0    0    0    0    0    0    0]\n",
      " [   0    0    0   12 1673    0    0    0    0    0    0    0]\n",
      " [   0    0    0    0    1 1662    0    0    0    0    0    0]\n",
      " [   0    0    0    0    0    0 1682    0    0    0    0    0]\n",
      " [   0    0    0    0    0    0   34 1698    0    0    0    0]\n",
      " [   0    0    0    0    0    0    0    0 1767    0    0    0]\n",
      " [   0    0    0    0    0    0    0    0    0 1718    1    0]\n",
      " [   0    0    0    0    0    0    0    0    0    8 1693    0]\n",
      " [   0    0    0    0    0    0    0    0    0    0    0 1678]]\n"
     ]
    }
   ],
   "source": [
    "# Building the Random Forest model\n",
    "rfc = RandomForestClassifier(max_depth=8, max_features=8, n_estimators=1000, n_jobs=-1)\n",
    "time_start = perf_counter()\n",
    "# Fitting the model.\n",
    "rfc.fit(X_train_kbest, y_train_kbest)\n",
    "time_elapsed = (perf_counter() - time_start)\n",
    "print(rfc)\n",
    "print('Running time: ', time_elapsed)\n",
    "\n",
    "y_pred_rfc = rfc.predict(X_test_kbest)\n",
    "# Accuracy score\n",
    "accuracy_score(y_test_kbest, y_pred_rfc)\n",
    "# Cross-validation\n",
    "rfc_score = cross_val_score(rfc, X_kbest, y, cv=10)\n",
    "print('Cross-Validation Scores: {}'.format(rfc_score))\n",
    "print('Averaged Cross-Validation Scores: {:.2%}.'.format(rfc_score.mean()))\n",
    "# Classification report\n",
    "print(classification_report(y_test_kbest, y_pred_rfc))\n",
    "# Confusion matrix\n",
    "print(confusion_matrix(y_test_kbest, y_pred_rfc))"
   ]
  },
  {
   "cell_type": "markdown",
   "metadata": {},
   "source": []
  },
  {
   "cell_type": "markdown",
   "metadata": {},
   "source": [
    "# Logistic Regression - SelectKBest Featuring"
   ]
  },
  {
   "cell_type": "code",
   "execution_count": 70,
   "metadata": {},
   "outputs": [
    {
     "name": "stdout",
     "output_type": "stream",
     "text": [
      "0.9997916666666666\n",
      "{'C': 10000, 'max_iter': 2000, 'multi_class': 'multinomial', 'penalty': 'l2'}\n",
      "LogisticRegression(C=10000, class_weight=None, dual=False, fit_intercept=True,\n",
      "                   intercept_scaling=1, l1_ratio=None, max_iter=2000,\n",
      "                   multi_class='multinomial', n_jobs=None, penalty='l2',\n",
      "                   random_state=None, solver='lbfgs', tol=0.0001, verbose=0,\n",
      "                   warm_start=False)\n"
     ]
    }
   ],
   "source": [
    "# Finding best parameters by GridSearchCV\n",
    "log_reg = LogisticRegression()\n",
    "\n",
    "params = {'C':[1000,10000],\n",
    "          'multi_class':['multinomial'],\n",
    "          'max_iter':[100,2000],\n",
    "          'penalty':['l1','l2']}\n",
    "\n",
    "logreg_cv = GridSearchCV(log_reg, params, cv=10, n_jobs=-1)\n",
    "logreg_cv.fit(X_train_kbest, y_train_kbest)\n",
    "\n",
    "print (logreg_cv.best_score_)\n",
    "print (logreg_cv.best_params_)\n",
    "print (logreg_cv.best_estimator_)"
   ]
  },
  {
   "cell_type": "code",
   "execution_count": 71,
   "metadata": {},
   "outputs": [
    {
     "name": "stdout",
     "output_type": "stream",
     "text": [
      "LogisticRegression(C=10000, class_weight=None, dual=False, fit_intercept=True,\n",
      "                   intercept_scaling=1, l1_ratio=None, max_iter=2000,\n",
      "                   multi_class='multinomial', n_jobs=-1, penalty='l2',\n",
      "                   random_state=None, solver='lbfgs', tol=0.0001, verbose=0,\n",
      "                   warm_start=False)\n",
      "Running time:  925.9497730319999\n",
      "Cross-Validation Scores: [0.99990196 0.99990196 0.99990196 1.         1.         0.99970588\n",
      " 0.99980392 0.99970588 0.99980392 0.99980392]\n",
      "Averaged Cross-Validation Scores: 99.99%.\n",
      "              precision    recall  f1-score   support\n",
      "\n",
      "        F23-       1.00      1.00      1.00      1699\n",
      "      F24-26       1.00      1.00      1.00      1673\n",
      "      F27-28       1.00      1.00      1.00      1764\n",
      "      F29-32       1.00      1.00      1.00      1637\n",
      "      F33-42       1.00      1.00      1.00      1685\n",
      "        F43+       1.00      1.00      1.00      1663\n",
      "        M22-       1.00      1.00      1.00      1682\n",
      "      M23-26       1.00      1.00      1.00      1732\n",
      "      M27-28       1.00      1.00      1.00      1767\n",
      "      M29-31       1.00      1.00      1.00      1719\n",
      "      M32-38       1.00      1.00      1.00      1701\n",
      "        M39+       1.00      1.00      1.00      1678\n",
      "\n",
      "    accuracy                           1.00     20400\n",
      "   macro avg       1.00      1.00      1.00     20400\n",
      "weighted avg       1.00      1.00      1.00     20400\n",
      "\n",
      "[[1699    0    0    0    0    0    0    0    0    0    0    0]\n",
      " [   0 1673    0    0    0    0    0    0    0    0    0    0]\n",
      " [   0    0 1764    0    0    0    0    0    0    0    0    0]\n",
      " [   0    0    0 1636    1    0    0    0    0    0    0    0]\n",
      " [   0    0    0    0 1685    0    0    0    0    0    0    0]\n",
      " [   0    0    0    0    0 1663    0    0    0    0    0    0]\n",
      " [   0    0    0    0    0    0 1682    0    0    0    0    0]\n",
      " [   0    0    0    0    0    0    0 1731    1    0    0    0]\n",
      " [   0    0    0    0    0    0    0    0 1767    0    0    0]\n",
      " [   0    0    0    0    0    0    0    0    0 1719    0    0]\n",
      " [   0    0    0    0    0    0    0    0    0    1 1700    0]\n",
      " [   0    0    0    0    0    0    0    0    0    0    3 1675]]\n"
     ]
    }
   ],
   "source": [
    "# Building the Logistic Regression model\n",
    "log_reg = LogisticRegression(C=10000, max_iter=2000, multi_class='multinomial', n_jobs=-1, penalty='l2')\n",
    "time_start = perf_counter()\n",
    "# Fitting the model\n",
    "log_reg.fit(X_train_kbest, y_train_kbest)\n",
    "time_elapsed = (perf_counter() - time_start)\n",
    "print(log_reg)\n",
    "print('Running time: ', time_elapsed)\n",
    "\n",
    "y_pred_lr = log_reg.predict(X_test_kbest)\n",
    "# Accuracy score.\n",
    "accuracy_score(y_test_kbest, y_pred_lr)\n",
    "# Cross-validation.\n",
    "lr_score = cross_val_score(log_reg, X_kbest, y, cv=10)\n",
    "print('Cross-Validation Scores: {}'.format(lr_score))\n",
    "print('Averaged Cross-Validation Scores: {:.2%}.'.format(lr_score.mean()))\n",
    "# Classification report.\n",
    "print(classification_report(y_test_kbest, y_pred_lr))\n",
    "# Confusion matrix.\n",
    "print(confusion_matrix(y_test_kbest, y_pred_lr))"
   ]
  },
  {
   "cell_type": "markdown",
   "metadata": {},
   "source": []
  },
  {
   "cell_type": "markdown",
   "metadata": {},
   "source": [
    "# Support Vector Machine - SelectKBest Featuring"
   ]
  },
  {
   "cell_type": "code",
   "execution_count": 76,
   "metadata": {},
   "outputs": [],
   "source": [
    "# Normalization\n",
    "X_norm = preprocessing.normalize(X_stand)\n",
    "\n",
    "# Select top 100 features\n",
    "selection = SelectKBest(score_func=f_regression, k=100) \n",
    "X_kbest_n = selection.fit_transform(X_norm, Y)\n",
    "\n",
    "# Create a new training and testing set specifically for SelectBestK featuring.\n",
    "X_train_kbest_n, X_test_kbest_n, y_train_kbest_n, y_test_kbest_n = train_test_split( X_kbest_n, y, test_size = 0.20, random_state = 1 )"
   ]
  },
  {
   "cell_type": "code",
   "execution_count": 80,
   "metadata": {},
   "outputs": [
    {
     "name": "stdout",
     "output_type": "stream",
     "text": [
      "0.6455514705882353\n",
      "{'C': 10, 'max_iter': 1000}\n",
      "LinearSVC(C=10, class_weight=None, dual=True, fit_intercept=True,\n",
      "          intercept_scaling=1, loss='squared_hinge', max_iter=1000,\n",
      "          multi_class='ovr', penalty='l2', random_state=None, tol=0.0001,\n",
      "          verbose=0)\n"
     ]
    },
    {
     "name": "stderr",
     "output_type": "stream",
     "text": [
      "C:\\Users\\Fazel\\Anaconda3\\lib\\site-packages\\sklearn\\svm\\_base.py:947: ConvergenceWarning: Liblinear failed to converge, increase the number of iterations.\n",
      "  \"the number of iterations.\", ConvergenceWarning)\n"
     ]
    }
   ],
   "source": [
    "# Finding best parameters by GridSearchCV\n",
    "svc = LinearSVC()\n",
    "\n",
    "Cs = [0.1, 1, 10, 100]\n",
    "param_grid = {'C': Cs, 'max_iter' : [1000, 5000, 10000]}\n",
    "\n",
    "grid_search_cv = GridSearchCV(svc, param_grid, n_jobs=-1, cv=5)\n",
    "grid_search_cv.fit(X_train_kbest, y_train_kbest)\n",
    "\n",
    "print (grid_search_cv.best_score_)\n",
    "print (grid_search_cv.best_params_)\n",
    "print (grid_search_cv.best_estimator_)"
   ]
  },
  {
   "cell_type": "code",
   "execution_count": 83,
   "metadata": {},
   "outputs": [
    {
     "name": "stdout",
     "output_type": "stream",
     "text": [
      "LinearSVC(C=10, class_weight=None, dual=True, fit_intercept=True,\n",
      "          intercept_scaling=1, loss='squared_hinge', max_iter=1000,\n",
      "          multi_class='ovr', penalty='l2', random_state=None, tol=0.0001,\n",
      "          verbose=0)\n",
      "Running time:  346.62868175400945\n",
      "Cross-Validation Scores: [0.51509804 0.51205882 0.52117647 0.52058824 0.51323529 0.52323529\n",
      " 0.51676471 0.51686275 0.52009804 0.51715686]\n",
      "Averaged Cross-Validation Scores: 51.76%.\n",
      "              precision    recall  f1-score   support\n",
      "\n",
      "        F23-       0.57      0.87      0.69      1699\n",
      "      F24-26       0.33      0.40      0.36      1673\n",
      "      F27-28       0.41      0.26      0.32      1764\n",
      "      F29-32       0.58      0.31      0.40      1637\n",
      "      F33-42       0.61      0.40      0.48      1685\n",
      "        F43+       0.64      0.91      0.75      1663\n",
      "        M22-       0.56      0.87      0.68      1682\n",
      "      M23-26       0.35      0.36      0.35      1732\n",
      "      M27-28       0.42      0.28      0.34      1767\n",
      "      M29-31       0.54      0.33      0.41      1719\n",
      "      M32-38       0.57      0.39      0.46      1701\n",
      "        M39+       0.60      0.90      0.72      1678\n",
      "\n",
      "    accuracy                           0.52     20400\n",
      "   macro avg       0.51      0.52      0.50     20400\n",
      "weighted avg       0.51      0.52      0.50     20400\n",
      "\n",
      "[[1479  145   73    2    0    0    0    0    0    0    0    0]\n",
      " [ 846  669  137   18    0    0    0    1    1    0    1    0]\n",
      " [ 221  901  467  132   33    5    0    3    0    0    2    0]\n",
      " [  33  321  439  500  285   58    0    0    1    0    0    0]\n",
      " [   1    3   19  184  678  799    0    0    0    0    1    0]\n",
      " [   0    0    0   29  119 1515    0    0    0    0    0    0]\n",
      " [   6    0    0    0    0    0 1459  120   78   15    3    1]\n",
      " [   1    0    1    0    0    0  963  619  102   42    2    2]\n",
      " [   2    0    0    0    0    0  168  847  496  229   16    9]\n",
      " [   2    0    1    0    0    0   18  174  480  571  342  131]\n",
      " [   0    0    0    0    0    0    0   10   12  166  660  853]\n",
      " [   0    0    0    0    0    0    0    0    1   30  137 1510]]\n"
     ]
    }
   ],
   "source": [
    "# Building the SVM model\n",
    "svc = LinearSVC(C=10, max_iter=1000)\n",
    "time_start = perf_counter()\n",
    "# Fitting the model\n",
    "svc.fit(X_train_kbest_n, y_train_kbest_n)\n",
    "time_elapsed = (perf_counter() - time_start) \n",
    "print(svc)\n",
    "print('Running time: ', time_elapsed)\n",
    "\n",
    "y_pred_svc = svc.predict(X_test_kbest_n)\n",
    "# Accuracy score\n",
    "accuracy_score(y_test_kbest_n, y_pred_svc)\n",
    "# Cross-validation\n",
    "svc_score = cross_val_score(svc, X_kbest_n, y, cv=10)\n",
    "print('Cross-Validation Scores: {}'.format(svc_score))\n",
    "print('Averaged Cross-Validation Scores: {:.2%}.'.format(svc_score.mean()))\n",
    "# Classification score\n",
    "print(classification_report(y_test_kbest_n, y_pred_svc))\n",
    "# Confusion matrix\n",
    "print(confusion_matrix(y_test_kbest_n, y_pred_svc))"
   ]
  },
  {
   "cell_type": "markdown",
   "metadata": {},
   "source": []
  },
  {
   "cell_type": "markdown",
   "metadata": {},
   "source": [
    "# Convolutional Neural Network"
   ]
  },
  {
   "cell_type": "code",
   "execution_count": 1,
   "metadata": {},
   "outputs": [],
   "source": [
    "# Initializing again due to shutting down previous kernel\n",
    "# Load necessary libraries\n",
    "import pandas as pd\n",
    "import numpy as np\n",
    "from sklearn.preprocessing import LabelEncoder\n",
    "\n",
    "from sklearn.model_selection import train_test_split, cross_validate, cross_val_score\n",
    "from sklearn.preprocessing import StandardScaler\n",
    "from sklearn.metrics import classification_report\n",
    "from sklearn.metrics import confusion_matrix\n",
    "from sklearn.metrics import accuracy_score\n",
    "\n",
    "from sklearn.decomposition import PCA\n",
    "from sklearn.feature_selection import SelectKBest, f_regression"
   ]
  },
  {
   "cell_type": "code",
   "execution_count": 17,
   "metadata": {},
   "outputs": [
    {
     "name": "stderr",
     "output_type": "stream",
     "text": [
      "Using TensorFlow backend.\n"
     ]
    }
   ],
   "source": [
    "import tensorflow as tf\n",
    "import keras\n",
    "\n",
    "# Import various componenets tensor felow for model building\n",
    "from keras.models import Sequential\n",
    "from keras.layers import Dense, Dropout, Flatten, Conv1D, MaxPooling1D, MaxoutDense\n",
    "from keras.models import Model\n",
    "from keras.preprocessing import sequence\n",
    "from keras.optimizers import RMSprop, Adam, SGD, Adagrad\n",
    "from keras.utils import np_utils\n",
    "from keras.utils import to_categorical\n",
    "from keras.layers.normalization import BatchNormalization\n",
    "\n",
    "# Import the backend\n",
    "from keras import backend as K"
   ]
  },
  {
   "cell_type": "markdown",
   "metadata": {},
   "source": [
    "### SelectKBest Featuring"
   ]
  },
  {
   "cell_type": "code",
   "execution_count": 12,
   "metadata": {},
   "outputs": [
    {
     "name": "stderr",
     "output_type": "stream",
     "text": [
      "c:\\users\\fazel\\anaconda3\\envs\\tensorflow_env\\lib\\site-packages\\sklearn\\feature_selection\\_univariate_selection.py:299: RuntimeWarning: invalid value encountered in true_divide\n",
      "  corr /= X_norms\n",
      "c:\\users\\fazel\\anaconda3\\envs\\tensorflow_env\\lib\\site-packages\\scipy\\stats\\_distn_infrastructure.py:901: RuntimeWarning: invalid value encountered in greater\n",
      "  return (a < x) & (x < b)\n",
      "c:\\users\\fazel\\anaconda3\\envs\\tensorflow_env\\lib\\site-packages\\scipy\\stats\\_distn_infrastructure.py:901: RuntimeWarning: invalid value encountered in less\n",
      "  return (a < x) & (x < b)\n",
      "c:\\users\\fazel\\anaconda3\\envs\\tensorflow_env\\lib\\site-packages\\scipy\\stats\\_distn_infrastructure.py:1892: RuntimeWarning: invalid value encountered in less_equal\n",
      "  cond2 = cond0 & (x <= _a)\n"
     ]
    }
   ],
   "source": [
    "# Read the saved date\n",
    "df_resampled = pd.read_csv(\"df_resampled.csv\")\n",
    "\n",
    "# Train/test set  \n",
    "X = df_resampled.drop(['group', 'encoded_group'], axis=1)\n",
    "y = df_resampled['encoded_group'].values\n",
    "\n",
    "# Instantiate StandardScaler\n",
    "ss = StandardScaler()\n",
    "\n",
    "# Standarize and fit the data first \n",
    "X_stand = ss.fit_transform(X)\n",
    "# Select top 100 features\n",
    "selection = SelectKBest(score_func=f_regression, k=100) \n",
    "X_kbest = selection.fit_transform(X_stand, y)\n",
    "\n",
    "# Create a new training and testing set specifically for SelectBestK featuring.\n",
    "X_train_tf, X_test_tf, y_train_tf, y_test_tf = train_test_split( X_kbest, y, test_size = 0.20, random_state = 1 )"
   ]
  },
  {
   "cell_type": "code",
   "execution_count": 18,
   "metadata": {},
   "outputs": [],
   "source": [
    "# Modify the dimension input and target variables for Conv1d\n",
    "X_train_CNN = np.expand_dims(X_train_tf, axis=2)\n",
    "X_test_CNN = np.expand_dims(X_test_tf, axis=2)\n",
    "\n",
    "# Encode y into 12 different vectors for CNN because of our 12 age groups\n",
    "y_train_CNN = np_utils.to_categorical(y_train_tf, 12)\n",
    "y_test_CNN = np_utils.to_categorical(y_test_tf, 12)"
   ]
  },
  {
   "cell_type": "code",
   "execution_count": 19,
   "metadata": {},
   "outputs": [
    {
     "name": "stderr",
     "output_type": "stream",
     "text": [
      "c:\\users\\fazel\\anaconda3\\envs\\tensorflow_env\\lib\\site-packages\\keras\\legacy\\layers.py:74: UserWarning: The `MaxoutDense` layer is deprecated and will be removed after 06/2017.\n",
      "  warnings.warn('The `MaxoutDense` layer is deprecated '\n"
     ]
    },
    {
     "name": "stdout",
     "output_type": "stream",
     "text": [
      "Model: \"sequential_1\"\n",
      "_________________________________________________________________\n",
      "Layer (type)                 Output Shape              Param #   \n",
      "=================================================================\n",
      "conv1d_1 (Conv1D)            (None, 500, 64)           704       \n",
      "_________________________________________________________________\n",
      "conv1d_2 (Conv1D)            (None, 481, 64)           81984     \n",
      "_________________________________________________________________\n",
      "batch_normalization_1 (Batch (None, 481, 64)           256       \n",
      "_________________________________________________________________\n",
      "conv1d_3 (Conv1D)            (None, 467, 32)           30752     \n",
      "_________________________________________________________________\n",
      "max_pooling1d_1 (MaxPooling1 (None, 32, 32)            0         \n",
      "_________________________________________________________________\n",
      "batch_normalization_2 (Batch (None, 32, 32)            128       \n",
      "_________________________________________________________________\n",
      "dropout_1 (Dropout)          (None, 32, 32)            0         \n",
      "_________________________________________________________________\n",
      "conv1d_4 (Conv1D)            (None, 13, 32)            20512     \n",
      "_________________________________________________________________\n",
      "batch_normalization_3 (Batch (None, 13, 32)            128       \n",
      "_________________________________________________________________\n",
      "conv1d_5 (Conv1D)            (None, 4, 32)             10272     \n",
      "_________________________________________________________________\n",
      "max_pooling1d_2 (MaxPooling1 (None, 1, 32)             0         \n",
      "_________________________________________________________________\n",
      "batch_normalization_4 (Batch (None, 1, 32)             128       \n",
      "_________________________________________________________________\n",
      "dropout_2 (Dropout)          (None, 1, 32)             0         \n",
      "_________________________________________________________________\n",
      "flatten_1 (Flatten)          (None, 32)                0         \n",
      "_________________________________________________________________\n",
      "maxout_dense_1 (MaxoutDense) (None, 32)                12672     \n",
      "_________________________________________________________________\n",
      "batch_normalization_5 (Batch (None, 32)                128       \n",
      "_________________________________________________________________\n",
      "dropout_3 (Dropout)          (None, 32)                0         \n",
      "_________________________________________________________________\n",
      "maxout_dense_2 (MaxoutDense) (None, 32)                12672     \n",
      "_________________________________________________________________\n",
      "batch_normalization_6 (Batch (None, 32)                128       \n",
      "_________________________________________________________________\n",
      "dropout_4 (Dropout)          (None, 32)                0         \n",
      "_________________________________________________________________\n",
      "maxout_dense_3 (MaxoutDense) (None, 32)                12672     \n",
      "_________________________________________________________________\n",
      "batch_normalization_7 (Batch (None, 32)                128       \n",
      "_________________________________________________________________\n",
      "dropout_5 (Dropout)          (None, 32)                0         \n",
      "_________________________________________________________________\n",
      "dense_1 (Dense)              (None, 12)                396       \n",
      "=================================================================\n",
      "Total params: 183,660\n",
      "Trainable params: 183,148\n",
      "Non-trainable params: 512\n",
      "_________________________________________________________________\n"
     ]
    }
   ],
   "source": [
    "# Building the Convolutionals Model\n",
    "model = Sequential()\n",
    "\n",
    "# Set up some parameters\n",
    "input_dim = 1\n",
    "\n",
    "# Convert X_train and X_test to numpy array and check lenths to be equal\n",
    "max_review_length = 500 \n",
    "X_train_CNN_f = sequence.pad_sequences(X_train_CNN, maxlen=max_review_length) \n",
    "X_test_CNN_f = sequence.pad_sequences(X_test_CNN, maxlen=max_review_length)\n",
    "\n",
    "\n",
    "# First convolutional layer\n",
    "model.add(Conv1D(64, kernel_size=10,\n",
    "                 padding='same',\n",
    "                 input_shape=(max_review_length, input_dim),\n",
    "                 activation='elu',\n",
    "                 strides=1))\n",
    "model.add(Conv1D(64, kernel_size=20, activation='elu'))\n",
    "model.add(BatchNormalization())\n",
    "model.add(Conv1D(32, kernel_size=15, activation='elu'))\n",
    "model.add(MaxPooling1D(pool_size=15,\n",
    "                       padding='same'))\n",
    "model.add(BatchNormalization())\n",
    "model.add(Dropout(0.25))\n",
    "model.add(Conv1D(32, kernel_size=20, activation='elu'))\n",
    "model.add(BatchNormalization())\n",
    "model.add(Conv1D(32, kernel_size=10, activation='elu'))\n",
    "model.add(MaxPooling1D(pool_size=25,\n",
    "                       padding='same'))\n",
    "model.add(BatchNormalization())\n",
    "model.add(Dropout(0.3))\n",
    "model.add(Flatten())\n",
    "model.add(MaxoutDense(32, nb_feature=12))\n",
    "model.add(BatchNormalization())\n",
    "model.add(Dropout(0.3))\n",
    "model.add(MaxoutDense(32, nb_feature=12))\n",
    "model.add(BatchNormalization())\n",
    "model.add(Dropout(0.5))\n",
    "model.add(MaxoutDense(32, nb_feature=12))\n",
    "model.add(BatchNormalization())\n",
    "model.add(Dropout(0.5))\n",
    "model.add(Dense(12, activation='softmax'))\n",
    "model.compile(loss=keras.losses.categorical_crossentropy,\n",
    "              optimizer=keras.optimizers.Adagrad(),\n",
    "              metrics=['accuracy'])\n",
    "\n",
    "model.summary()"
   ]
  },
  {
   "cell_type": "code",
   "execution_count": 22,
   "metadata": {},
   "outputs": [
    {
     "name": "stdout",
     "output_type": "stream",
     "text": [
      "Train on 81600 samples, validate on 20400 samples\n",
      "Epoch 1/10\n",
      "81600/81600 [==============================] - 2645s 32ms/step - loss: 2.2692 - accuracy: 0.1883 - val_loss: 2.3205 - val_accuracy: 0.1618\n",
      "Epoch 2/10\n",
      "81600/81600 [==============================] - 2707s 33ms/step - loss: 1.7325 - accuracy: 0.3246 - val_loss: 2.8843 - val_accuracy: 0.0824\n",
      "Epoch 3/10\n",
      "81600/81600 [==============================] - 2748s 34ms/step - loss: 1.5324 - accuracy: 0.3749 - val_loss: 3.8847 - val_accuracy: 0.0943\n",
      "Epoch 4/10\n",
      "81600/81600 [==============================] - 2748s 34ms/step - loss: 1.4493 - accuracy: 0.3911 - val_loss: 7.7605 - val_accuracy: 0.1278\n",
      "Epoch 5/10\n",
      "81600/81600 [==============================] - 2749s 34ms/step - loss: 1.4055 - accuracy: 0.3984 - val_loss: 11.2341 - val_accuracy: 0.1290\n",
      "Epoch 6/10\n",
      "81600/81600 [==============================] - 2750s 34ms/step - loss: 1.3740 - accuracy: 0.4047 - val_loss: 13.3941 - val_accuracy: 0.1289\n",
      "Epoch 7/10\n",
      "81600/81600 [==============================] - 2753s 34ms/step - loss: 1.3560 - accuracy: 0.4042 - val_loss: 6.9614 - val_accuracy: 0.1297\n",
      "Epoch 8/10\n",
      "81600/81600 [==============================] - 2745s 34ms/step - loss: 1.3418 - accuracy: 0.4050 - val_loss: 6.7044 - val_accuracy: 0.1370\n",
      "Epoch 9/10\n",
      "81600/81600 [==============================] - 2748s 34ms/step - loss: 1.3300 - accuracy: 0.4092 - val_loss: 11.4717 - val_accuracy: 0.1302\n",
      "Epoch 10/10\n",
      "81600/81600 [==============================] - 2750s 34ms/step - loss: 1.3223 - accuracy: 0.4072 - val_loss: 19.6742 - val_accuracy: 0.1297\n",
      "Test loss: 19.67419980217429\n",
      "Test accuracy: 0.1296568661928177\n"
     ]
    }
   ],
   "source": [
    "model.fit(X_train_CNN_f, y_train_CNN,\n",
    "          batch_size=1250,\n",
    "          epochs=10,\n",
    "          verbose=1,\n",
    "          validation_data=(X_test_CNN_f, y_test_CNN))\n",
    "\n",
    "score = model.evaluate(X_test_CNN_f, y_test_CNN, verbose=0)\n",
    "print('Test loss:', score[0])\n",
    "print('Test accuracy:', score[1])"
   ]
  },
  {
   "cell_type": "markdown",
   "metadata": {},
   "source": []
  },
  {
   "cell_type": "markdown",
   "metadata": {},
   "source": [
    "### PCA Featuring"
   ]
  },
  {
   "cell_type": "code",
   "execution_count": 24,
   "metadata": {},
   "outputs": [],
   "source": [
    "# Obtain the optimal amount of components\n",
    "pca = PCA(n_components=0.85)\n",
    "\n",
    "# Fit the standarized data into it.\n",
    "X_pca = pca.fit_transform(X_stand)\n",
    "\n",
    "# Create a new training and testing set specifically for PCA modeling.\n",
    "X_train_pca, X_test_pca, y_train_pca, y_test_pca = train_test_split( X_pca, y, test_size = 0.20, random_state = 1 )"
   ]
  },
  {
   "cell_type": "code",
   "execution_count": 26,
   "metadata": {},
   "outputs": [],
   "source": [
    "# Modify the dimension input and target variables for Conv1d\n",
    "X_train_CNN = np.expand_dims(X_train_pca, axis=2)\n",
    "X_test_CNN = np.expand_dims(X_test_pca, axis=2)\n",
    "\n",
    "# Encode y into 12 different vectors for CNN because of our 12 age groups\n",
    "y_train_CNN = np_utils.to_categorical(y_train_pca, 12)\n",
    "y_test_CNN = np_utils.to_categorical(y_test_pca, 12)"
   ]
  },
  {
   "cell_type": "code",
   "execution_count": 27,
   "metadata": {},
   "outputs": [
    {
     "name": "stderr",
     "output_type": "stream",
     "text": [
      "c:\\users\\fazel\\anaconda3\\envs\\tensorflow_env\\lib\\site-packages\\keras\\legacy\\layers.py:74: UserWarning: The `MaxoutDense` layer is deprecated and will be removed after 06/2017.\n",
      "  warnings.warn('The `MaxoutDense` layer is deprecated '\n"
     ]
    },
    {
     "name": "stdout",
     "output_type": "stream",
     "text": [
      "Model: \"sequential_2\"\n",
      "_________________________________________________________________\n",
      "Layer (type)                 Output Shape              Param #   \n",
      "=================================================================\n",
      "conv1d_6 (Conv1D)            (None, 500, 64)           704       \n",
      "_________________________________________________________________\n",
      "conv1d_7 (Conv1D)            (None, 481, 64)           81984     \n",
      "_________________________________________________________________\n",
      "batch_normalization_8 (Batch (None, 481, 64)           256       \n",
      "_________________________________________________________________\n",
      "conv1d_8 (Conv1D)            (None, 467, 32)           30752     \n",
      "_________________________________________________________________\n",
      "max_pooling1d_3 (MaxPooling1 (None, 32, 32)            0         \n",
      "_________________________________________________________________\n",
      "batch_normalization_9 (Batch (None, 32, 32)            128       \n",
      "_________________________________________________________________\n",
      "dropout_6 (Dropout)          (None, 32, 32)            0         \n",
      "_________________________________________________________________\n",
      "conv1d_9 (Conv1D)            (None, 13, 32)            20512     \n",
      "_________________________________________________________________\n",
      "batch_normalization_10 (Batc (None, 13, 32)            128       \n",
      "_________________________________________________________________\n",
      "conv1d_10 (Conv1D)           (None, 4, 32)             10272     \n",
      "_________________________________________________________________\n",
      "max_pooling1d_4 (MaxPooling1 (None, 1, 32)             0         \n",
      "_________________________________________________________________\n",
      "batch_normalization_11 (Batc (None, 1, 32)             128       \n",
      "_________________________________________________________________\n",
      "dropout_7 (Dropout)          (None, 1, 32)             0         \n",
      "_________________________________________________________________\n",
      "flatten_2 (Flatten)          (None, 32)                0         \n",
      "_________________________________________________________________\n",
      "maxout_dense_4 (MaxoutDense) (None, 32)                12672     \n",
      "_________________________________________________________________\n",
      "batch_normalization_12 (Batc (None, 32)                128       \n",
      "_________________________________________________________________\n",
      "dropout_8 (Dropout)          (None, 32)                0         \n",
      "_________________________________________________________________\n",
      "maxout_dense_5 (MaxoutDense) (None, 32)                12672     \n",
      "_________________________________________________________________\n",
      "batch_normalization_13 (Batc (None, 32)                128       \n",
      "_________________________________________________________________\n",
      "dropout_9 (Dropout)          (None, 32)                0         \n",
      "_________________________________________________________________\n",
      "maxout_dense_6 (MaxoutDense) (None, 32)                12672     \n",
      "_________________________________________________________________\n",
      "batch_normalization_14 (Batc (None, 32)                128       \n",
      "_________________________________________________________________\n",
      "dropout_10 (Dropout)         (None, 32)                0         \n",
      "_________________________________________________________________\n",
      "dense_2 (Dense)              (None, 12)                396       \n",
      "=================================================================\n",
      "Total params: 183,660\n",
      "Trainable params: 183,148\n",
      "Non-trainable params: 512\n",
      "_________________________________________________________________\n"
     ]
    }
   ],
   "source": [
    "# Building the Convolutionals Model\n",
    "model = Sequential()\n",
    "\n",
    "# Set up some parameters\n",
    "input_dim = 1\n",
    "\n",
    "# Convert X_train and X_test to numpy array and check lenths to be equal\n",
    "max_review_length = 500 \n",
    "X_train_CNN_f = sequence.pad_sequences(X_train_CNN, maxlen=max_review_length) \n",
    "X_test_CNN_f = sequence.pad_sequences(X_test_CNN, maxlen=max_review_length)\n",
    "\n",
    "\n",
    "# First convolutional layer\n",
    "model.add(Conv1D(64, kernel_size=10,\n",
    "                 padding='same',\n",
    "                 input_shape=(max_review_length, input_dim),\n",
    "                 activation='elu',\n",
    "                 strides=1))\n",
    "model.add(Conv1D(64, kernel_size=20, activation='elu'))\n",
    "model.add(BatchNormalization())\n",
    "model.add(Conv1D(32, kernel_size=15, activation='elu'))\n",
    "model.add(MaxPooling1D(pool_size=15,\n",
    "                       padding='same'))\n",
    "model.add(BatchNormalization())\n",
    "model.add(Dropout(0.25))\n",
    "model.add(Conv1D(32, kernel_size=20, activation='elu'))\n",
    "model.add(BatchNormalization())\n",
    "model.add(Conv1D(32, kernel_size=10, activation='elu'))\n",
    "model.add(MaxPooling1D(pool_size=25,\n",
    "                       padding='same'))\n",
    "model.add(BatchNormalization())\n",
    "model.add(Dropout(0.3))\n",
    "model.add(Flatten())\n",
    "model.add(MaxoutDense(32, nb_feature=12))\n",
    "model.add(BatchNormalization())\n",
    "model.add(Dropout(0.3))\n",
    "model.add(MaxoutDense(32, nb_feature=12))\n",
    "model.add(BatchNormalization())\n",
    "model.add(Dropout(0.5))\n",
    "model.add(MaxoutDense(32, nb_feature=12))\n",
    "model.add(BatchNormalization())\n",
    "model.add(Dropout(0.5))\n",
    "model.add(Dense(12, activation='softmax'))\n",
    "model.compile(loss=keras.losses.categorical_crossentropy,\n",
    "              optimizer=keras.optimizers.Adagrad(),\n",
    "              metrics=['accuracy'])\n",
    "\n",
    "model.summary()"
   ]
  },
  {
   "cell_type": "code",
   "execution_count": 28,
   "metadata": {
    "scrolled": false
   },
   "outputs": [
    {
     "name": "stdout",
     "output_type": "stream",
     "text": [
      "Train on 81600 samples, validate on 20400 samples\n",
      "Epoch 1/10\n",
      "81600/81600 [==============================] - 2863s 35ms/step - loss: 2.6156 - accuracy: 0.0839 - val_loss: 2.4971 - val_accuracy: 0.0820\n",
      "Epoch 2/10\n",
      "81600/81600 [==============================] - 2612s 32ms/step - loss: 2.5691 - accuracy: 0.0857 - val_loss: 2.4881 - val_accuracy: 0.0925\n",
      "Epoch 3/10\n",
      "81600/81600 [==============================] - 2612s 32ms/step - loss: 2.5683 - accuracy: 0.0848 - val_loss: 2.4878 - val_accuracy: 0.0947\n",
      "Epoch 4/10\n",
      "81600/81600 [==============================] - 2600s 32ms/step - loss: 2.5532 - accuracy: 0.0863 - val_loss: 2.4883 - val_accuracy: 0.0892\n",
      "Epoch 5/10\n",
      "81600/81600 [==============================] - 2607s 32ms/step - loss: 2.5505 - accuracy: 0.0844 - val_loss: 2.4887 - val_accuracy: 0.0932\n",
      "Epoch 6/10\n",
      "81600/81600 [==============================] - 2615s 32ms/step - loss: 2.5448 - accuracy: 0.0862 - val_loss: 2.4871 - val_accuracy: 0.0898\n",
      "Epoch 7/10\n",
      "81600/81600 [==============================] - 2606s 32ms/step - loss: 2.5393 - accuracy: 0.0883 - val_loss: 2.4921 - val_accuracy: 0.0963\n",
      "Epoch 8/10\n",
      "81600/81600 [==============================] - 2604s 32ms/step - loss: 2.5352 - accuracy: 0.0901 - val_loss: 2.4915 - val_accuracy: 0.0955\n",
      "Epoch 9/10\n",
      "81600/81600 [==============================] - 2601s 32ms/step - loss: 2.5349 - accuracy: 0.0909 - val_loss: 2.4880 - val_accuracy: 0.0977\n",
      "Epoch 10/10\n",
      "81600/81600 [==============================] - 2604s 32ms/step - loss: 2.5321 - accuracy: 0.0921 - val_loss: 2.4853 - val_accuracy: 0.1048\n",
      "Test loss: 2.4853290782255284\n",
      "Test accuracy: 0.10475490242242813\n"
     ]
    }
   ],
   "source": [
    "model.fit(X_train_CNN_f, y_train_CNN,\n",
    "          batch_size=1250,\n",
    "          epochs=10,\n",
    "          verbose=1,\n",
    "          validation_data=(X_test_CNN_f, y_test_CNN))\n",
    "\n",
    "score = model.evaluate(X_test_CNN_f, y_test_CNN, verbose=0)\n",
    "print('Test loss:', score[0])\n",
    "print('Test accuracy:', score[1])"
   ]
  },
  {
   "cell_type": "markdown",
   "metadata": {},
   "source": []
  },
  {
   "cell_type": "markdown",
   "metadata": {},
   "source": [
    "# Unsupervised Lerning Models"
   ]
  },
  {
   "cell_type": "markdown",
   "metadata": {},
   "source": [
    "Becausse clustering is usually done using a distance measure between samples, and many approaches  assume that the clusters share certain properties, balanced data will be used for the unsupervised learning models to avoid problems of unbalanced data."
   ]
  },
  {
   "cell_type": "code",
   "execution_count": 1,
   "metadata": {},
   "outputs": [],
   "source": [
    "# Load necessory libraries \n",
    "import numpy as np\n",
    "import pandas as pd\n",
    "import matplotlib.pyplot as plt\n",
    "%matplotlib inline\n",
    "import sklearn\n",
    "from sklearn import metrics\n",
    "from sklearn.preprocessing import StandardScaler\n",
    "from sklearn.cluster import KMeans\n",
    "from sklearn.mixture import GaussianMixture\n",
    "from sklearn.decomposition import PCA\n",
    "from sklearn.metrics import silhouette_score\n",
    "import warnings\n",
    "warnings.filterwarnings(\"ignore\")"
   ]
  },
  {
   "cell_type": "code",
   "execution_count": 10,
   "metadata": {
    "scrolled": false
   },
   "outputs": [
    {
     "data": {
      "text/html": [
       "<div>\n",
       "<style scoped>\n",
       "    .dataframe tbody tr th:only-of-type {\n",
       "        vertical-align: middle;\n",
       "    }\n",
       "\n",
       "    .dataframe tbody tr th {\n",
       "        vertical-align: top;\n",
       "    }\n",
       "\n",
       "    .dataframe thead th {\n",
       "        text-align: right;\n",
       "    }\n",
       "</style>\n",
       "<table border=\"1\" class=\"dataframe\">\n",
       "  <thead>\n",
       "    <tr style=\"text-align: right;\">\n",
       "      <th></th>\n",
       "      <th>device_id</th>\n",
       "      <th>gender</th>\n",
       "      <th>age</th>\n",
       "      <th>group</th>\n",
       "      <th>app_id</th>\n",
       "      <th>is_active</th>\n",
       "      <th>encoded_model</th>\n",
       "      <th>2</th>\n",
       "      <th>4</th>\n",
       "      <th>6</th>\n",
       "      <th>...</th>\n",
       "      <th>1012</th>\n",
       "      <th>1013</th>\n",
       "      <th>1014</th>\n",
       "      <th>1015</th>\n",
       "      <th>1016</th>\n",
       "      <th>1017</th>\n",
       "      <th>1018</th>\n",
       "      <th>1019</th>\n",
       "      <th>1020</th>\n",
       "      <th>1021</th>\n",
       "    </tr>\n",
       "  </thead>\n",
       "  <tbody>\n",
       "    <tr>\n",
       "      <th>0</th>\n",
       "      <td>-243186812835285661</td>\n",
       "      <td>1</td>\n",
       "      <td>22</td>\n",
       "      <td>M22-</td>\n",
       "      <td>33792862810792679</td>\n",
       "      <td>1</td>\n",
       "      <td>865</td>\n",
       "      <td>0</td>\n",
       "      <td>0</td>\n",
       "      <td>0</td>\n",
       "      <td>...</td>\n",
       "      <td>0</td>\n",
       "      <td>0</td>\n",
       "      <td>0</td>\n",
       "      <td>0</td>\n",
       "      <td>0</td>\n",
       "      <td>0</td>\n",
       "      <td>0</td>\n",
       "      <td>0</td>\n",
       "      <td>0</td>\n",
       "      <td>0</td>\n",
       "    </tr>\n",
       "    <tr>\n",
       "      <th>1</th>\n",
       "      <td>3042999840186016499</td>\n",
       "      <td>1</td>\n",
       "      <td>20</td>\n",
       "      <td>M22-</td>\n",
       "      <td>-7509752927626140732</td>\n",
       "      <td>0</td>\n",
       "      <td>128</td>\n",
       "      <td>0</td>\n",
       "      <td>0</td>\n",
       "      <td>0</td>\n",
       "      <td>...</td>\n",
       "      <td>0</td>\n",
       "      <td>0</td>\n",
       "      <td>0</td>\n",
       "      <td>0</td>\n",
       "      <td>0</td>\n",
       "      <td>0</td>\n",
       "      <td>0</td>\n",
       "      <td>0</td>\n",
       "      <td>0</td>\n",
       "      <td>0</td>\n",
       "    </tr>\n",
       "    <tr>\n",
       "      <th>2</th>\n",
       "      <td>-9024646837768278604</td>\n",
       "      <td>1</td>\n",
       "      <td>22</td>\n",
       "      <td>M22-</td>\n",
       "      <td>-7377705850326369447</td>\n",
       "      <td>0</td>\n",
       "      <td>847</td>\n",
       "      <td>0</td>\n",
       "      <td>0</td>\n",
       "      <td>0</td>\n",
       "      <td>...</td>\n",
       "      <td>0</td>\n",
       "      <td>0</td>\n",
       "      <td>0</td>\n",
       "      <td>0</td>\n",
       "      <td>0</td>\n",
       "      <td>0</td>\n",
       "      <td>0</td>\n",
       "      <td>0</td>\n",
       "      <td>0</td>\n",
       "      <td>0</td>\n",
       "    </tr>\n",
       "    <tr>\n",
       "      <th>3</th>\n",
       "      <td>4760257368378545414</td>\n",
       "      <td>1</td>\n",
       "      <td>20</td>\n",
       "      <td>M22-</td>\n",
       "      <td>2022530832075009460</td>\n",
       "      <td>0</td>\n",
       "      <td>848</td>\n",
       "      <td>0</td>\n",
       "      <td>0</td>\n",
       "      <td>0</td>\n",
       "      <td>...</td>\n",
       "      <td>0</td>\n",
       "      <td>0</td>\n",
       "      <td>0</td>\n",
       "      <td>0</td>\n",
       "      <td>0</td>\n",
       "      <td>0</td>\n",
       "      <td>0</td>\n",
       "      <td>0</td>\n",
       "      <td>0</td>\n",
       "      <td>0</td>\n",
       "    </tr>\n",
       "    <tr>\n",
       "      <th>4</th>\n",
       "      <td>7690261349530060632</td>\n",
       "      <td>1</td>\n",
       "      <td>21</td>\n",
       "      <td>M22-</td>\n",
       "      <td>-923192824907939817</td>\n",
       "      <td>0</td>\n",
       "      <td>846</td>\n",
       "      <td>0</td>\n",
       "      <td>0</td>\n",
       "      <td>0</td>\n",
       "      <td>...</td>\n",
       "      <td>0</td>\n",
       "      <td>0</td>\n",
       "      <td>0</td>\n",
       "      <td>0</td>\n",
       "      <td>0</td>\n",
       "      <td>0</td>\n",
       "      <td>0</td>\n",
       "      <td>0</td>\n",
       "      <td>0</td>\n",
       "      <td>0</td>\n",
       "    </tr>\n",
       "  </tbody>\n",
       "</table>\n",
       "<p>5 rows × 492 columns</p>\n",
       "</div>"
      ],
      "text/plain": [
       "             device_id  gender  age group               app_id  is_active  \\\n",
       "0  -243186812835285661       1   22  M22-    33792862810792679          1   \n",
       "1  3042999840186016499       1   20  M22- -7509752927626140732          0   \n",
       "2 -9024646837768278604       1   22  M22- -7377705850326369447          0   \n",
       "3  4760257368378545414       1   20  M22-  2022530832075009460          0   \n",
       "4  7690261349530060632       1   21  M22-  -923192824907939817          0   \n",
       "\n",
       "   encoded_model  2  4  6  ...  1012  1013  1014  1015  1016  1017  1018  \\\n",
       "0            865  0  0  0  ...     0     0     0     0     0     0     0   \n",
       "1            128  0  0  0  ...     0     0     0     0     0     0     0   \n",
       "2            847  0  0  0  ...     0     0     0     0     0     0     0   \n",
       "3            848  0  0  0  ...     0     0     0     0     0     0     0   \n",
       "4            846  0  0  0  ...     0     0     0     0     0     0     0   \n",
       "\n",
       "   1019  1020  1021  \n",
       "0     0     0     0  \n",
       "1     0     0     0  \n",
       "2     0     0     0  \n",
       "3     0     0     0  \n",
       "4     0     0     0  \n",
       "\n",
       "[5 rows x 492 columns]"
      ]
     },
     "execution_count": 10,
     "metadata": {},
     "output_type": "execute_result"
    }
   ],
   "source": [
    "# Load saved resampled data with 8500 samples for each age group\n",
    "# because for 70000 samples for each group and a data set with th \n",
    "# shape of (840000, 492) I got the error of memory\n",
    "# \"MemoryError: Unable to allocate 3.07 GiB for an array with shape (840000, 491) and data type float64\"\n",
    "\n",
    "df = pd.read_csv('df_resampled.csv')\n",
    "df.head()"
   ]
  },
  {
   "cell_type": "code",
   "execution_count": 11,
   "metadata": {},
   "outputs": [
    {
     "data": {
      "text/plain": [
       "(102000, 492)"
      ]
     },
     "execution_count": 11,
     "metadata": {},
     "output_type": "execute_result"
    }
   ],
   "source": [
    "df.shape"
   ]
  },
  {
   "cell_type": "markdown",
   "metadata": {},
   "source": [
    "# K-means\n",
    "Set Input Variables and find the best number of clusters"
   ]
  },
  {
   "cell_type": "code",
   "execution_count": 12,
   "metadata": {},
   "outputs": [],
   "source": [
    "# Set input\n",
    "X = df.drop(['group'], axis=1)\n",
    "\n",
    "# Standarizing the features\n",
    "ss = StandardScaler()\n",
    "X_std = ss.fit_transform(X)"
   ]
  },
  {
   "cell_type": "code",
   "execution_count": 13,
   "metadata": {},
   "outputs": [
    {
     "name": "stdout",
     "output_type": "stream",
     "text": [
      "For n_clusters = 2, silhoutte score is 0.014025507278099888\n",
      "For n_clusters = 3, silhoutte score is -0.00894584351789801\n",
      "For n_clusters = 4, silhoutte score is -0.008443140225703792\n"
     ]
    }
   ],
   "source": [
    "# Find silhoutte scores for the range of 2 to 12 clusters\n",
    "for n in range(2,5):\n",
    "    clusters = KMeans(n_clusters=n, random_state=123)\n",
    "    preds = clusters.fit_predict(X_std)\n",
    "    score = silhouette_score (X_std, preds, metric='euclidean')\n",
    "    print (\"For n_clusters = {}, silhoutte score is {}\".format(n, score))"
   ]
  }
 ],
 "metadata": {
  "kernelspec": {
   "display_name": "Python 3",
   "language": "python",
   "name": "python3"
  },
  "language_info": {
   "codemirror_mode": {
    "name": "ipython",
    "version": 3
   },
   "file_extension": ".py",
   "mimetype": "text/x-python",
   "name": "python",
   "nbconvert_exporter": "python",
   "pygments_lexer": "ipython3",
   "version": "3.7.3"
  }
 },
 "nbformat": 4,
 "nbformat_minor": 4
}
