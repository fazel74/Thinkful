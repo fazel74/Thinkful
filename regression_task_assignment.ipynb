{
 "cells": [
  {
   "cell_type": "markdown",
   "metadata": {},
   "source": [
    "#### 1. Let's assume that you have World Bank data on financial, economic and social indicators for several countries. You want to measure the factors that affect the level of development in these countries. To this end, you decide to use per capita income as a proxy for the development level, which is defined as the national income divided by the population. You want to use some features in your dataset to predict per capita income. Is this task a classification or a regression task? Why?\n",
    "\n",
    "- Per capita income for each country is a continuous variable, and the task that we need to use for featuring our model should be a regression.\n",
    "\n",
    "#### 2. Which of the following arguments are false and why?\n",
    "#### - OLS is a special type of linear regression models\n",
    "\n",
    "- False. OLS (Ordinary Least Squares) is an optimization metthod to estimate coeficients of linear equation\n",
    "\n",
    "#### - Regression models become useless if they don’t meet the assumptions of linear regression.\n",
    "\n",
    "- False. We can use regression models even if some assumptions do not meet.\n",
    "\n",
    "#### - Estimation and prediction are the same thing in the context of linear regression models.\n",
    "\n",
    "- False. Estimation is for determining the coeificients, but prediction is what we get in outcome of a model.\n",
    "\n",
    "#### - Linear regression is only one kind of regression model. Regression problems can also be solved with other kind of models like \n",
    "####   Support Vector Machines or Random Forests.\n",
    "\n",
    "- True. There many others kind of models.\n",
    "\n",
    "#### 3. Assume that your project manager wants you to discover which free services your company offers make your customers buy more of your paid services. Formulate this task as a regression problem and write down the potential outcome and features that you’d like to work on.\n",
    "\n",
    "- There should be a linear relation between customers expenditure and each free services. We can make formulate each free service with its respective expenditure and add all together to gain total expenditure. The equasion can be used to featuring our model. "
   ]
  },
  {
   "cell_type": "code",
   "execution_count": null,
   "metadata": {},
   "outputs": [],
   "source": []
  }
 ],
 "metadata": {
  "kernelspec": {
   "display_name": "Python 3",
   "language": "python",
   "name": "python3"
  },
  "language_info": {
   "codemirror_mode": {
    "name": "ipython",
    "version": 3
   },
   "file_extension": ".py",
   "mimetype": "text/x-python",
   "name": "python",
   "nbconvert_exporter": "python",
   "pygments_lexer": "ipython3",
   "version": "3.7.3"
  }
 },
 "nbformat": 4,
 "nbformat_minor": 2
}
