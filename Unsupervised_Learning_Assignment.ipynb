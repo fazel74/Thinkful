{
 "cells": [
  {
   "cell_type": "markdown",
   "metadata": {},
   "source": [
    "#### 1. Assume that we have a dataset of images that includes the images of red wines, white wines, red roses and white roses. If you were to cluster these observations, how would you do that? Would you like to cluster them with respect to their colors or anything else? Discuss the pros and cons of different clustering options.<br>\n",
    "\n",
    "- Because the four types of wines are distinct by their color, color is the best factor that the similarity between types of wines can be defined based on. One disadvantage might be when some wines' bottles have their own color, and the pattern colors do not refer to actual color of wines. If there are other specific characteristics to destinguish wines like shape of bottles or their size, the similarity for each group can be defined by one or all of them.<br>\n",
    "\n",
    "\n",
    "#### 2. A shadow on the wall is a two-dimensional representation of a real world three-dimensional object. When you see a rabbit and a cat, you can easily identify them. But, are they also easily identifiable by just looking at their shadows on a wall? What information is retained and lost when representing 3-d objects in 2-dimensional space?<br>\n",
    "\n",
    "- Mostly yes, they could be identifiable by looking at their shadow because they are different in shape and somehow in size, but it also depends on the direction of light and the distance between them. Because many surface points on 3D objects are not visible in a 2D image, shadow do not include many points, and it could mislead us to identify rabbit and cat correctly depending on their positions.   "
   ]
  }
 ],
 "metadata": {
  "kernelspec": {
   "display_name": "Python 3",
   "language": "python",
   "name": "python3"
  },
  "language_info": {
   "codemirror_mode": {
    "name": "ipython",
    "version": 3
   },
   "file_extension": ".py",
   "mimetype": "text/x-python",
   "name": "python",
   "nbconvert_exporter": "python",
   "pygments_lexer": "ipython3",
   "version": "3.7.3"
  }
 },
 "nbformat": 4,
 "nbformat_minor": 2
}
