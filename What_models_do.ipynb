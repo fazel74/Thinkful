{
 "cells": [
  {
   "cell_type": "markdown",
   "metadata": {},
   "source": [
    "1. Try to model the result of a coin toss. In your model, include any features that you think important in explaining the result. Discuss with your mentor about the pros and cons of adding too many features into your model."
   ]
  },
  {
   "cell_type": "markdown",
   "metadata": {},
   "source": [
    "- Result of a coin toss might be influenced by many factor:\n",
    "    1 - Force applied on the coin like gravity, throwing force, friction, and so on\n",
    "    2 - Landing way, on a surface, the floor, or in hand\n",
    "    3 - Coin's weight\n",
    "    4 - & so many others\n",
    "    \n",
    "There are so many features regard to coin tossing. We'd better to choose 1 or 2 of the features to determine a simplified model. "
   ]
  },
  {
   "cell_type": "markdown",
   "metadata": {},
   "source": [
    "2. If you ever used Netflix, you should already have realized that it provides some recommendations for you to watch. In data science, this is an example of the so-called recommendations systems. Read this nontechnical blog post of Netflix about how they model their recommendations systems. Then, derive the features they use in their recommendations engines and discuss what else can be incorporated into this model."
   ]
  },
  {
   "cell_type": "markdown",
   "metadata": {},
   "source": [
    "- Jump starting: a new account creator is asked to choose a few titles that he or she likes\n",
    "- The viewing history and how that person rated other titles (interactions)\n",
    "- Information about the titles, such as their genre, categories, actors, release year\n",
    "- The time of watching and duration\n",
    "- The devices used for watching Netflix \n"
   ]
  },
  {
   "cell_type": "code",
   "execution_count": null,
   "metadata": {},
   "outputs": [],
   "source": []
  }
 ],
 "metadata": {
  "kernelspec": {
   "display_name": "Python 3",
   "language": "python",
   "name": "python3"
  },
  "language_info": {
   "codemirror_mode": {
    "name": "ipython",
    "version": 3
   },
   "file_extension": ".py",
   "mimetype": "text/x-python",
   "name": "python",
   "nbconvert_exporter": "python",
   "pygments_lexer": "ipython3",
   "version": "3.7.3"
  }
 },
 "nbformat": 4,
 "nbformat_minor": 2
}
