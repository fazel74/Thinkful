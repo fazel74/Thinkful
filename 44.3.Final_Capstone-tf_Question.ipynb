{
 "cells": [
  {
   "cell_type": "markdown",
   "metadata": {},
   "source": [
    "# Final Capstone\n",
    "\n",
    "# Project Title: TalkingData User Demographics\n",
    "\n",
    "### In this project the data collected by TalkingData, China’s largest third-party mobile data platform, will be used. The data set can be found on kaggle website link bellow:\n",
    "https://www.kaggle.com/c/talkingdata-mobile-user-demographics\n",
    "### TalkingData is seeking to leverage behavioral data from more than 70% of the 500 million mobile devices active daily in China to help its clients better understand and interact with their audiences. The datas set will be used to build a model predicting users’ demographic characteristics based on their app usage, geolocation, and mobile device properties.\n",
    "### File descriptions:\n",
    "<br>gender_age_train.csv: the train set\n",
    "<br> gender_age_test.csv: the test set\n",
    "<br> events.csv: when a user uses TalkingData SDK, the event gets logged in this data. Each event has an event id, location (lat/long)\n",
    "<br> app_events.csv: the event corresponds to a list of apps in app_events.\n",
    "<br> app_labels.csv: apps and their labels, the label_id's can be used to join with label_categories\n",
    "<br> label_categories.csv: apps' labels and their categories in text\n",
    "<br> phone_brand_device_model.csv: device ids, brand, and models \n",
    "\n",
    "### Notes:\n",
    "<br> 'group' in gender_age_train.csv areage groups which is the target variable we are going to predict\n",
    "<br> 'timestamp' in events.csv referrs to when the user is using an app with TalkingData SDK\n",
    "<br> 'phone_brands' in phone_brand_device_model.csv are in Chinese\n",
    "\n",
    "### Project Goal:\n",
    "<br> Given the data set, the gender, age, type of device, and which phone brand used by a user will be used in order to accurately classify and predict the age range and gender of that individual."
   ]
  },
  {
   "cell_type": "code",
   "execution_count": 1,
   "metadata": {},
   "outputs": [
    {
     "name": "stderr",
     "output_type": "stream",
     "text": [
      "C:\\Users\\Fazel\\Anaconda3\\lib\\site-packages\\statsmodels\\tools\\_testing.py:19: FutureWarning: pandas.util.testing is deprecated. Use the functions in the public API at pandas.testing instead.\n",
      "  import pandas.util.testing as tm\n"
     ]
    }
   ],
   "source": [
    "# Load necessary libraries\n",
    "import pandas as pd\n",
    "import numpy as np\n",
    "%matplotlib inline\n",
    "import matplotlib.pyplot as plt\n",
    "import seaborn as sns\n",
    "from sklearn.preprocessing import LabelEncoder\n",
    "from sklearn.model_selection import train_test_split, cross_validate, cross_val_score, GridSearchCV\n",
    "from sklearn.utils import resample\n",
    "from sklearn.preprocessing import StandardScaler\n",
    "from sklearn.decomposition import PCA\n",
    "from sklearn.feature_selection import SelectKBest, f_regression\n",
    "from sklearn.naive_bayes import GaussianNB\n",
    "from sklearn.metrics import classification_report\n",
    "from sklearn.metrics import confusion_matrix\n",
    "from sklearn.metrics import accuracy_score\n",
    "from sklearn.neighbors import KNeighborsClassifier\n",
    "from sklearn import tree\n",
    "from sklearn.ensemble import RandomForestClassifier\n",
    "from sklearn.linear_model import LogisticRegression\n",
    "from sklearn.svm import LinearSVC\n",
    "from sklearn import preprocessing\n",
    "from time import perf_counter\n"
   ]
  },
  {
   "cell_type": "code",
   "execution_count": 2,
   "metadata": {},
   "outputs": [],
   "source": [
    "# Read information from csv files\n",
    "gender_age_train = pd.read_csv(\"../Fazel/talkingdata-mobile-user-demographics/gender_age_train.csv\")\n",
    "gender_age_test = pd.read_csv(\"../Fazel/talkingdata-mobile-user-demographics/gender_age_test.csv\")\n",
    "events = pd.read_csv(\"../Fazel/talkingdata-mobile-user-demographics/events.csv\")\n",
    "app_events = pd.read_csv(\"../Fazel/talkingdata-mobile-user-demographics/app_events.csv\")\n",
    "app_labels = pd.read_csv(\"../Fazel/talkingdata-mobile-user-demographics/app_labels.csv\")\n",
    "label_categories = pd.read_csv(\"../Fazel/talkingdata-mobile-user-demographics/label_categories.csv\")\n",
    "phone_brand_device_model = pd.read_csv(\"../Fazel/talkingdata-mobile-user-demographics/phone_brand_device_model.csv\")"
   ]
  },
  {
   "cell_type": "markdown",
   "metadata": {},
   "source": [
    "# Exploratory Data Analysis"
   ]
  },
  {
   "cell_type": "code",
   "execution_count": 3,
   "metadata": {},
   "outputs": [
    {
     "name": "stdout",
     "output_type": "stream",
     "text": [
      "(74645, 4)\n"
     ]
    },
    {
     "data": {
      "text/html": [
       "<div>\n",
       "<style scoped>\n",
       "    .dataframe tbody tr th:only-of-type {\n",
       "        vertical-align: middle;\n",
       "    }\n",
       "\n",
       "    .dataframe tbody tr th {\n",
       "        vertical-align: top;\n",
       "    }\n",
       "\n",
       "    .dataframe thead th {\n",
       "        text-align: right;\n",
       "    }\n",
       "</style>\n",
       "<table border=\"1\" class=\"dataframe\">\n",
       "  <thead>\n",
       "    <tr style=\"text-align: right;\">\n",
       "      <th></th>\n",
       "      <th>device_id</th>\n",
       "      <th>gender</th>\n",
       "      <th>age</th>\n",
       "      <th>group</th>\n",
       "    </tr>\n",
       "  </thead>\n",
       "  <tbody>\n",
       "    <tr>\n",
       "      <th>0</th>\n",
       "      <td>-8076087639492063270</td>\n",
       "      <td>M</td>\n",
       "      <td>35</td>\n",
       "      <td>M32-38</td>\n",
       "    </tr>\n",
       "    <tr>\n",
       "      <th>1</th>\n",
       "      <td>-2897161552818060146</td>\n",
       "      <td>M</td>\n",
       "      <td>35</td>\n",
       "      <td>M32-38</td>\n",
       "    </tr>\n",
       "    <tr>\n",
       "      <th>2</th>\n",
       "      <td>-8260683887967679142</td>\n",
       "      <td>M</td>\n",
       "      <td>35</td>\n",
       "      <td>M32-38</td>\n",
       "    </tr>\n",
       "    <tr>\n",
       "      <th>3</th>\n",
       "      <td>-4938849341048082022</td>\n",
       "      <td>M</td>\n",
       "      <td>30</td>\n",
       "      <td>M29-31</td>\n",
       "    </tr>\n",
       "    <tr>\n",
       "      <th>4</th>\n",
       "      <td>245133531816851882</td>\n",
       "      <td>M</td>\n",
       "      <td>30</td>\n",
       "      <td>M29-31</td>\n",
       "    </tr>\n",
       "  </tbody>\n",
       "</table>\n",
       "</div>"
      ],
      "text/plain": [
       "             device_id gender  age   group\n",
       "0 -8076087639492063270      M   35  M32-38\n",
       "1 -2897161552818060146      M   35  M32-38\n",
       "2 -8260683887967679142      M   35  M32-38\n",
       "3 -4938849341048082022      M   30  M29-31\n",
       "4   245133531816851882      M   30  M29-31"
      ]
     },
     "execution_count": 3,
     "metadata": {},
     "output_type": "execute_result"
    }
   ],
   "source": [
    "print(gender_age_train.shape)\n",
    "gender_age_train.head()"
   ]
  },
  {
   "cell_type": "code",
   "execution_count": 9,
   "metadata": {},
   "outputs": [
    {
     "data": {
      "image/png": "[encoded data removed]",
      "text/plain": [
       "<Figure size 1440x144 with 2 Axes>"
      ]
     },
     "metadata": {
      "needs_background": "light"
     },
     "output_type": "display_data"
    }
   ],
   "source": [
    "select_categoric = ['gender', 'group']\n",
    "total_records= len(gender_age_train)\n",
    "plt.figure(figsize=(20,2))\n",
    "j=0\n",
    "for i in select_categoric:\n",
    "    j +=1\n",
    "    plt.subplot(1,2,j)\n",
    "    ax1 = sns.countplot(data=gender_age_train, x= i)\n",
    "    if(j==8 or j== 7):\n",
    "        plt.xticks( rotation=90)\n",
    "    for p in ax1.patches:\n",
    "        height = p.get_height()\n",
    "        ax1.text(p.get_x()+p.get_width()/2.,\n",
    "                height + 3,\n",
    "                '{:1.2f}%'.format((height/total_records)*100,0),\n",
    "                ha=\"center\",rotation=0) \n",
    "plt.subplots_adjust(bottom=-0.9, top=2)\n",
    "plt.show()"
   ]
  },
  {
   "cell_type": "code",
   "execution_count": 33,
   "metadata": {},
   "outputs": [
    {
     "data": {
      "text/plain": [
       "M23-26    9605\n",
       "M32-38    9476\n",
       "M39+      8581\n",
       "M22-      7488\n",
       "M29-31    7309\n",
       "F33-42    5561\n",
       "M27-28    5445\n",
       "F23-      5050\n",
       "F29-32    4628\n",
       "F43+      4194\n",
       "F24-26    4190\n",
       "F27-28    3118\n",
       "Name: group, dtype: int64"
      ]
     },
     "execution_count": 33,
     "metadata": {},
     "output_type": "execute_result"
    }
   ],
   "source": [
    "# Check numerical value of age groups\n",
    "gender_age_train.group.value_counts()"
   ]
  },
  {
   "cell_type": "markdown",
   "metadata": {},
   "source": [
    "The graphs of the two most iterested variables for our prediction models show that the percentage of male users is pretty higher than female users, and young male users are the most of all users. Because the age groups contain deferent amount of users, and it will be our target variable in the prediction models, we will need to balance the dataset to avoid overfitting our models."
   ]
  },
  {
   "cell_type": "code",
   "execution_count": 10,
   "metadata": {},
   "outputs": [
    {
     "data": {
      "image/png": "[encoded data removed]",
      "text/plain": [
       "<Figure size 864x576 with 1 Axes>"
      ]
     },
     "metadata": {
      "needs_background": "light"
     },
     "output_type": "display_data"
    }
   ],
   "source": [
    "# Distribution of Age\n",
    "fig,ax = plt.subplots(figsize=(12,8))\n",
    "plt.title('Distribution of Age')\n",
    "plt.xlabel('Ages')\n",
    "plt.ylabel('Count')\n",
    "sns.distplot(gender_age_train.age);"
   ]
  },
  {
   "cell_type": "markdown",
   "metadata": {},
   "source": [
    "Looking at the graph of age distribution we can see that the most users are belonged to category of young users. \n",
    "Also the age is the only variable in entire data set that could have outlier problem. This graph show that there is no need to concern about this type of problem. I will do necessary steps for dealing with missin values in a few next steps."
   ]
  },
  {
   "cell_type": "code",
   "execution_count": 14,
   "metadata": {},
   "outputs": [
    {
     "name": "stdout",
     "output_type": "stream",
     "text": [
      "(112071, 1)\n"
     ]
    },
    {
     "data": {
      "text/html": [
       "<div>\n",
       "<style scoped>\n",
       "    .dataframe tbody tr th:only-of-type {\n",
       "        vertical-align: middle;\n",
       "    }\n",
       "\n",
       "    .dataframe tbody tr th {\n",
       "        vertical-align: top;\n",
       "    }\n",
       "\n",
       "    .dataframe thead th {\n",
       "        text-align: right;\n",
       "    }\n",
       "</style>\n",
       "<table border=\"1\" class=\"dataframe\">\n",
       "  <thead>\n",
       "    <tr style=\"text-align: right;\">\n",
       "      <th></th>\n",
       "      <th>device_id</th>\n",
       "    </tr>\n",
       "  </thead>\n",
       "  <tbody>\n",
       "    <tr>\n",
       "      <th>0</th>\n",
       "      <td>1002079943728939269</td>\n",
       "    </tr>\n",
       "    <tr>\n",
       "      <th>1</th>\n",
       "      <td>-1547860181818787117</td>\n",
       "    </tr>\n",
       "    <tr>\n",
       "      <th>2</th>\n",
       "      <td>7374582448058474277</td>\n",
       "    </tr>\n",
       "    <tr>\n",
       "      <th>3</th>\n",
       "      <td>-6220210354783429585</td>\n",
       "    </tr>\n",
       "    <tr>\n",
       "      <th>4</th>\n",
       "      <td>-5893464122623104785</td>\n",
       "    </tr>\n",
       "  </tbody>\n",
       "</table>\n",
       "</div>"
      ],
      "text/plain": [
       "             device_id\n",
       "0  1002079943728939269\n",
       "1 -1547860181818787117\n",
       "2  7374582448058474277\n",
       "3 -6220210354783429585\n",
       "4 -5893464122623104785"
      ]
     },
     "execution_count": 14,
     "metadata": {},
     "output_type": "execute_result"
    }
   ],
   "source": [
    "print(gender_age_test.shape)\n",
    "gender_age_test.head()"
   ]
  },
  {
   "cell_type": "markdown",
   "metadata": {},
   "source": [
    "The test file contains just device_id. We probably need to some merges on the files."
   ]
  },
  {
   "cell_type": "code",
   "execution_count": 15,
   "metadata": {},
   "outputs": [
    {
     "name": "stdout",
     "output_type": "stream",
     "text": [
      "(3252950, 5)\n"
     ]
    },
    {
     "data": {
      "text/html": [
       "<div>\n",
       "<style scoped>\n",
       "    .dataframe tbody tr th:only-of-type {\n",
       "        vertical-align: middle;\n",
       "    }\n",
       "\n",
       "    .dataframe tbody tr th {\n",
       "        vertical-align: top;\n",
       "    }\n",
       "\n",
       "    .dataframe thead th {\n",
       "        text-align: right;\n",
       "    }\n",
       "</style>\n",
       "<table border=\"1\" class=\"dataframe\">\n",
       "  <thead>\n",
       "    <tr style=\"text-align: right;\">\n",
       "      <th></th>\n",
       "      <th>event_id</th>\n",
       "      <th>device_id</th>\n",
       "      <th>timestamp</th>\n",
       "      <th>longitude</th>\n",
       "      <th>latitude</th>\n",
       "    </tr>\n",
       "  </thead>\n",
       "  <tbody>\n",
       "    <tr>\n",
       "      <th>0</th>\n",
       "      <td>1</td>\n",
       "      <td>29182687948017175</td>\n",
       "      <td>2016-05-01 00:55:25</td>\n",
       "      <td>121.38</td>\n",
       "      <td>31.24</td>\n",
       "    </tr>\n",
       "    <tr>\n",
       "      <th>1</th>\n",
       "      <td>2</td>\n",
       "      <td>-6401643145415154744</td>\n",
       "      <td>2016-05-01 00:54:12</td>\n",
       "      <td>103.65</td>\n",
       "      <td>30.97</td>\n",
       "    </tr>\n",
       "    <tr>\n",
       "      <th>2</th>\n",
       "      <td>3</td>\n",
       "      <td>-4833982096941402721</td>\n",
       "      <td>2016-05-01 00:08:05</td>\n",
       "      <td>106.60</td>\n",
       "      <td>29.70</td>\n",
       "    </tr>\n",
       "    <tr>\n",
       "      <th>3</th>\n",
       "      <td>4</td>\n",
       "      <td>-6815121365017318426</td>\n",
       "      <td>2016-05-01 00:06:40</td>\n",
       "      <td>104.27</td>\n",
       "      <td>23.28</td>\n",
       "    </tr>\n",
       "    <tr>\n",
       "      <th>4</th>\n",
       "      <td>5</td>\n",
       "      <td>-5373797595892518570</td>\n",
       "      <td>2016-05-01 00:07:18</td>\n",
       "      <td>115.88</td>\n",
       "      <td>28.66</td>\n",
       "    </tr>\n",
       "  </tbody>\n",
       "</table>\n",
       "</div>"
      ],
      "text/plain": [
       "   event_id            device_id            timestamp  longitude  latitude\n",
       "0         1    29182687948017175  2016-05-01 00:55:25     121.38     31.24\n",
       "1         2 -6401643145415154744  2016-05-01 00:54:12     103.65     30.97\n",
       "2         3 -4833982096941402721  2016-05-01 00:08:05     106.60     29.70\n",
       "3         4 -6815121365017318426  2016-05-01 00:06:40     104.27     23.28\n",
       "4         5 -5373797595892518570  2016-05-01 00:07:18     115.88     28.66"
      ]
     },
     "execution_count": 15,
     "metadata": {},
     "output_type": "execute_result"
    }
   ],
   "source": [
    "print(events.shape)\n",
    "events.head()"
   ]
  },
  {
   "cell_type": "code",
   "execution_count": 16,
   "metadata": {},
   "outputs": [
    {
     "name": "stdout",
     "output_type": "stream",
     "text": [
      "(32473067, 4)\n"
     ]
    },
    {
     "data": {
      "text/html": [
       "<div>\n",
       "<style scoped>\n",
       "    .dataframe tbody tr th:only-of-type {\n",
       "        vertical-align: middle;\n",
       "    }\n",
       "\n",
       "    .dataframe tbody tr th {\n",
       "        vertical-align: top;\n",
       "    }\n",
       "\n",
       "    .dataframe thead th {\n",
       "        text-align: right;\n",
       "    }\n",
       "</style>\n",
       "<table border=\"1\" class=\"dataframe\">\n",
       "  <thead>\n",
       "    <tr style=\"text-align: right;\">\n",
       "      <th></th>\n",
       "      <th>event_id</th>\n",
       "      <th>app_id</th>\n",
       "      <th>is_installed</th>\n",
       "      <th>is_active</th>\n",
       "    </tr>\n",
       "  </thead>\n",
       "  <tbody>\n",
       "    <tr>\n",
       "      <th>0</th>\n",
       "      <td>2</td>\n",
       "      <td>5927333115845830913</td>\n",
       "      <td>1</td>\n",
       "      <td>1</td>\n",
       "    </tr>\n",
       "    <tr>\n",
       "      <th>1</th>\n",
       "      <td>2</td>\n",
       "      <td>-5720078949152207372</td>\n",
       "      <td>1</td>\n",
       "      <td>0</td>\n",
       "    </tr>\n",
       "    <tr>\n",
       "      <th>2</th>\n",
       "      <td>2</td>\n",
       "      <td>-1633887856876571208</td>\n",
       "      <td>1</td>\n",
       "      <td>0</td>\n",
       "    </tr>\n",
       "    <tr>\n",
       "      <th>3</th>\n",
       "      <td>2</td>\n",
       "      <td>-653184325010919369</td>\n",
       "      <td>1</td>\n",
       "      <td>1</td>\n",
       "    </tr>\n",
       "    <tr>\n",
       "      <th>4</th>\n",
       "      <td>2</td>\n",
       "      <td>8693964245073640147</td>\n",
       "      <td>1</td>\n",
       "      <td>1</td>\n",
       "    </tr>\n",
       "  </tbody>\n",
       "</table>\n",
       "</div>"
      ],
      "text/plain": [
       "   event_id               app_id  is_installed  is_active\n",
       "0         2  5927333115845830913             1          1\n",
       "1         2 -5720078949152207372             1          0\n",
       "2         2 -1633887856876571208             1          0\n",
       "3         2  -653184325010919369             1          1\n",
       "4         2  8693964245073640147             1          1"
      ]
     },
     "execution_count": 16,
     "metadata": {},
     "output_type": "execute_result"
    }
   ],
   "source": [
    "print(app_events.shape)\n",
    "app_events.head()"
   ]
  },
  {
   "cell_type": "code",
   "execution_count": 31,
   "metadata": {
    "scrolled": true
   },
   "outputs": [
    {
     "data": {
      "image/png": "[encoded data removed]",
      "text/plain": [
       "<Figure size 432x288 with 1 Axes>"
      ]
     },
     "metadata": {
      "needs_background": "light"
     },
     "output_type": "display_data"
    },
    {
     "data": {
      "text/plain": [
       "0    19740071\n",
       "1    12732996\n",
       "Name: is_active, dtype: int64"
      ]
     },
     "execution_count": 31,
     "metadata": {},
     "output_type": "execute_result"
    }
   ],
   "source": [
    "# View value counts for active users\n",
    "ax = sns.countplot('is_active', data=app_events, label='Not Active')\n",
    "plt.title('Is the User Active?')\n",
    "ax.legend()\n",
    "plt.show()\n",
    "pd.value_counts(app_events['is_active'])"
   ]
  },
  {
   "cell_type": "code",
   "execution_count": 36,
   "metadata": {},
   "outputs": [
    {
     "data": {
      "image/png": "[encoded data removed]",
      "text/plain": [
       "<Figure size 432x288 with 1 Axes>"
      ]
     },
     "metadata": {
      "needs_background": "light"
     },
     "output_type": "display_data"
    },
    {
     "data": {
      "text/plain": [
       "1    32473067\n",
       "Name: is_installed, dtype: int64"
      ]
     },
     "execution_count": 36,
     "metadata": {},
     "output_type": "execute_result"
    }
   ],
   "source": [
    "# View value counts for active users\n",
    "ax = sns.countplot('is_installed', data=app_events)\n",
    "plt.title('Is the app installed?')\n",
    "plt.show()\n",
    "pd.value_counts(app_events['is_installed'])"
   ]
  },
  {
   "cell_type": "code",
   "execution_count": 40,
   "metadata": {},
   "outputs": [
    {
     "name": "stdout",
     "output_type": "stream",
     "text": [
      "(459943, 2)\n"
     ]
    },
    {
     "data": {
      "text/html": [
       "<div>\n",
       "<style scoped>\n",
       "    .dataframe tbody tr th:only-of-type {\n",
       "        vertical-align: middle;\n",
       "    }\n",
       "\n",
       "    .dataframe tbody tr th {\n",
       "        vertical-align: top;\n",
       "    }\n",
       "\n",
       "    .dataframe thead th {\n",
       "        text-align: right;\n",
       "    }\n",
       "</style>\n",
       "<table border=\"1\" class=\"dataframe\">\n",
       "  <thead>\n",
       "    <tr style=\"text-align: right;\">\n",
       "      <th></th>\n",
       "      <th>app_id</th>\n",
       "      <th>label_id</th>\n",
       "    </tr>\n",
       "  </thead>\n",
       "  <tbody>\n",
       "    <tr>\n",
       "      <th>0</th>\n",
       "      <td>7324884708820027918</td>\n",
       "      <td>251</td>\n",
       "    </tr>\n",
       "    <tr>\n",
       "      <th>1</th>\n",
       "      <td>-4494216993218550286</td>\n",
       "      <td>251</td>\n",
       "    </tr>\n",
       "    <tr>\n",
       "      <th>2</th>\n",
       "      <td>6058196446775239644</td>\n",
       "      <td>406</td>\n",
       "    </tr>\n",
       "    <tr>\n",
       "      <th>3</th>\n",
       "      <td>6058196446775239644</td>\n",
       "      <td>407</td>\n",
       "    </tr>\n",
       "    <tr>\n",
       "      <th>4</th>\n",
       "      <td>8694625920731541625</td>\n",
       "      <td>406</td>\n",
       "    </tr>\n",
       "  </tbody>\n",
       "</table>\n",
       "</div>"
      ],
      "text/plain": [
       "                app_id  label_id\n",
       "0  7324884708820027918       251\n",
       "1 -4494216993218550286       251\n",
       "2  6058196446775239644       406\n",
       "3  6058196446775239644       407\n",
       "4  8694625920731541625       406"
      ]
     },
     "execution_count": 40,
     "metadata": {},
     "output_type": "execute_result"
    }
   ],
   "source": [
    "print(app_labels.shape)\n",
    "app_labels.head()"
   ]
  },
  {
   "cell_type": "code",
   "execution_count": 38,
   "metadata": {},
   "outputs": [
    {
     "name": "stdout",
     "output_type": "stream",
     "text": [
      "app_id      113211\n",
      "label_id       507\n",
      "dtype: int64\n"
     ]
    }
   ],
   "source": [
    "print(app_labels.nunique())"
   ]
  },
  {
   "cell_type": "code",
   "execution_count": 19,
   "metadata": {},
   "outputs": [
    {
     "name": "stdout",
     "output_type": "stream",
     "text": [
      "(930, 2)\n"
     ]
    },
    {
     "data": {
      "text/html": [
       "<div>\n",
       "<style scoped>\n",
       "    .dataframe tbody tr th:only-of-type {\n",
       "        vertical-align: middle;\n",
       "    }\n",
       "\n",
       "    .dataframe tbody tr th {\n",
       "        vertical-align: top;\n",
       "    }\n",
       "\n",
       "    .dataframe thead th {\n",
       "        text-align: right;\n",
       "    }\n",
       "</style>\n",
       "<table border=\"1\" class=\"dataframe\">\n",
       "  <thead>\n",
       "    <tr style=\"text-align: right;\">\n",
       "      <th></th>\n",
       "      <th>label_id</th>\n",
       "      <th>category</th>\n",
       "    </tr>\n",
       "  </thead>\n",
       "  <tbody>\n",
       "    <tr>\n",
       "      <th>0</th>\n",
       "      <td>1</td>\n",
       "      <td>NaN</td>\n",
       "    </tr>\n",
       "    <tr>\n",
       "      <th>1</th>\n",
       "      <td>2</td>\n",
       "      <td>game-game type</td>\n",
       "    </tr>\n",
       "    <tr>\n",
       "      <th>2</th>\n",
       "      <td>3</td>\n",
       "      <td>game-Game themes</td>\n",
       "    </tr>\n",
       "    <tr>\n",
       "      <th>3</th>\n",
       "      <td>4</td>\n",
       "      <td>game-Art Style</td>\n",
       "    </tr>\n",
       "    <tr>\n",
       "      <th>4</th>\n",
       "      <td>5</td>\n",
       "      <td>game-Leisure time</td>\n",
       "    </tr>\n",
       "  </tbody>\n",
       "</table>\n",
       "</div>"
      ],
      "text/plain": [
       "   label_id           category\n",
       "0         1                NaN\n",
       "1         2     game-game type\n",
       "2         3   game-Game themes\n",
       "3         4     game-Art Style\n",
       "4         5  game-Leisure time"
      ]
     },
     "execution_count": 19,
     "metadata": {},
     "output_type": "execute_result"
    }
   ],
   "source": [
    "print(label_categories.shape)\n",
    "label_categories.head()"
   ]
  },
  {
   "cell_type": "code",
   "execution_count": 41,
   "metadata": {},
   "outputs": [
    {
     "name": "stdout",
     "output_type": "stream",
     "text": [
      "label_id    930\n",
      "category    835\n",
      "dtype: int64\n"
     ]
    }
   ],
   "source": [
    "print(label_categories.nunique())"
   ]
  },
  {
   "cell_type": "code",
   "execution_count": 21,
   "metadata": {
    "scrolled": true
   },
   "outputs": [
    {
     "name": "stdout",
     "output_type": "stream",
     "text": [
      "(187245, 3)\n"
     ]
    },
    {
     "data": {
      "text/html": [
       "<div>\n",
       "<style scoped>\n",
       "    .dataframe tbody tr th:only-of-type {\n",
       "        vertical-align: middle;\n",
       "    }\n",
       "\n",
       "    .dataframe tbody tr th {\n",
       "        vertical-align: top;\n",
       "    }\n",
       "\n",
       "    .dataframe thead th {\n",
       "        text-align: right;\n",
       "    }\n",
       "</style>\n",
       "<table border=\"1\" class=\"dataframe\">\n",
       "  <thead>\n",
       "    <tr style=\"text-align: right;\">\n",
       "      <th></th>\n",
       "      <th>device_id</th>\n",
       "      <th>phone_brand</th>\n",
       "      <th>device_model</th>\n",
       "    </tr>\n",
       "  </thead>\n",
       "  <tbody>\n",
       "    <tr>\n",
       "      <th>0</th>\n",
       "      <td>-8890648629457979026</td>\n",
       "      <td>小米</td>\n",
       "      <td>红米</td>\n",
       "    </tr>\n",
       "    <tr>\n",
       "      <th>1</th>\n",
       "      <td>1277779817574759137</td>\n",
       "      <td>小米</td>\n",
       "      <td>MI 2</td>\n",
       "    </tr>\n",
       "    <tr>\n",
       "      <th>2</th>\n",
       "      <td>5137427614288105724</td>\n",
       "      <td>三星</td>\n",
       "      <td>Galaxy S4</td>\n",
       "    </tr>\n",
       "    <tr>\n",
       "      <th>3</th>\n",
       "      <td>3669464369358936369</td>\n",
       "      <td>SUGAR</td>\n",
       "      <td>时尚手机</td>\n",
       "    </tr>\n",
       "    <tr>\n",
       "      <th>4</th>\n",
       "      <td>-5019277647504317457</td>\n",
       "      <td>三星</td>\n",
       "      <td>Galaxy Note 2</td>\n",
       "    </tr>\n",
       "  </tbody>\n",
       "</table>\n",
       "</div>"
      ],
      "text/plain": [
       "             device_id phone_brand   device_model\n",
       "0 -8890648629457979026          小米             红米\n",
       "1  1277779817574759137          小米           MI 2\n",
       "2  5137427614288105724          三星      Galaxy S4\n",
       "3  3669464369358936369       SUGAR           时尚手机\n",
       "4 -5019277647504317457          三星  Galaxy Note 2"
      ]
     },
     "execution_count": 21,
     "metadata": {},
     "output_type": "execute_result"
    }
   ],
   "source": [
    "print(phone_brand_device_model.shape)\n",
    "phone_brand_device_model.head()"
   ]
  },
  {
   "cell_type": "code",
   "execution_count": 45,
   "metadata": {},
   "outputs": [
    {
     "name": "stdout",
     "output_type": "stream",
     "text": [
      "device_id       186716\n",
      "phone_brand        131\n",
      "device_model      1599\n",
      "dtype: int64\n"
     ]
    }
   ],
   "source": [
    "print(phone_brand_device_model.nunique())"
   ]
  },
  {
   "cell_type": "code",
   "execution_count": 43,
   "metadata": {},
   "outputs": [
    {
     "name": "stdout",
     "output_type": "stream",
     "text": [
      "Number of distinct model names: 1599\n",
      "Number of distinct brand+model names: 1667\n"
     ]
    }
   ],
   "source": [
    "# Brands & model names\n",
    "print('Number of distinct model names: ' + str(phone_brand_device_model.groupby(['device_model']).size().shape[0]))\n",
    "print('Number of distinct brand+model names: ' + str(phone_brand_device_model.groupby(['phone_brand','device_model']).size().shape[0]))"
   ]
  },
  {
   "cell_type": "markdown",
   "metadata": {},
   "source": [
    "We need to add a new column to data set that contains a new variable which refers to each device and its brand. Then for simplifying I will encode each of them to numbers between 0 - 1666."
   ]
  },
  {
   "cell_type": "code",
   "execution_count": 15,
   "metadata": {
    "scrolled": true
   },
   "outputs": [
    {
     "data": {
      "text/html": [
       "<div>\n",
       "<style scoped>\n",
       "    .dataframe tbody tr th:only-of-type {\n",
       "        vertical-align: middle;\n",
       "    }\n",
       "\n",
       "    .dataframe tbody tr th {\n",
       "        vertical-align: top;\n",
       "    }\n",
       "\n",
       "    .dataframe thead th {\n",
       "        text-align: right;\n",
       "    }\n",
       "</style>\n",
       "<table border=\"1\" class=\"dataframe\">\n",
       "  <thead>\n",
       "    <tr style=\"text-align: right;\">\n",
       "      <th></th>\n",
       "      <th>device_id</th>\n",
       "      <th>phone_brand</th>\n",
       "      <th>device_model</th>\n",
       "      <th>brand_and_model</th>\n",
       "      <th>encoded_model</th>\n",
       "    </tr>\n",
       "  </thead>\n",
       "  <tbody>\n",
       "    <tr>\n",
       "      <th>0</th>\n",
       "      <td>-8890648629457979026</td>\n",
       "      <td>小米</td>\n",
       "      <td>红米</td>\n",
       "      <td>小米红米</td>\n",
       "      <td>858</td>\n",
       "    </tr>\n",
       "    <tr>\n",
       "      <th>1</th>\n",
       "      <td>1277779817574759137</td>\n",
       "      <td>小米</td>\n",
       "      <td>MI 2</td>\n",
       "      <td>小米MI 2</td>\n",
       "      <td>843</td>\n",
       "    </tr>\n",
       "    <tr>\n",
       "      <th>2</th>\n",
       "      <td>5137427614288105724</td>\n",
       "      <td>三星</td>\n",
       "      <td>Galaxy S4</td>\n",
       "      <td>三星Galaxy S4</td>\n",
       "      <td>371</td>\n",
       "    </tr>\n",
       "    <tr>\n",
       "      <th>3</th>\n",
       "      <td>3669464369358936369</td>\n",
       "      <td>SUGAR</td>\n",
       "      <td>时尚手机</td>\n",
       "      <td>SUGAR时尚手机</td>\n",
       "      <td>166</td>\n",
       "    </tr>\n",
       "    <tr>\n",
       "      <th>4</th>\n",
       "      <td>-5019277647504317457</td>\n",
       "      <td>三星</td>\n",
       "      <td>Galaxy Note 2</td>\n",
       "      <td>三星Galaxy Note 2</td>\n",
       "      <td>347</td>\n",
       "    </tr>\n",
       "  </tbody>\n",
       "</table>\n",
       "</div>"
      ],
      "text/plain": [
       "             device_id phone_brand   device_model  brand_and_model  \\\n",
       "0 -8890648629457979026          小米             红米             小米红米   \n",
       "1  1277779817574759137          小米           MI 2           小米MI 2   \n",
       "2  5137427614288105724          三星      Galaxy S4      三星Galaxy S4   \n",
       "3  3669464369358936369       SUGAR           时尚手机        SUGAR时尚手机   \n",
       "4 -5019277647504317457          三星  Galaxy Note 2  三星Galaxy Note 2   \n",
       "\n",
       "   encoded_model  \n",
       "0            858  \n",
       "1            843  \n",
       "2            371  \n",
       "3            166  \n",
       "4            347  "
      ]
     },
     "execution_count": 15,
     "metadata": {},
     "output_type": "execute_result"
    }
   ],
   "source": [
    "# Combine phone_brand & device_model\n",
    "phone_brand_device_model['brand_and_model'] = phone_brand_device_model['phone_brand'].astype(str) + phone_brand_device_model['device_model']\n",
    "\n",
    "# Build numerical labels for each device\n",
    "model_encoder = LabelEncoder().fit(phone_brand_device_model['brand_and_model'])\n",
    "\n",
    "# Store in a new column\n",
    "phone_brand_device_model['encoded_model'] = model_encoder.transform(phone_brand_device_model['brand_and_model'])\n",
    "phone_brand_device_model.head()"
   ]
  },
  {
   "cell_type": "markdown",
   "metadata": {},
   "source": [
    "# Merging Files"
   ]
  },
  {
   "cell_type": "code",
   "execution_count": 38,
   "metadata": {},
   "outputs": [],
   "source": [
    "# Add active status from app_events to app_labels\n",
    "apps_labeled = pd.merge(app_labels,\n",
    "                       app_events[['app_id', 'is_active']],\n",
    "                       on='app_id').dropna().drop_duplicates() # Drop miising values & duplicates"
   ]
  },
  {
   "cell_type": "code",
   "execution_count": 39,
   "metadata": {},
   "outputs": [
    {
     "data": {
      "text/plain": [
       "(117374, 3)"
      ]
     },
     "execution_count": 39,
     "metadata": {},
     "output_type": "execute_result"
    }
   ],
   "source": [
    "print(apps_labeled.shape)"
   ]
  },
  {
   "cell_type": "code",
   "execution_count": 47,
   "metadata": {
    "scrolled": true
   },
   "outputs": [
    {
     "data": {
      "text/html": [
       "<div>\n",
       "<style scoped>\n",
       "    .dataframe tbody tr th:only-of-type {\n",
       "        vertical-align: middle;\n",
       "    }\n",
       "\n",
       "    .dataframe tbody tr th {\n",
       "        vertical-align: top;\n",
       "    }\n",
       "\n",
       "    .dataframe thead th {\n",
       "        text-align: right;\n",
       "    }\n",
       "</style>\n",
       "<table border=\"1\" class=\"dataframe\">\n",
       "  <thead>\n",
       "    <tr style=\"text-align: right;\">\n",
       "      <th></th>\n",
       "      <th>app_id</th>\n",
       "      <th>label_id</th>\n",
       "      <th>is_active</th>\n",
       "    </tr>\n",
       "  </thead>\n",
       "  <tbody>\n",
       "    <tr>\n",
       "      <th>0</th>\n",
       "      <td>7324884708820027918</td>\n",
       "      <td>251</td>\n",
       "      <td>0</td>\n",
       "    </tr>\n",
       "    <tr>\n",
       "      <th>5</th>\n",
       "      <td>7324884708820027918</td>\n",
       "      <td>691</td>\n",
       "      <td>0</td>\n",
       "    </tr>\n",
       "    <tr>\n",
       "      <th>10</th>\n",
       "      <td>7324884708820027918</td>\n",
       "      <td>751</td>\n",
       "      <td>0</td>\n",
       "    </tr>\n",
       "    <tr>\n",
       "      <th>15</th>\n",
       "      <td>7324884708820027918</td>\n",
       "      <td>786</td>\n",
       "      <td>0</td>\n",
       "    </tr>\n",
       "    <tr>\n",
       "      <th>20</th>\n",
       "      <td>7324884708820027918</td>\n",
       "      <td>775</td>\n",
       "      <td>0</td>\n",
       "    </tr>\n",
       "  </tbody>\n",
       "</table>\n",
       "</div>"
      ],
      "text/plain": [
       "                 app_id  label_id  is_active\n",
       "0   7324884708820027918       251          0\n",
       "5   7324884708820027918       691          0\n",
       "10  7324884708820027918       751          0\n",
       "15  7324884708820027918       786          0\n",
       "20  7324884708820027918       775          0"
      ]
     },
     "execution_count": 47,
     "metadata": {},
     "output_type": "execute_result"
    }
   ],
   "source": [
    "apps_labeled.head()"
   ]
  },
  {
   "cell_type": "code",
   "execution_count": 9,
   "metadata": {},
   "outputs": [
    {
     "data": {
      "text/html": [
       "<div>\n",
       "<style scoped>\n",
       "    .dataframe tbody tr th:only-of-type {\n",
       "        vertical-align: middle;\n",
       "    }\n",
       "\n",
       "    .dataframe tbody tr th {\n",
       "        vertical-align: top;\n",
       "    }\n",
       "\n",
       "    .dataframe thead th {\n",
       "        text-align: right;\n",
       "    }\n",
       "</style>\n",
       "<table border=\"1\" class=\"dataframe\">\n",
       "  <thead>\n",
       "    <tr style=\"text-align: right;\">\n",
       "      <th></th>\n",
       "      <th>app_id</th>\n",
       "      <th>is_active</th>\n",
       "      <th>device_id</th>\n",
       "      <th>timestamp</th>\n",
       "      <th>longitude</th>\n",
       "      <th>latitude</th>\n",
       "    </tr>\n",
       "  </thead>\n",
       "  <tbody>\n",
       "    <tr>\n",
       "      <th>0</th>\n",
       "      <td>5927333115845830913</td>\n",
       "      <td>1</td>\n",
       "      <td>-6401643145415154744</td>\n",
       "      <td>2016-05-01 00:54:12</td>\n",
       "      <td>103.65</td>\n",
       "      <td>30.97</td>\n",
       "    </tr>\n",
       "    <tr>\n",
       "      <th>1</th>\n",
       "      <td>-5720078949152207372</td>\n",
       "      <td>0</td>\n",
       "      <td>-6401643145415154744</td>\n",
       "      <td>2016-05-01 00:54:12</td>\n",
       "      <td>103.65</td>\n",
       "      <td>30.97</td>\n",
       "    </tr>\n",
       "    <tr>\n",
       "      <th>2</th>\n",
       "      <td>-1633887856876571208</td>\n",
       "      <td>0</td>\n",
       "      <td>-6401643145415154744</td>\n",
       "      <td>2016-05-01 00:54:12</td>\n",
       "      <td>103.65</td>\n",
       "      <td>30.97</td>\n",
       "    </tr>\n",
       "    <tr>\n",
       "      <th>3</th>\n",
       "      <td>-653184325010919369</td>\n",
       "      <td>1</td>\n",
       "      <td>-6401643145415154744</td>\n",
       "      <td>2016-05-01 00:54:12</td>\n",
       "      <td>103.65</td>\n",
       "      <td>30.97</td>\n",
       "    </tr>\n",
       "    <tr>\n",
       "      <th>4</th>\n",
       "      <td>8693964245073640147</td>\n",
       "      <td>1</td>\n",
       "      <td>-6401643145415154744</td>\n",
       "      <td>2016-05-01 00:54:12</td>\n",
       "      <td>103.65</td>\n",
       "      <td>30.97</td>\n",
       "    </tr>\n",
       "  </tbody>\n",
       "</table>\n",
       "</div>"
      ],
      "text/plain": [
       "                app_id  is_active            device_id            timestamp  \\\n",
       "0  5927333115845830913          1 -6401643145415154744  2016-05-01 00:54:12   \n",
       "1 -5720078949152207372          0 -6401643145415154744  2016-05-01 00:54:12   \n",
       "2 -1633887856876571208          0 -6401643145415154744  2016-05-01 00:54:12   \n",
       "3  -653184325010919369          1 -6401643145415154744  2016-05-01 00:54:12   \n",
       "4  8693964245073640147          1 -6401643145415154744  2016-05-01 00:54:12   \n",
       "\n",
       "   longitude  latitude  \n",
       "0     103.65     30.97  \n",
       "1     103.65     30.97  \n",
       "2     103.65     30.97  \n",
       "3     103.65     30.97  \n",
       "4     103.65     30.97  "
      ]
     },
     "execution_count": 9,
     "metadata": {},
     "output_type": "execute_result"
    }
   ],
   "source": [
    "# Gather device_id & app_id in a dataset\n",
    "device_apps = (\n",
    "    app_events.merge(events, how = 'left', left_on = 'event_id', right_on = 'event_id').drop('event_id', axis = 1)\n",
    "    .drop_duplicates()\n",
    ")\n",
    "device_apps.head()"
   ]
  },
  {
   "cell_type": "code",
   "execution_count": 13,
   "metadata": {},
   "outputs": [
    {
     "name": "stdout",
     "output_type": "stream",
     "text": [
      "(1097150, 6)\n"
     ]
    },
    {
     "data": {
      "text/html": [
       "<div>\n",
       "<style scoped>\n",
       "    .dataframe tbody tr th:only-of-type {\n",
       "        vertical-align: middle;\n",
       "    }\n",
       "\n",
       "    .dataframe tbody tr th {\n",
       "        vertical-align: top;\n",
       "    }\n",
       "\n",
       "    .dataframe thead th {\n",
       "        text-align: right;\n",
       "    }\n",
       "</style>\n",
       "<table border=\"1\" class=\"dataframe\">\n",
       "  <thead>\n",
       "    <tr style=\"text-align: right;\">\n",
       "      <th></th>\n",
       "      <th>device_id</th>\n",
       "      <th>gender</th>\n",
       "      <th>age</th>\n",
       "      <th>group</th>\n",
       "      <th>app_id</th>\n",
       "      <th>is_active</th>\n",
       "    </tr>\n",
       "  </thead>\n",
       "  <tbody>\n",
       "    <tr>\n",
       "      <th>0</th>\n",
       "      <td>-8260683887967679142</td>\n",
       "      <td>M</td>\n",
       "      <td>35</td>\n",
       "      <td>M32-38</td>\n",
       "      <td>4287147352639325907</td>\n",
       "      <td>0</td>\n",
       "    </tr>\n",
       "    <tr>\n",
       "      <th>1</th>\n",
       "      <td>-8260683887967679142</td>\n",
       "      <td>M</td>\n",
       "      <td>35</td>\n",
       "      <td>M32-38</td>\n",
       "      <td>-4085686983594738208</td>\n",
       "      <td>0</td>\n",
       "    </tr>\n",
       "    <tr>\n",
       "      <th>2</th>\n",
       "      <td>-8260683887967679142</td>\n",
       "      <td>M</td>\n",
       "      <td>35</td>\n",
       "      <td>M32-38</td>\n",
       "      <td>6324194957022958681</td>\n",
       "      <td>0</td>\n",
       "    </tr>\n",
       "    <tr>\n",
       "      <th>3</th>\n",
       "      <td>-8260683887967679142</td>\n",
       "      <td>M</td>\n",
       "      <td>35</td>\n",
       "      <td>M32-38</td>\n",
       "      <td>-8687507491028761317</td>\n",
       "      <td>0</td>\n",
       "    </tr>\n",
       "    <tr>\n",
       "      <th>4</th>\n",
       "      <td>-8260683887967679142</td>\n",
       "      <td>M</td>\n",
       "      <td>35</td>\n",
       "      <td>M32-38</td>\n",
       "      <td>877288515501232570</td>\n",
       "      <td>1</td>\n",
       "    </tr>\n",
       "  </tbody>\n",
       "</table>\n",
       "</div>"
      ],
      "text/plain": [
       "             device_id gender  age   group               app_id  is_active\n",
       "0 -8260683887967679142      M   35  M32-38  4287147352639325907          0\n",
       "1 -8260683887967679142      M   35  M32-38 -4085686983594738208          0\n",
       "2 -8260683887967679142      M   35  M32-38  6324194957022958681          0\n",
       "3 -8260683887967679142      M   35  M32-38 -8687507491028761317          0\n",
       "4 -8260683887967679142      M   35  M32-38   877288515501232570          1"
      ]
     },
     "execution_count": 13,
     "metadata": {},
     "output_type": "execute_result"
    }
   ],
   "source": [
    "# Add device_id to train set\n",
    "ga_apps = pd.merge(gender_age_train,\n",
    "                  device_apps[['app_id', 'is_active', 'device_id']],\n",
    "                  on='device_id').dropna().drop_duplicates()\n",
    "#Shape of ga_apps\n",
    "print(ga_apps.shape)\n",
    "\n",
    "# Show how the new df looks.\n",
    "ga_apps.head()"
   ]
  },
  {
   "cell_type": "code",
   "execution_count": 16,
   "metadata": {},
   "outputs": [
    {
     "name": "stdout",
     "output_type": "stream",
     "text": [
      "(1097198, 7)\n"
     ]
    },
    {
     "data": {
      "text/html": [
       "<div>\n",
       "<style scoped>\n",
       "    .dataframe tbody tr th:only-of-type {\n",
       "        vertical-align: middle;\n",
       "    }\n",
       "\n",
       "    .dataframe tbody tr th {\n",
       "        vertical-align: top;\n",
       "    }\n",
       "\n",
       "    .dataframe thead th {\n",
       "        text-align: right;\n",
       "    }\n",
       "</style>\n",
       "<table border=\"1\" class=\"dataframe\">\n",
       "  <thead>\n",
       "    <tr style=\"text-align: right;\">\n",
       "      <th></th>\n",
       "      <th>device_id</th>\n",
       "      <th>gender</th>\n",
       "      <th>age</th>\n",
       "      <th>group</th>\n",
       "      <th>app_id</th>\n",
       "      <th>is_active</th>\n",
       "      <th>encoded_model</th>\n",
       "    </tr>\n",
       "  </thead>\n",
       "  <tbody>\n",
       "    <tr>\n",
       "      <th>0</th>\n",
       "      <td>-8260683887967679142</td>\n",
       "      <td>M</td>\n",
       "      <td>35</td>\n",
       "      <td>M32-38</td>\n",
       "      <td>4287147352639325907</td>\n",
       "      <td>0</td>\n",
       "      <td>843</td>\n",
       "    </tr>\n",
       "    <tr>\n",
       "      <th>1</th>\n",
       "      <td>-8260683887967679142</td>\n",
       "      <td>M</td>\n",
       "      <td>35</td>\n",
       "      <td>M32-38</td>\n",
       "      <td>-4085686983594738208</td>\n",
       "      <td>0</td>\n",
       "      <td>843</td>\n",
       "    </tr>\n",
       "    <tr>\n",
       "      <th>2</th>\n",
       "      <td>-8260683887967679142</td>\n",
       "      <td>M</td>\n",
       "      <td>35</td>\n",
       "      <td>M32-38</td>\n",
       "      <td>6324194957022958681</td>\n",
       "      <td>0</td>\n",
       "      <td>843</td>\n",
       "    </tr>\n",
       "    <tr>\n",
       "      <th>3</th>\n",
       "      <td>-8260683887967679142</td>\n",
       "      <td>M</td>\n",
       "      <td>35</td>\n",
       "      <td>M32-38</td>\n",
       "      <td>-8687507491028761317</td>\n",
       "      <td>0</td>\n",
       "      <td>843</td>\n",
       "    </tr>\n",
       "    <tr>\n",
       "      <th>4</th>\n",
       "      <td>-8260683887967679142</td>\n",
       "      <td>M</td>\n",
       "      <td>35</td>\n",
       "      <td>M32-38</td>\n",
       "      <td>877288515501232570</td>\n",
       "      <td>1</td>\n",
       "      <td>843</td>\n",
       "    </tr>\n",
       "  </tbody>\n",
       "</table>\n",
       "</div>"
      ],
      "text/plain": [
       "             device_id gender  age   group               app_id  is_active  \\\n",
       "0 -8260683887967679142      M   35  M32-38  4287147352639325907          0   \n",
       "1 -8260683887967679142      M   35  M32-38 -4085686983594738208          0   \n",
       "2 -8260683887967679142      M   35  M32-38  6324194957022958681          0   \n",
       "3 -8260683887967679142      M   35  M32-38 -8687507491028761317          0   \n",
       "4 -8260683887967679142      M   35  M32-38   877288515501232570          1   \n",
       "\n",
       "   encoded_model  \n",
       "0            843  \n",
       "1            843  \n",
       "2            843  \n",
       "3            843  \n",
       "4            843  "
      ]
     },
     "execution_count": 16,
     "metadata": {},
     "output_type": "execute_result"
    }
   ],
   "source": [
    "# Merge the previous data set with brands now. \n",
    "ga_apps_brands = pd.merge(ga_apps,\n",
    "                         phone_brand_device_model[['device_id', 'encoded_model']],\n",
    "                         on='device_id').dropna().drop_duplicates()\n",
    "#Show me the shape\n",
    "print(ga_apps_brands.shape)\n",
    "\n",
    "#Look at how the data looks.\n",
    "ga_apps_brands.head()"
   ]
  },
  {
   "cell_type": "code",
   "execution_count": 20,
   "metadata": {},
   "outputs": [
    {
     "name": "stdout",
     "output_type": "stream",
     "text": [
      "(7034350, 8)\n"
     ]
    },
    {
     "data": {
      "text/html": [
       "<div>\n",
       "<style scoped>\n",
       "    .dataframe tbody tr th:only-of-type {\n",
       "        vertical-align: middle;\n",
       "    }\n",
       "\n",
       "    .dataframe tbody tr th {\n",
       "        vertical-align: top;\n",
       "    }\n",
       "\n",
       "    .dataframe thead th {\n",
       "        text-align: right;\n",
       "    }\n",
       "</style>\n",
       "<table border=\"1\" class=\"dataframe\">\n",
       "  <thead>\n",
       "    <tr style=\"text-align: right;\">\n",
       "      <th></th>\n",
       "      <th>device_id</th>\n",
       "      <th>gender</th>\n",
       "      <th>age</th>\n",
       "      <th>group</th>\n",
       "      <th>app_id</th>\n",
       "      <th>is_active</th>\n",
       "      <th>encoded_model</th>\n",
       "      <th>label_id</th>\n",
       "    </tr>\n",
       "  </thead>\n",
       "  <tbody>\n",
       "    <tr>\n",
       "      <th>0</th>\n",
       "      <td>-8260683887967679142</td>\n",
       "      <td>M</td>\n",
       "      <td>35</td>\n",
       "      <td>M32-38</td>\n",
       "      <td>4287147352639325907</td>\n",
       "      <td>0</td>\n",
       "      <td>843</td>\n",
       "      <td>713</td>\n",
       "    </tr>\n",
       "    <tr>\n",
       "      <th>2</th>\n",
       "      <td>-8260683887967679142</td>\n",
       "      <td>M</td>\n",
       "      <td>35</td>\n",
       "      <td>M32-38</td>\n",
       "      <td>4287147352639325907</td>\n",
       "      <td>0</td>\n",
       "      <td>843</td>\n",
       "      <td>704</td>\n",
       "    </tr>\n",
       "    <tr>\n",
       "      <th>4</th>\n",
       "      <td>-8260683887967679142</td>\n",
       "      <td>M</td>\n",
       "      <td>35</td>\n",
       "      <td>M32-38</td>\n",
       "      <td>4287147352639325907</td>\n",
       "      <td>0</td>\n",
       "      <td>843</td>\n",
       "      <td>548</td>\n",
       "    </tr>\n",
       "    <tr>\n",
       "      <th>6</th>\n",
       "      <td>8761770737926125955</td>\n",
       "      <td>F</td>\n",
       "      <td>22</td>\n",
       "      <td>F23-</td>\n",
       "      <td>4287147352639325907</td>\n",
       "      <td>0</td>\n",
       "      <td>226</td>\n",
       "      <td>713</td>\n",
       "    </tr>\n",
       "    <tr>\n",
       "      <th>8</th>\n",
       "      <td>8761770737926125955</td>\n",
       "      <td>F</td>\n",
       "      <td>22</td>\n",
       "      <td>F23-</td>\n",
       "      <td>4287147352639325907</td>\n",
       "      <td>0</td>\n",
       "      <td>226</td>\n",
       "      <td>704</td>\n",
       "    </tr>\n",
       "  </tbody>\n",
       "</table>\n",
       "</div>"
      ],
      "text/plain": [
       "             device_id gender  age   group               app_id  is_active  \\\n",
       "0 -8260683887967679142      M   35  M32-38  4287147352639325907          0   \n",
       "2 -8260683887967679142      M   35  M32-38  4287147352639325907          0   \n",
       "4 -8260683887967679142      M   35  M32-38  4287147352639325907          0   \n",
       "6  8761770737926125955      F   22    F23-  4287147352639325907          0   \n",
       "8  8761770737926125955      F   22    F23-  4287147352639325907          0   \n",
       "\n",
       "   encoded_model  label_id  \n",
       "0            843       713  \n",
       "2            843       704  \n",
       "4            843       548  \n",
       "6            226       713  \n",
       "8            226       704  "
      ]
     },
     "execution_count": 20,
     "metadata": {},
     "output_type": "execute_result"
    }
   ],
   "source": [
    "# Putting all of the data sets together.\n",
    "ga_apps_labeled_brands = pd.merge(ga_apps_brands,\n",
    "                                 apps_labeled[['app_id', 'label_id']],\n",
    "                                 on='app_id').dropna().drop_duplicates()\n",
    "#Show me the shape\n",
    "print(ga_apps_labeled_brands.shape)\n",
    "\n",
    "#Look at how the data looks.\n",
    "ga_apps_labeled_brands.head()"
   ]
  },
  {
   "cell_type": "markdown",
   "metadata": {},
   "source": [
    "Now our data set contains all intereseted variables that we need for our machone learning models. In next step I prepare the data set for the machine learning model with digitizing the variables values."
   ]
  },
  {
   "cell_type": "code",
   "execution_count": 11,
   "metadata": {},
   "outputs": [
    {
     "name": "stdout",
     "output_type": "stream",
     "text": [
      "1    4942697\n",
      "0    2091653\n",
      "Name: gender, dtype: int64\n"
     ]
    },
    {
     "data": {
      "text/html": [
       "<div>\n",
       "<style scoped>\n",
       "    .dataframe tbody tr th:only-of-type {\n",
       "        vertical-align: middle;\n",
       "    }\n",
       "\n",
       "    .dataframe tbody tr th {\n",
       "        vertical-align: top;\n",
       "    }\n",
       "\n",
       "    .dataframe thead th {\n",
       "        text-align: right;\n",
       "    }\n",
       "</style>\n",
       "<table border=\"1\" class=\"dataframe\">\n",
       "  <thead>\n",
       "    <tr style=\"text-align: right;\">\n",
       "      <th></th>\n",
       "      <th>device_id</th>\n",
       "      <th>gender</th>\n",
       "      <th>age</th>\n",
       "      <th>group</th>\n",
       "      <th>app_id</th>\n",
       "      <th>is_active</th>\n",
       "      <th>encoded_model</th>\n",
       "      <th>label_id</th>\n",
       "    </tr>\n",
       "  </thead>\n",
       "  <tbody>\n",
       "    <tr>\n",
       "      <th>0</th>\n",
       "      <td>-8260683887967679142</td>\n",
       "      <td>1</td>\n",
       "      <td>35</td>\n",
       "      <td>M32-38</td>\n",
       "      <td>4287147352639325907</td>\n",
       "      <td>0</td>\n",
       "      <td>843</td>\n",
       "      <td>713</td>\n",
       "    </tr>\n",
       "    <tr>\n",
       "      <th>1</th>\n",
       "      <td>-8260683887967679142</td>\n",
       "      <td>1</td>\n",
       "      <td>35</td>\n",
       "      <td>M32-38</td>\n",
       "      <td>4287147352639325907</td>\n",
       "      <td>0</td>\n",
       "      <td>843</td>\n",
       "      <td>704</td>\n",
       "    </tr>\n",
       "    <tr>\n",
       "      <th>2</th>\n",
       "      <td>-8260683887967679142</td>\n",
       "      <td>1</td>\n",
       "      <td>35</td>\n",
       "      <td>M32-38</td>\n",
       "      <td>4287147352639325907</td>\n",
       "      <td>0</td>\n",
       "      <td>843</td>\n",
       "      <td>548</td>\n",
       "    </tr>\n",
       "    <tr>\n",
       "      <th>3</th>\n",
       "      <td>8761770737926125955</td>\n",
       "      <td>0</td>\n",
       "      <td>22</td>\n",
       "      <td>F23-</td>\n",
       "      <td>4287147352639325907</td>\n",
       "      <td>0</td>\n",
       "      <td>226</td>\n",
       "      <td>713</td>\n",
       "    </tr>\n",
       "    <tr>\n",
       "      <th>4</th>\n",
       "      <td>8761770737926125955</td>\n",
       "      <td>0</td>\n",
       "      <td>22</td>\n",
       "      <td>F23-</td>\n",
       "      <td>4287147352639325907</td>\n",
       "      <td>0</td>\n",
       "      <td>226</td>\n",
       "      <td>704</td>\n",
       "    </tr>\n",
       "  </tbody>\n",
       "</table>\n",
       "</div>"
      ],
      "text/plain": [
       "             device_id  gender  age   group               app_id  is_active  \\\n",
       "0 -8260683887967679142       1   35  M32-38  4287147352639325907          0   \n",
       "1 -8260683887967679142       1   35  M32-38  4287147352639325907          0   \n",
       "2 -8260683887967679142       1   35  M32-38  4287147352639325907          0   \n",
       "3  8761770737926125955       0   22    F23-  4287147352639325907          0   \n",
       "4  8761770737926125955       0   22    F23-  4287147352639325907          0   \n",
       "\n",
       "   encoded_model  label_id  \n",
       "0            843       713  \n",
       "1            843       704  \n",
       "2            843       548  \n",
       "3            226       713  \n",
       "4            226       704  "
      ]
     },
     "execution_count": 11,
     "metadata": {},
     "output_type": "execute_result"
    }
   ],
   "source": [
    "# Convert gender to 0 & 1\n",
    "ga_apps_labeled_brands['gender'] = ga_apps_labeled_brands['gender'].apply(lambda x: 1 if x == 'M' else 0 )\n",
    "print(ga_apps_labeled_brands.gender.value_counts())\n",
    "ga_apps_labeled_brands.head()"
   ]
  },
  {
   "cell_type": "markdown",
   "metadata": {},
   "source": [
    "The heat map above shows that there is no significant correlation between the variabels, and low numbers are a sign of being hard to apply to machine learning models because the features in different groups don't have a strong relation.\n",
    "# Creating Dummies\n",
    "Two of our variables are important to be dummified, lable_id and encoded_model. Although we already reduct number of devices with combining them with their brand, but the encoded_model variable contains so many models plus brand which wout not be necessory to consider due to low correalation. So dummifying app_labels will give more insight into the data, and we use dummies for this variable."
   ]
  },
  {
   "cell_type": "code",
   "execution_count": 36,
   "metadata": {},
   "outputs": [
    {
     "name": "stdout",
     "output_type": "stream",
     "text": [
      "label_id:  485\n",
      "encoded_model:  942\n"
     ]
    }
   ],
   "source": [
    "print('label_id: ', ga_apps_labeled_brands.label_id.nunique())\n",
    "print('encoded_model: ', ga_apps_labeled_brands.encoded_model.nunique())"
   ]
  },
  {
   "cell_type": "code",
   "execution_count": 38,
   "metadata": {},
   "outputs": [
    {
     "data": {
      "text/html": [
       "<div>\n",
       "<style scoped>\n",
       "    .dataframe tbody tr th:only-of-type {\n",
       "        vertical-align: middle;\n",
       "    }\n",
       "\n",
       "    .dataframe tbody tr th {\n",
       "        vertical-align: top;\n",
       "    }\n",
       "\n",
       "    .dataframe thead th {\n",
       "        text-align: right;\n",
       "    }\n",
       "</style>\n",
       "<table border=\"1\" class=\"dataframe\">\n",
       "  <thead>\n",
       "    <tr style=\"text-align: right;\">\n",
       "      <th></th>\n",
       "      <th>device_id</th>\n",
       "      <th>gender</th>\n",
       "      <th>age</th>\n",
       "      <th>group</th>\n",
       "      <th>app_id</th>\n",
       "      <th>is_active</th>\n",
       "      <th>encoded_model</th>\n",
       "      <th>2</th>\n",
       "      <th>4</th>\n",
       "      <th>6</th>\n",
       "      <th>...</th>\n",
       "      <th>1012</th>\n",
       "      <th>1013</th>\n",
       "      <th>1014</th>\n",
       "      <th>1015</th>\n",
       "      <th>1016</th>\n",
       "      <th>1017</th>\n",
       "      <th>1018</th>\n",
       "      <th>1019</th>\n",
       "      <th>1020</th>\n",
       "      <th>1021</th>\n",
       "    </tr>\n",
       "  </thead>\n",
       "  <tbody>\n",
       "    <tr>\n",
       "      <th>0</th>\n",
       "      <td>-8260683887967679142</td>\n",
       "      <td>1</td>\n",
       "      <td>35</td>\n",
       "      <td>M32-38</td>\n",
       "      <td>4287147352639325907</td>\n",
       "      <td>0</td>\n",
       "      <td>843</td>\n",
       "      <td>0</td>\n",
       "      <td>0</td>\n",
       "      <td>0</td>\n",
       "      <td>...</td>\n",
       "      <td>0</td>\n",
       "      <td>0</td>\n",
       "      <td>0</td>\n",
       "      <td>0</td>\n",
       "      <td>0</td>\n",
       "      <td>0</td>\n",
       "      <td>0</td>\n",
       "      <td>0</td>\n",
       "      <td>0</td>\n",
       "      <td>0</td>\n",
       "    </tr>\n",
       "    <tr>\n",
       "      <th>1</th>\n",
       "      <td>-8260683887967679142</td>\n",
       "      <td>1</td>\n",
       "      <td>35</td>\n",
       "      <td>M32-38</td>\n",
       "      <td>4287147352639325907</td>\n",
       "      <td>0</td>\n",
       "      <td>843</td>\n",
       "      <td>0</td>\n",
       "      <td>0</td>\n",
       "      <td>0</td>\n",
       "      <td>...</td>\n",
       "      <td>0</td>\n",
       "      <td>0</td>\n",
       "      <td>0</td>\n",
       "      <td>0</td>\n",
       "      <td>0</td>\n",
       "      <td>0</td>\n",
       "      <td>0</td>\n",
       "      <td>0</td>\n",
       "      <td>0</td>\n",
       "      <td>0</td>\n",
       "    </tr>\n",
       "    <tr>\n",
       "      <th>2</th>\n",
       "      <td>-8260683887967679142</td>\n",
       "      <td>1</td>\n",
       "      <td>35</td>\n",
       "      <td>M32-38</td>\n",
       "      <td>4287147352639325907</td>\n",
       "      <td>0</td>\n",
       "      <td>843</td>\n",
       "      <td>0</td>\n",
       "      <td>0</td>\n",
       "      <td>0</td>\n",
       "      <td>...</td>\n",
       "      <td>0</td>\n",
       "      <td>0</td>\n",
       "      <td>0</td>\n",
       "      <td>0</td>\n",
       "      <td>0</td>\n",
       "      <td>0</td>\n",
       "      <td>0</td>\n",
       "      <td>0</td>\n",
       "      <td>0</td>\n",
       "      <td>0</td>\n",
       "    </tr>\n",
       "    <tr>\n",
       "      <th>3</th>\n",
       "      <td>8761770737926125955</td>\n",
       "      <td>0</td>\n",
       "      <td>22</td>\n",
       "      <td>F23-</td>\n",
       "      <td>4287147352639325907</td>\n",
       "      <td>0</td>\n",
       "      <td>226</td>\n",
       "      <td>0</td>\n",
       "      <td>0</td>\n",
       "      <td>0</td>\n",
       "      <td>...</td>\n",
       "      <td>0</td>\n",
       "      <td>0</td>\n",
       "      <td>0</td>\n",
       "      <td>0</td>\n",
       "      <td>0</td>\n",
       "      <td>0</td>\n",
       "      <td>0</td>\n",
       "      <td>0</td>\n",
       "      <td>0</td>\n",
       "      <td>0</td>\n",
       "    </tr>\n",
       "    <tr>\n",
       "      <th>4</th>\n",
       "      <td>8761770737926125955</td>\n",
       "      <td>0</td>\n",
       "      <td>22</td>\n",
       "      <td>F23-</td>\n",
       "      <td>4287147352639325907</td>\n",
       "      <td>0</td>\n",
       "      <td>226</td>\n",
       "      <td>0</td>\n",
       "      <td>0</td>\n",
       "      <td>0</td>\n",
       "      <td>...</td>\n",
       "      <td>0</td>\n",
       "      <td>0</td>\n",
       "      <td>0</td>\n",
       "      <td>0</td>\n",
       "      <td>0</td>\n",
       "      <td>0</td>\n",
       "      <td>0</td>\n",
       "      <td>0</td>\n",
       "      <td>0</td>\n",
       "      <td>0</td>\n",
       "    </tr>\n",
       "  </tbody>\n",
       "</table>\n",
       "<p>5 rows × 492 columns</p>\n",
       "</div>"
      ],
      "text/plain": [
       "             device_id  gender  age   group               app_id  is_active  \\\n",
       "0 -8260683887967679142       1   35  M32-38  4287147352639325907          0   \n",
       "1 -8260683887967679142       1   35  M32-38  4287147352639325907          0   \n",
       "2 -8260683887967679142       1   35  M32-38  4287147352639325907          0   \n",
       "3  8761770737926125955       0   22    F23-  4287147352639325907          0   \n",
       "4  8761770737926125955       0   22    F23-  4287147352639325907          0   \n",
       "\n",
       "   encoded_model  2  4  6  ...  1012  1013  1014  1015  1016  1017  1018  \\\n",
       "0            843  0  0  0  ...     0     0     0     0     0     0     0   \n",
       "1            843  0  0  0  ...     0     0     0     0     0     0     0   \n",
       "2            843  0  0  0  ...     0     0     0     0     0     0     0   \n",
       "3            226  0  0  0  ...     0     0     0     0     0     0     0   \n",
       "4            226  0  0  0  ...     0     0     0     0     0     0     0   \n",
       "\n",
       "   1019  1020  1021  \n",
       "0     0     0     0  \n",
       "1     0     0     0  \n",
       "2     0     0     0  \n",
       "3     0     0     0  \n",
       "4     0     0     0  \n",
       "\n",
       "[5 rows x 492 columns]"
      ]
     },
     "execution_count": 38,
     "metadata": {},
     "output_type": "execute_result"
    }
   ],
   "source": [
    "ga_apps_labeled_brands = pd.concat([ga_apps_labeled_brands,pd.get_dummies(ga_apps_labeled_brands.label_id)], axis=1)\n",
    "ga_apps_labeled_brands = ga_apps_labeled_brands.drop(columns=['label_id'], axis=1)\n",
    "ga_apps_labeled_brands.head()"
   ]
  },
  {
   "cell_type": "markdown",
   "metadata": {},
   "source": [
    "# Dealing with unbalanced data\n",
    "Previously we saw that the data set contains significantly different persantage of men and women users. We also need to check the balance of users in each age groups."
   ]
  },
  {
   "cell_type": "code",
   "execution_count": 39,
   "metadata": {},
   "outputs": [
    {
     "data": {
      "text/plain": [
       "M32-38    1185421\n",
       "M39+      1107632\n",
       "M23-26     817660\n",
       "M29-31     810956\n",
       "M27-28     530780\n",
       "F33-42     517420\n",
       "M22-       490248\n",
       "F43+       391188\n",
       "F29-32     368450\n",
       "F23-       303034\n",
       "F24-26     265262\n",
       "F27-28     246299\n",
       "Name: group, dtype: int64"
      ]
     },
     "execution_count": 39,
     "metadata": {},
     "output_type": "execute_result"
    }
   ],
   "source": [
    "# Count group values\n",
    "ga_apps_labeled_brands.group.value_counts()"
   ]
  },
  {
   "cell_type": "markdown",
   "metadata": {},
   "source": [
    "It is important to have balanced data in each group because otherwise the results of machine learning models will be influenced by dominant age groups. For this purpose an also having a smaller data set I will use down sampling method for all age groups.  "
   ]
  },
  {
   "cell_type": "code",
   "execution_count": 41,
   "metadata": {},
   "outputs": [],
   "source": [
    "# Downsampling the gender/age training set\n",
    "M22 = ga_apps_labeled_brands[ga_apps_labeled_brands.group=='M22-']\n",
    "M23_26 = ga_apps_labeled_brands[ga_apps_labeled_brands.group=='M23-26']\n",
    "M27_28 = ga_apps_labeled_brands[ga_apps_labeled_brands.group=='M27-28']\n",
    "M29_31 = ga_apps_labeled_brands[ga_apps_labeled_brands.group=='M29-31']\n",
    "M32_38 = ga_apps_labeled_brands[ga_apps_labeled_brands.group=='M32-38']\n",
    "M39 = ga_apps_labeled_brands[ga_apps_labeled_brands.group=='M39+']\n",
    "F23 = ga_apps_labeled_brands[ga_apps_labeled_brands.group=='F23-']\n",
    "F24_26 = ga_apps_labeled_brands[ga_apps_labeled_brands.group=='F24-26']\n",
    "F27_28 = ga_apps_labeled_brands[ga_apps_labeled_brands.group=='F27-28']\n",
    "F29_32 = ga_apps_labeled_brands[ga_apps_labeled_brands.group=='F29-32']\n",
    "F33_42 = ga_apps_labeled_brands[ga_apps_labeled_brands.group=='F33-42']\n",
    "F43 = ga_apps_labeled_brands[ga_apps_labeled_brands.group=='F43+']\n",
    "\n",
    "# Downsample majority classes.\n",
    "M22 = resample(M22, replace=True, n_samples=8500, random_state=15)\n",
    "\n",
    "M23_26 = resample(M23_26, replace=True, n_samples=8500, random_state=15)\n",
    "\n",
    "M27_28 = resample(M27_28, replace=True, n_samples=8500, random_state=15)\n",
    "\n",
    "M29_31 = resample(M29_31, replace=True, n_samples=8500, random_state=15)\n",
    "\n",
    "M32_38 = resample(M32_38, replace=True, n_samples=8500, random_state=15)\n",
    "\n",
    "M39 = resample(M39, replace=True, n_samples=8500, random_state=15)\n",
    "\n",
    "F23 = resample(F23, replace=True, n_samples=8500, random_state=15)\n",
    "\n",
    "F24_26 = resample(F24_26, replace=True, n_samples=8500, random_state=15)\n",
    "\n",
    "F27_28 = resample(F27_28, replace=True, n_samples=8500, random_state=15)\n",
    "\n",
    "F29_32 = resample(F29_32, replace=True, n_samples=8500, random_state=15)\n",
    "\n",
    "F33_42 = resample(F33_42, replace=True, n_samples=8500, random_state=15)\n",
    "\n",
    "F43 = resample(F43, replace=True, n_samples=8500, random_state=15)\n",
    "\n",
    "# Display new class counts# Combine downsampled majority class \n",
    "df_resampled = pd.concat([M22, M23_26, M27_28, M29_31, M32_38, M39, \n",
    "                          F23, F24_26, F27_28, F29_32, F33_42, F43])"
   ]
  },
  {
   "cell_type": "markdown",
   "metadata": {},
   "source": [
    "# Convolutional Neural Network"
   ]
  },
  {
   "cell_type": "code",
   "execution_count": 1,
   "metadata": {},
   "outputs": [],
   "source": [
    "# Initializing again due to shutting down previous kernel\n",
    "# Load necessary libraries\n",
    "import pandas as pd\n",
    "import numpy as np\n",
    "from sklearn.preprocessing import LabelEncoder\n",
    "\n",
    "from sklearn.model_selection import train_test_split, cross_validate, cross_val_score\n",
    "from sklearn.preprocessing import StandardScaler\n",
    "from sklearn.metrics import classification_report\n",
    "from sklearn.metrics import confusion_matrix\n",
    "from sklearn.metrics import accuracy_score\n",
    "\n",
    "from sklearn.decomposition import PCA\n",
    "from sklearn.feature_selection import SelectKBest, f_regression\n",
    "import warnings\n",
    "warnings.filterwarnings(\"ignore\")"
   ]
  },
  {
   "cell_type": "code",
   "execution_count": 2,
   "metadata": {},
   "outputs": [
    {
     "name": "stderr",
     "output_type": "stream",
     "text": [
      "Using TensorFlow backend.\n"
     ]
    }
   ],
   "source": [
    "import tensorflow as tf\n",
    "import keras\n",
    "\n",
    "# Import various componenets tensor felow for model building\n",
    "from keras.models import Sequential\n",
    "from keras.layers import Dense, Dropout, Flatten, Conv1D, MaxPooling1D, MaxoutDense\n",
    "from keras.models import Model\n",
    "from keras.preprocessing import sequence\n",
    "from keras.optimizers import RMSprop, Adam, SGD, Adagrad\n",
    "from keras.utils import np_utils\n",
    "from keras.utils import to_categorical\n",
    "from keras.layers.normalization import BatchNormalization\n",
    "from keras.layers import LeakyReLU\n",
    "from time import perf_counter\n",
    "# Import the backend\n",
    "from keras import backend as K"
   ]
  },
  {
   "cell_type": "markdown",
   "metadata": {},
   "source": [
    "### SelectKBest Featuring"
   ]
  },
  {
   "cell_type": "code",
   "execution_count": 19,
   "metadata": {},
   "outputs": [
    {
     "name": "stdout",
     "output_type": "stream",
     "text": [
      "[ 6  7  8  9 10 11  0  1  2  3  4  5]\n",
      "['M22-' 'M23-26' 'M27-28' 'M29-31' 'M32-38' 'M39+' 'F23-' 'F24-26'\n",
      " 'F27-28' 'F29-32' 'F33-42' 'F43+']\n",
      "[1 0]\n"
     ]
    },
    {
     "data": {
      "text/html": [
       "<div>\n",
       "<style scoped>\n",
       "    .dataframe tbody tr th:only-of-type {\n",
       "        vertical-align: middle;\n",
       "    }\n",
       "\n",
       "    .dataframe tbody tr th {\n",
       "        vertical-align: top;\n",
       "    }\n",
       "\n",
       "    .dataframe thead th {\n",
       "        text-align: right;\n",
       "    }\n",
       "</style>\n",
       "<table border=\"1\" class=\"dataframe\">\n",
       "  <thead>\n",
       "    <tr style=\"text-align: right;\">\n",
       "      <th></th>\n",
       "      <th>device_id</th>\n",
       "      <th>gender</th>\n",
       "      <th>age</th>\n",
       "      <th>group</th>\n",
       "      <th>app_id</th>\n",
       "      <th>is_active</th>\n",
       "      <th>encoded_model</th>\n",
       "      <th>2</th>\n",
       "      <th>4</th>\n",
       "      <th>6</th>\n",
       "      <th>...</th>\n",
       "      <th>1013</th>\n",
       "      <th>1014</th>\n",
       "      <th>1015</th>\n",
       "      <th>1016</th>\n",
       "      <th>1017</th>\n",
       "      <th>1018</th>\n",
       "      <th>1019</th>\n",
       "      <th>1020</th>\n",
       "      <th>1021</th>\n",
       "      <th>encoded_group</th>\n",
       "    </tr>\n",
       "  </thead>\n",
       "  <tbody>\n",
       "    <tr>\n",
       "      <th>0</th>\n",
       "      <td>-243186812835285661</td>\n",
       "      <td>1</td>\n",
       "      <td>22</td>\n",
       "      <td>M22-</td>\n",
       "      <td>33792862810792679</td>\n",
       "      <td>1</td>\n",
       "      <td>865</td>\n",
       "      <td>0</td>\n",
       "      <td>0</td>\n",
       "      <td>0</td>\n",
       "      <td>...</td>\n",
       "      <td>0</td>\n",
       "      <td>0</td>\n",
       "      <td>0</td>\n",
       "      <td>0</td>\n",
       "      <td>0</td>\n",
       "      <td>0</td>\n",
       "      <td>0</td>\n",
       "      <td>0</td>\n",
       "      <td>0</td>\n",
       "      <td>6</td>\n",
       "    </tr>\n",
       "    <tr>\n",
       "      <th>1</th>\n",
       "      <td>3042999840186016499</td>\n",
       "      <td>1</td>\n",
       "      <td>20</td>\n",
       "      <td>M22-</td>\n",
       "      <td>-7509752927626140732</td>\n",
       "      <td>0</td>\n",
       "      <td>128</td>\n",
       "      <td>0</td>\n",
       "      <td>0</td>\n",
       "      <td>0</td>\n",
       "      <td>...</td>\n",
       "      <td>0</td>\n",
       "      <td>0</td>\n",
       "      <td>0</td>\n",
       "      <td>0</td>\n",
       "      <td>0</td>\n",
       "      <td>0</td>\n",
       "      <td>0</td>\n",
       "      <td>0</td>\n",
       "      <td>0</td>\n",
       "      <td>6</td>\n",
       "    </tr>\n",
       "    <tr>\n",
       "      <th>2</th>\n",
       "      <td>-9024646837768278604</td>\n",
       "      <td>1</td>\n",
       "      <td>22</td>\n",
       "      <td>M22-</td>\n",
       "      <td>-7377705850326369447</td>\n",
       "      <td>0</td>\n",
       "      <td>847</td>\n",
       "      <td>0</td>\n",
       "      <td>0</td>\n",
       "      <td>0</td>\n",
       "      <td>...</td>\n",
       "      <td>0</td>\n",
       "      <td>0</td>\n",
       "      <td>0</td>\n",
       "      <td>0</td>\n",
       "      <td>0</td>\n",
       "      <td>0</td>\n",
       "      <td>0</td>\n",
       "      <td>0</td>\n",
       "      <td>0</td>\n",
       "      <td>6</td>\n",
       "    </tr>\n",
       "    <tr>\n",
       "      <th>3</th>\n",
       "      <td>4760257368378545414</td>\n",
       "      <td>1</td>\n",
       "      <td>20</td>\n",
       "      <td>M22-</td>\n",
       "      <td>2022530832075009460</td>\n",
       "      <td>0</td>\n",
       "      <td>848</td>\n",
       "      <td>0</td>\n",
       "      <td>0</td>\n",
       "      <td>0</td>\n",
       "      <td>...</td>\n",
       "      <td>0</td>\n",
       "      <td>0</td>\n",
       "      <td>0</td>\n",
       "      <td>0</td>\n",
       "      <td>0</td>\n",
       "      <td>0</td>\n",
       "      <td>0</td>\n",
       "      <td>0</td>\n",
       "      <td>0</td>\n",
       "      <td>6</td>\n",
       "    </tr>\n",
       "    <tr>\n",
       "      <th>4</th>\n",
       "      <td>7690261349530060632</td>\n",
       "      <td>1</td>\n",
       "      <td>21</td>\n",
       "      <td>M22-</td>\n",
       "      <td>-923192824907939817</td>\n",
       "      <td>0</td>\n",
       "      <td>846</td>\n",
       "      <td>0</td>\n",
       "      <td>0</td>\n",
       "      <td>0</td>\n",
       "      <td>...</td>\n",
       "      <td>0</td>\n",
       "      <td>0</td>\n",
       "      <td>0</td>\n",
       "      <td>0</td>\n",
       "      <td>0</td>\n",
       "      <td>0</td>\n",
       "      <td>0</td>\n",
       "      <td>0</td>\n",
       "      <td>0</td>\n",
       "      <td>6</td>\n",
       "    </tr>\n",
       "  </tbody>\n",
       "</table>\n",
       "<p>5 rows × 493 columns</p>\n",
       "</div>"
      ],
      "text/plain": [
       "             device_id  gender  age group               app_id  is_active  \\\n",
       "0  -243186812835285661       1   22  M22-    33792862810792679          1   \n",
       "1  3042999840186016499       1   20  M22- -7509752927626140732          0   \n",
       "2 -9024646837768278604       1   22  M22- -7377705850326369447          0   \n",
       "3  4760257368378545414       1   20  M22-  2022530832075009460          0   \n",
       "4  7690261349530060632       1   21  M22-  -923192824907939817          0   \n",
       "\n",
       "   encoded_model  2  4  6  ...  1013  1014  1015  1016  1017  1018  1019  \\\n",
       "0            865  0  0  0  ...     0     0     0     0     0     0     0   \n",
       "1            128  0  0  0  ...     0     0     0     0     0     0     0   \n",
       "2            847  0  0  0  ...     0     0     0     0     0     0     0   \n",
       "3            848  0  0  0  ...     0     0     0     0     0     0     0   \n",
       "4            846  0  0  0  ...     0     0     0     0     0     0     0   \n",
       "\n",
       "   1020  1021  encoded_group  \n",
       "0     0     0              6  \n",
       "1     0     0              6  \n",
       "2     0     0              6  \n",
       "3     0     0              6  \n",
       "4     0     0              6  \n",
       "\n",
       "[5 rows x 493 columns]"
      ]
     },
     "execution_count": 19,
     "metadata": {},
     "output_type": "execute_result"
    }
   ],
   "source": [
    "print(df_resampled['encoded_group'].unique())\n",
    "print(df_resampled['group'].unique())\n",
    "print(df_resampled['gender'].unique())\n",
    "df_resampled.head()"
   ]
  },
  {
   "cell_type": "code",
   "execution_count": 3,
   "metadata": {},
   "outputs": [],
   "source": [
    "# Read the saved date\n",
    "df_resampled = pd.read_csv(\"df_resampled.csv\")\n",
    "\n",
    "# Build numerical labels for each device\n",
    "model_encoder = LabelEncoder().fit(df_resampled['group'])\n",
    "\n",
    "# Store in a new column\n",
    "df_resampled['encoded_group'] = model_encoder.transform(df_resampled['group'])\n",
    "\n",
    "# Train/test set  \n",
    "X = df_resampled.drop(['group', 'encoded_group'], axis=1)\n",
    "y = df_resampled['encoded_group'].values\n",
    "\n",
    "# Instantiate StandardScaler\n",
    "ss = StandardScaler()\n",
    "\n",
    "# Standarize and fit the data first \n",
    "X_stand = ss.fit_transform(X)\n",
    "# Select top 100 features\n",
    "selection = SelectKBest(score_func=f_regression, k=100) \n",
    "X_kbest = selection.fit_transform(X_stand, y)\n",
    "\n",
    "# Create a new training and testing set specifically for SelectBestK featuring.\n",
    "X_train_tf, X_test_tf, y_train_tf, y_test_tf = train_test_split( X_kbest, y, test_size = 0.20, random_state = 1 )"
   ]
  },
  {
   "cell_type": "code",
   "execution_count": 4,
   "metadata": {},
   "outputs": [],
   "source": [
    "# Modify the dimension input and target variables for Conv1d\n",
    "X_train_CNN = np.expand_dims(X_train_tf, axis=2)\n",
    "X_test_CNN = np.expand_dims(X_test_tf, axis=2)\n",
    "\n",
    "# Encode y into 12 different vectors for CNN because of our 12 age groups\n",
    "y_train_CNN = np_utils.to_categorical(y_train_tf, 12)\n",
    "y_test_CNN = np_utils.to_categorical(y_test_tf, 12)"
   ]
  },
  {
   "cell_type": "code",
   "execution_count": 5,
   "metadata": {},
   "outputs": [],
   "source": [
    "# Set up some parameters\n",
    "input_dim = 1\n",
    "\n",
    "# Convert X_train and X_test to numpy array and check lenths to be equal\n",
    "max_review_length = 500 \n",
    "\n",
    "X_train_CNN_f = sequence.pad_sequences(X_train_CNN, maxlen=max_review_length) \n",
    "X_test_CNN_f = sequence.pad_sequences(X_test_CNN, maxlen=max_review_length)"
   ]
  },
  {
   "cell_type": "code",
   "execution_count": 7,
   "metadata": {
    "scrolled": false
   },
   "outputs": [
    {
     "name": "stdout",
     "output_type": "stream",
     "text": [
      "Model: \"sequential_1\"\n",
      "_________________________________________________________________\n",
      "Layer (type)                 Output Shape              Param #   \n",
      "=================================================================\n",
      "conv1d_1 (Conv1D)            (None, 500, 64)           704       \n",
      "_________________________________________________________________\n",
      "conv1d_2 (Conv1D)            (None, 481, 64)           81984     \n",
      "_________________________________________________________________\n",
      "batch_normalization_1 (Batch (None, 481, 64)           256       \n",
      "_________________________________________________________________\n",
      "conv1d_3 (Conv1D)            (None, 467, 32)           30752     \n",
      "_________________________________________________________________\n",
      "max_pooling1d_1 (MaxPooling1 (None, 32, 32)            0         \n",
      "_________________________________________________________________\n",
      "batch_normalization_2 (Batch (None, 32, 32)            128       \n",
      "_________________________________________________________________\n",
      "dropout_1 (Dropout)          (None, 32, 32)            0         \n",
      "_________________________________________________________________\n",
      "conv1d_4 (Conv1D)            (None, 13, 32)            20512     \n",
      "_________________________________________________________________\n",
      "batch_normalization_3 (Batch (None, 13, 32)            128       \n",
      "_________________________________________________________________\n",
      "conv1d_5 (Conv1D)            (None, 4, 32)             10272     \n",
      "_________________________________________________________________\n",
      "max_pooling1d_2 (MaxPooling1 (None, 1, 32)             0         \n",
      "_________________________________________________________________\n",
      "batch_normalization_4 (Batch (None, 1, 32)             128       \n",
      "_________________________________________________________________\n",
      "dropout_2 (Dropout)          (None, 1, 32)             0         \n",
      "_________________________________________________________________\n",
      "flatten_1 (Flatten)          (None, 32)                0         \n",
      "_________________________________________________________________\n",
      "maxout_dense_1 (MaxoutDense) (None, 32)                12672     \n",
      "_________________________________________________________________\n",
      "batch_normalization_5 (Batch (None, 32)                128       \n",
      "_________________________________________________________________\n",
      "dropout_3 (Dropout)          (None, 32)                0         \n",
      "_________________________________________________________________\n",
      "maxout_dense_2 (MaxoutDense) (None, 32)                12672     \n",
      "_________________________________________________________________\n",
      "batch_normalization_6 (Batch (None, 32)                128       \n",
      "_________________________________________________________________\n",
      "dropout_4 (Dropout)          (None, 32)                0         \n",
      "_________________________________________________________________\n",
      "maxout_dense_3 (MaxoutDense) (None, 32)                12672     \n",
      "_________________________________________________________________\n",
      "batch_normalization_7 (Batch (None, 32)                128       \n",
      "_________________________________________________________________\n",
      "dropout_5 (Dropout)          (None, 32)                0         \n",
      "_________________________________________________________________\n",
      "dense_1 (Dense)              (None, 12)                396       \n",
      "=================================================================\n",
      "Total params: 183,660\n",
      "Trainable params: 183,148\n",
      "Non-trainable params: 512\n",
      "_________________________________________________________________\n"
     ]
    }
   ],
   "source": [
    "# Building the Convolutionals Model\n",
    "model = Sequential()\n",
    "\n",
    "# First convolutional layer, note the specification of shape\n",
    "model.add(Conv1D(64, kernel_size=10,\n",
    "                 padding='same',\n",
    "                 input_shape=(max_review_length, input_dim),\n",
    "                 activation='elu',\n",
    "                 strides=1))\n",
    "model.add(Conv1D(64, kernel_size=20, activation='elu'))\n",
    "model.add(BatchNormalization())\n",
    "model.add(Conv1D(32, kernel_size=15, activation='elu'))\n",
    "model.add(MaxPooling1D(pool_size=15,\n",
    "                       padding='same'))\n",
    "model.add(BatchNormalization())\n",
    "model.add(Dropout(0.25))\n",
    "model.add(Conv1D(32, kernel_size=20, activation='elu'))\n",
    "model.add(BatchNormalization())\n",
    "model.add(Conv1D(32, kernel_size=10, activation='elu'))\n",
    "model.add(MaxPooling1D(pool_size=25,\n",
    "                       padding='same'))\n",
    "model.add(BatchNormalization())\n",
    "model.add(Dropout(0.3))\n",
    "model.add(Flatten())\n",
    "model.add(MaxoutDense(32, nb_feature=12))\n",
    "model.add(BatchNormalization())\n",
    "model.add(Dropout(0.3))\n",
    "model.add(MaxoutDense(32, nb_feature=12))\n",
    "model.add(BatchNormalization())\n",
    "model.add(Dropout(0.5))\n",
    "model.add(MaxoutDense(32, nb_feature=12))\n",
    "model.add(BatchNormalization())\n",
    "model.add(Dropout(0.5))\n",
    "model.add(Dense(12, activation='softmax'))\n",
    "model.compile(loss=keras.losses.categorical_crossentropy,\n",
    "              optimizer=keras.optimizers.Adagrad(),\n",
    "              metrics=['accuracy'])\n",
    "\n",
    "model.summary()"
   ]
  },
  {
   "cell_type": "code",
   "execution_count": 8,
   "metadata": {},
   "outputs": [
    {
     "name": "stdout",
     "output_type": "stream",
     "text": [
      "Train on 81600 samples, validate on 20400 samples\n",
      "Epoch 1/1\n",
      "81600/81600 [==============================] - 2803s 34ms/step - loss: 2.2424 - accuracy: 0.1958 - val_loss: 2.7902 - val_accuracy: 0.1689\n",
      "Run time: 3333.61997077\n",
      "Test loss: 2.790151840471754\n",
      "Test accuracy: 0.16887255012989044\n"
     ]
    },
    {
     "ename": "ValueError",
     "evalue": "Classification metrics can't handle a mix of multilabel-indicator and continuous-multioutput targets",
     "output_type": "error",
     "traceback": [
      "\u001b[1;31m---------------------------------------------------------------------------\u001b[0m",
      "\u001b[1;31mValueError\u001b[0m                                Traceback (most recent call last)",
      "\u001b[1;32m<ipython-input-8-8a332b40b711>\u001b[0m in \u001b[0;36m<module>\u001b[1;34m\u001b[0m\n\u001b[0;32m     11\u001b[0m \u001b[0mprint\u001b[0m\u001b[1;33m(\u001b[0m\u001b[1;34m'Test loss:'\u001b[0m\u001b[1;33m,\u001b[0m \u001b[0mscore\u001b[0m\u001b[1;33m[\u001b[0m\u001b[1;36m0\u001b[0m\u001b[1;33m]\u001b[0m\u001b[1;33m)\u001b[0m\u001b[1;33m\u001b[0m\u001b[1;33m\u001b[0m\u001b[0m\n\u001b[0;32m     12\u001b[0m \u001b[0mprint\u001b[0m\u001b[1;33m(\u001b[0m\u001b[1;34m'Test accuracy:'\u001b[0m\u001b[1;33m,\u001b[0m \u001b[0mscore\u001b[0m\u001b[1;33m[\u001b[0m\u001b[1;36m1\u001b[0m\u001b[1;33m]\u001b[0m\u001b[1;33m)\u001b[0m\u001b[1;33m\u001b[0m\u001b[1;33m\u001b[0m\u001b[0m\n\u001b[1;32m---> 13\u001b[1;33m \u001b[0mprint\u001b[0m\u001b[1;33m(\u001b[0m\u001b[0mclassification_report\u001b[0m\u001b[1;33m(\u001b[0m\u001b[0my_test_CNN\u001b[0m\u001b[1;33m,\u001b[0m \u001b[0my_pred\u001b[0m\u001b[1;33m)\u001b[0m\u001b[1;33m)\u001b[0m\u001b[1;33m\u001b[0m\u001b[1;33m\u001b[0m\u001b[0m\n\u001b[0m",
      "\u001b[1;32mc:\\users\\fazel\\anaconda3\\envs\\tensorflow_env\\lib\\site-packages\\sklearn\\metrics\\_classification.py\u001b[0m in \u001b[0;36mclassification_report\u001b[1;34m(y_true, y_pred, labels, target_names, sample_weight, digits, output_dict, zero_division)\u001b[0m\n\u001b[0;32m   1969\u001b[0m     \"\"\"\n\u001b[0;32m   1970\u001b[0m \u001b[1;33m\u001b[0m\u001b[0m\n\u001b[1;32m-> 1971\u001b[1;33m     \u001b[0my_type\u001b[0m\u001b[1;33m,\u001b[0m \u001b[0my_true\u001b[0m\u001b[1;33m,\u001b[0m \u001b[0my_pred\u001b[0m \u001b[1;33m=\u001b[0m \u001b[0m_check_targets\u001b[0m\u001b[1;33m(\u001b[0m\u001b[0my_true\u001b[0m\u001b[1;33m,\u001b[0m \u001b[0my_pred\u001b[0m\u001b[1;33m)\u001b[0m\u001b[1;33m\u001b[0m\u001b[1;33m\u001b[0m\u001b[0m\n\u001b[0m\u001b[0;32m   1972\u001b[0m \u001b[1;33m\u001b[0m\u001b[0m\n\u001b[0;32m   1973\u001b[0m     \u001b[0mlabels_given\u001b[0m \u001b[1;33m=\u001b[0m \u001b[1;32mTrue\u001b[0m\u001b[1;33m\u001b[0m\u001b[1;33m\u001b[0m\u001b[0m\n",
      "\u001b[1;32mc:\\users\\fazel\\anaconda3\\envs\\tensorflow_env\\lib\\site-packages\\sklearn\\metrics\\_classification.py\u001b[0m in \u001b[0;36m_check_targets\u001b[1;34m(y_true, y_pred)\u001b[0m\n\u001b[0;32m     88\u001b[0m     \u001b[1;32mif\u001b[0m \u001b[0mlen\u001b[0m\u001b[1;33m(\u001b[0m\u001b[0my_type\u001b[0m\u001b[1;33m)\u001b[0m \u001b[1;33m>\u001b[0m \u001b[1;36m1\u001b[0m\u001b[1;33m:\u001b[0m\u001b[1;33m\u001b[0m\u001b[1;33m\u001b[0m\u001b[0m\n\u001b[0;32m     89\u001b[0m         raise ValueError(\"Classification metrics can't handle a mix of {0} \"\n\u001b[1;32m---> 90\u001b[1;33m                          \"and {1} targets\".format(type_true, type_pred))\n\u001b[0m\u001b[0;32m     91\u001b[0m \u001b[1;33m\u001b[0m\u001b[0m\n\u001b[0;32m     92\u001b[0m     \u001b[1;31m# We can't have more than one value on y_type => The set is no more needed\u001b[0m\u001b[1;33m\u001b[0m\u001b[1;33m\u001b[0m\u001b[1;33m\u001b[0m\u001b[0m\n",
      "\u001b[1;31mValueError\u001b[0m: Classification metrics can't handle a mix of multilabel-indicator and continuous-multioutput targets"
     ]
    }
   ],
   "source": [
    "start_time = perf_counter()\n",
    "model.fit(X_train_CNN_f, y_train_CNN,\n",
    "          batch_size=128,\n",
    "          epochs=1,\n",
    "          verbose=1,\n",
    "          validation_data=(X_test_CNN_f, y_test_CNN))\n",
    "score = model.evaluate(X_test_CNN_f, y_test_CNN, verbose=0)\n",
    "y_pred = model.predict(X_test_CNN_f)\n",
    "end_time = perf_counter()\n",
    "print('Run time:', end_time-start_time)\n",
    "print('Test loss:', score[0])\n",
    "print('Test accuracy:', score[1])\n",
    "print(classification_report(y_test_CNN, y_pred))"
   ]
  },
  {
   "cell_type": "code",
   "execution_count": 11,
   "metadata": {},
   "outputs": [],
   "source": [
    "y_pred = model.predict(X_test_CNN_f, batch_size = 1)"
   ]
  },
  {
   "cell_type": "code",
   "execution_count": 12,
   "metadata": {},
   "outputs": [
    {
     "data": {
      "text/plain": [
       "array([[0.01009184, 0.01315701, 0.01151794, ..., 0.10148203, 0.10658377,\n",
       "        0.10973912],\n",
       "       [0.00541497, 0.0069178 , 0.00577963, ..., 0.10794671, 0.11704832,\n",
       "        0.13533331],\n",
       "       [0.00609765, 0.00956692, 0.00775316, ..., 0.07046226, 0.0798982 ,\n",
       "        0.08832941],\n",
       "       ...,\n",
       "       [0.00620689, 0.00388336, 0.00328354, ..., 0.169771  , 0.15770696,\n",
       "        0.25342843],\n",
       "       [0.00753186, 0.00519443, 0.00431069, ..., 0.16615346, 0.14998426,\n",
       "        0.25681087],\n",
       "       [0.00691479, 0.00428011, 0.00345927, ..., 0.16336171, 0.1516341 ,\n",
       "        0.2726189 ]], dtype=float32)"
      ]
     },
     "execution_count": 12,
     "metadata": {},
     "output_type": "execute_result"
    }
   ],
   "source": [
    "y_pred"
   ]
  },
  {
   "cell_type": "code",
   "execution_count": 10,
   "metadata": {},
   "outputs": [
    {
     "data": {
      "text/plain": [
       "array([[0., 1., 0., ..., 0., 0., 0.],\n",
       "       [0., 1., 0., ..., 0., 0., 0.],\n",
       "       [0., 0., 1., ..., 0., 0., 0.],\n",
       "       ...,\n",
       "       [0., 0., 0., ..., 1., 0., 0.],\n",
       "       [0., 0., 0., ..., 0., 0., 0.],\n",
       "       [0., 0., 0., ..., 1., 0., 0.]], dtype=float32)"
      ]
     },
     "execution_count": 10,
     "metadata": {},
     "output_type": "execute_result"
    }
   ],
   "source": [
    "y_test_CNN"
   ]
  },
  {
   "cell_type": "code",
   "execution_count": null,
   "metadata": {},
   "outputs": [],
   "source": []
  },
  {
   "cell_type": "code",
   "execution_count": null,
   "metadata": {},
   "outputs": [],
   "source": []
  },
  {
   "cell_type": "code",
   "execution_count": null,
   "metadata": {},
   "outputs": [],
   "source": []
  },
  {
   "cell_type": "code",
   "execution_count": 19,
   "metadata": {},
   "outputs": [
    {
     "name": "stderr",
     "output_type": "stream",
     "text": [
      "c:\\users\\fazel\\anaconda3\\envs\\tensorflow_env\\lib\\site-packages\\keras\\legacy\\layers.py:74: UserWarning: The `MaxoutDense` layer is deprecated and will be removed after 06/2017.\n",
      "  warnings.warn('The `MaxoutDense` layer is deprecated '\n"
     ]
    },
    {
     "name": "stdout",
     "output_type": "stream",
     "text": [
      "Model: \"sequential_1\"\n",
      "_________________________________________________________________\n",
      "Layer (type)                 Output Shape              Param #   \n",
      "=================================================================\n",
      "conv1d_1 (Conv1D)            (None, 500, 64)           704       \n",
      "_________________________________________________________________\n",
      "conv1d_2 (Conv1D)            (None, 481, 64)           81984     \n",
      "_________________________________________________________________\n",
      "batch_normalization_1 (Batch (None, 481, 64)           256       \n",
      "_________________________________________________________________\n",
      "conv1d_3 (Conv1D)            (None, 467, 32)           30752     \n",
      "_________________________________________________________________\n",
      "max_pooling1d_1 (MaxPooling1 (None, 32, 32)            0         \n",
      "_________________________________________________________________\n",
      "batch_normalization_2 (Batch (None, 32, 32)            128       \n",
      "_________________________________________________________________\n",
      "dropout_1 (Dropout)          (None, 32, 32)            0         \n",
      "_________________________________________________________________\n",
      "conv1d_4 (Conv1D)            (None, 13, 32)            20512     \n",
      "_________________________________________________________________\n",
      "batch_normalization_3 (Batch (None, 13, 32)            128       \n",
      "_________________________________________________________________\n",
      "conv1d_5 (Conv1D)            (None, 4, 32)             10272     \n",
      "_________________________________________________________________\n",
      "max_pooling1d_2 (MaxPooling1 (None, 1, 32)             0         \n",
      "_________________________________________________________________\n",
      "batch_normalization_4 (Batch (None, 1, 32)             128       \n",
      "_________________________________________________________________\n",
      "dropout_2 (Dropout)          (None, 1, 32)             0         \n",
      "_________________________________________________________________\n",
      "flatten_1 (Flatten)          (None, 32)                0         \n",
      "_________________________________________________________________\n",
      "maxout_dense_1 (MaxoutDense) (None, 32)                12672     \n",
      "_________________________________________________________________\n",
      "batch_normalization_5 (Batch (None, 32)                128       \n",
      "_________________________________________________________________\n",
      "dropout_3 (Dropout)          (None, 32)                0         \n",
      "_________________________________________________________________\n",
      "maxout_dense_2 (MaxoutDense) (None, 32)                12672     \n",
      "_________________________________________________________________\n",
      "batch_normalization_6 (Batch (None, 32)                128       \n",
      "_________________________________________________________________\n",
      "dropout_4 (Dropout)          (None, 32)                0         \n",
      "_________________________________________________________________\n",
      "maxout_dense_3 (MaxoutDense) (None, 32)                12672     \n",
      "_________________________________________________________________\n",
      "batch_normalization_7 (Batch (None, 32)                128       \n",
      "_________________________________________________________________\n",
      "dropout_5 (Dropout)          (None, 32)                0         \n",
      "_________________________________________________________________\n",
      "dense_1 (Dense)              (None, 12)                396       \n",
      "=================================================================\n",
      "Total params: 183,660\n",
      "Trainable params: 183,148\n",
      "Non-trainable params: 512\n",
      "_________________________________________________________________\n"
     ]
    }
   ],
   "source": [
    "# Building the Convolutionals Model\n",
    "model = Sequential()\n",
    "\n",
    "# Set up some parameters\n",
    "input_dim = 1\n",
    "\n",
    "# Convert X_train and X_test to numpy array and check lenths to be equal\n",
    "max_review_length = 500 \n",
    "X_train_CNN_f = sequence.pad_sequences(X_train_CNN, maxlen=max_review_length) \n",
    "X_test_CNN_f = sequence.pad_sequences(X_test_CNN, maxlen=max_review_length)\n",
    "\n",
    "\n",
    "# First convolutional layer\n",
    "model.add(Conv1D(64, kernel_size=10,\n",
    "                 padding='same',\n",
    "                 input_shape=(max_review_length, input_dim),\n",
    "                 activation='elu',\n",
    "                 strides=1))\n",
    "model.add(Conv1D(64, kernel_size=20, activation='elu'))\n",
    "model.add(BatchNormalization())\n",
    "model.add(Conv1D(32, kernel_size=15, activation='elu'))\n",
    "model.add(MaxPooling1D(pool_size=15,\n",
    "                       padding='same'))\n",
    "model.add(BatchNormalization())\n",
    "model.add(Dropout(0.25))\n",
    "model.add(Conv1D(32, kernel_size=20, activation='elu'))\n",
    "model.add(BatchNormalization())\n",
    "model.add(Conv1D(32, kernel_size=10, activation='elu'))\n",
    "model.add(MaxPooling1D(pool_size=25,\n",
    "                       padding='same'))\n",
    "model.add(BatchNormalization())\n",
    "model.add(Dropout(0.3))\n",
    "model.add(Flatten())\n",
    "model.add(MaxoutDense(32, nb_feature=12))\n",
    "model.add(BatchNormalization())\n",
    "model.add(Dropout(0.3))\n",
    "model.add(MaxoutDense(32, nb_feature=12))\n",
    "model.add(BatchNormalization())\n",
    "model.add(Dropout(0.5))\n",
    "model.add(MaxoutDense(32, nb_feature=12))\n",
    "model.add(BatchNormalization())\n",
    "model.add(Dropout(0.5))\n",
    "model.add(Dense(12, activation='softmax'))\n",
    "model.compile(loss=keras.losses.categorical_crossentropy,\n",
    "              optimizer=keras.optimizers.Adagrad(),\n",
    "              metrics=['accuracy'])\n",
    "\n",
    "model.summary()"
   ]
  },
  {
   "cell_type": "code",
   "execution_count": 22,
   "metadata": {},
   "outputs": [
    {
     "name": "stdout",
     "output_type": "stream",
     "text": [
      "Train on 81600 samples, validate on 20400 samples\n",
      "Epoch 1/10\n",
      "81600/81600 [==============================] - 2645s 32ms/step - loss: 2.2692 - accuracy: 0.1883 - val_loss: 2.3205 - val_accuracy: 0.1618\n",
      "Epoch 2/10\n",
      "81600/81600 [==============================] - 2707s 33ms/step - loss: 1.7325 - accuracy: 0.3246 - val_loss: 2.8843 - val_accuracy: 0.0824\n",
      "Epoch 3/10\n",
      "81600/81600 [==============================] - 2748s 34ms/step - loss: 1.5324 - accuracy: 0.3749 - val_loss: 3.8847 - val_accuracy: 0.0943\n",
      "Epoch 4/10\n",
      "81600/81600 [==============================] - 2748s 34ms/step - loss: 1.4493 - accuracy: 0.3911 - val_loss: 7.7605 - val_accuracy: 0.1278\n",
      "Epoch 5/10\n",
      "81600/81600 [==============================] - 2749s 34ms/step - loss: 1.4055 - accuracy: 0.3984 - val_loss: 11.2341 - val_accuracy: 0.1290\n",
      "Epoch 6/10\n",
      "81600/81600 [==============================] - 2750s 34ms/step - loss: 1.3740 - accuracy: 0.4047 - val_loss: 13.3941 - val_accuracy: 0.1289\n",
      "Epoch 7/10\n",
      "81600/81600 [==============================] - 2753s 34ms/step - loss: 1.3560 - accuracy: 0.4042 - val_loss: 6.9614 - val_accuracy: 0.1297\n",
      "Epoch 8/10\n",
      "81600/81600 [==============================] - 2745s 34ms/step - loss: 1.3418 - accuracy: 0.4050 - val_loss: 6.7044 - val_accuracy: 0.1370\n",
      "Epoch 9/10\n",
      "81600/81600 [==============================] - 2748s 34ms/step - loss: 1.3300 - accuracy: 0.4092 - val_loss: 11.4717 - val_accuracy: 0.1302\n",
      "Epoch 10/10\n",
      "81600/81600 [==============================] - 2750s 34ms/step - loss: 1.3223 - accuracy: 0.4072 - val_loss: 19.6742 - val_accuracy: 0.1297\n",
      "Test loss: 19.67419980217429\n",
      "Test accuracy: 0.1296568661928177\n"
     ]
    }
   ],
   "source": [
    "model.fit(X_train_CNN_f, y_train_CNN,\n",
    "          batch_size=1250,\n",
    "          epochs=10,\n",
    "          verbose=1,\n",
    "          validation_data=(X_test_CNN_f, y_test_CNN))\n",
    "\n",
    "score = model.evaluate(X_test_CNN_f, y_test_CNN, verbose=0)\n",
    "print('Test loss:', score[0])\n",
    "print('Test accuracy:', score[1])"
   ]
  },
  {
   "cell_type": "markdown",
   "metadata": {},
   "source": []
  },
  {
   "cell_type": "markdown",
   "metadata": {},
   "source": [
    "### PCA Featuring"
   ]
  },
  {
   "cell_type": "code",
   "execution_count": 24,
   "metadata": {},
   "outputs": [],
   "source": [
    "# Obtain the optimal amount of components\n",
    "pca = PCA(n_components=0.85)\n",
    "\n",
    "# Fit the standarized data into it.\n",
    "X_pca = pca.fit_transform(X_stand)\n",
    "\n",
    "# Create a new training and testing set specifically for PCA modeling.\n",
    "X_train_pca, X_test_pca, y_train_pca, y_test_pca = train_test_split( X_pca, y, test_size = 0.20, random_state = 1 )"
   ]
  },
  {
   "cell_type": "code",
   "execution_count": 26,
   "metadata": {},
   "outputs": [],
   "source": [
    "# Modify the dimension input and target variables for Conv1d\n",
    "X_train_CNN = np.expand_dims(X_train_pca, axis=2)\n",
    "X_test_CNN = np.expand_dims(X_test_pca, axis=2)\n",
    "\n",
    "# Encode y into 12 different vectors for CNN because of our 12 age groups\n",
    "y_train_CNN = np_utils.to_categorical(y_train_pca, 12)\n",
    "y_test_CNN = np_utils.to_categorical(y_test_pca, 12)"
   ]
  },
  {
   "cell_type": "code",
   "execution_count": 27,
   "metadata": {},
   "outputs": [
    {
     "name": "stderr",
     "output_type": "stream",
     "text": [
      "c:\\users\\fazel\\anaconda3\\envs\\tensorflow_env\\lib\\site-packages\\keras\\legacy\\layers.py:74: UserWarning: The `MaxoutDense` layer is deprecated and will be removed after 06/2017.\n",
      "  warnings.warn('The `MaxoutDense` layer is deprecated '\n"
     ]
    },
    {
     "name": "stdout",
     "output_type": "stream",
     "text": [
      "Model: \"sequential_2\"\n",
      "_________________________________________________________________\n",
      "Layer (type)                 Output Shape              Param #   \n",
      "=================================================================\n",
      "conv1d_6 (Conv1D)            (None, 500, 64)           704       \n",
      "_________________________________________________________________\n",
      "conv1d_7 (Conv1D)            (None, 481, 64)           81984     \n",
      "_________________________________________________________________\n",
      "batch_normalization_8 (Batch (None, 481, 64)           256       \n",
      "_________________________________________________________________\n",
      "conv1d_8 (Conv1D)            (None, 467, 32)           30752     \n",
      "_________________________________________________________________\n",
      "max_pooling1d_3 (MaxPooling1 (None, 32, 32)            0         \n",
      "_________________________________________________________________\n",
      "batch_normalization_9 (Batch (None, 32, 32)            128       \n",
      "_________________________________________________________________\n",
      "dropout_6 (Dropout)          (None, 32, 32)            0         \n",
      "_________________________________________________________________\n",
      "conv1d_9 (Conv1D)            (None, 13, 32)            20512     \n",
      "_________________________________________________________________\n",
      "batch_normalization_10 (Batc (None, 13, 32)            128       \n",
      "_________________________________________________________________\n",
      "conv1d_10 (Conv1D)           (None, 4, 32)             10272     \n",
      "_________________________________________________________________\n",
      "max_pooling1d_4 (MaxPooling1 (None, 1, 32)             0         \n",
      "_________________________________________________________________\n",
      "batch_normalization_11 (Batc (None, 1, 32)             128       \n",
      "_________________________________________________________________\n",
      "dropout_7 (Dropout)          (None, 1, 32)             0         \n",
      "_________________________________________________________________\n",
      "flatten_2 (Flatten)          (None, 32)                0         \n",
      "_________________________________________________________________\n",
      "maxout_dense_4 (MaxoutDense) (None, 32)                12672     \n",
      "_________________________________________________________________\n",
      "batch_normalization_12 (Batc (None, 32)                128       \n",
      "_________________________________________________________________\n",
      "dropout_8 (Dropout)          (None, 32)                0         \n",
      "_________________________________________________________________\n",
      "maxout_dense_5 (MaxoutDense) (None, 32)                12672     \n",
      "_________________________________________________________________\n",
      "batch_normalization_13 (Batc (None, 32)                128       \n",
      "_________________________________________________________________\n",
      "dropout_9 (Dropout)          (None, 32)                0         \n",
      "_________________________________________________________________\n",
      "maxout_dense_6 (MaxoutDense) (None, 32)                12672     \n",
      "_________________________________________________________________\n",
      "batch_normalization_14 (Batc (None, 32)                128       \n",
      "_________________________________________________________________\n",
      "dropout_10 (Dropout)         (None, 32)                0         \n",
      "_________________________________________________________________\n",
      "dense_2 (Dense)              (None, 12)                396       \n",
      "=================================================================\n",
      "Total params: 183,660\n",
      "Trainable params: 183,148\n",
      "Non-trainable params: 512\n",
      "_________________________________________________________________\n"
     ]
    }
   ],
   "source": [
    "# Building the Convolutionals Model\n",
    "model = Sequential()\n",
    "\n",
    "# Set up some parameters\n",
    "input_dim = 1\n",
    "\n",
    "# Convert X_train and X_test to numpy array and check lenths to be equal\n",
    "max_review_length = 500 \n",
    "X_train_CNN_f = sequence.pad_sequences(X_train_CNN, maxlen=max_review_length) \n",
    "X_test_CNN_f = sequence.pad_sequences(X_test_CNN, maxlen=max_review_length)\n",
    "\n",
    "\n",
    "# First convolutional layer\n",
    "model.add(Conv1D(64, kernel_size=10,\n",
    "                 padding='same',\n",
    "                 input_shape=(max_review_length, input_dim),\n",
    "                 activation='elu',\n",
    "                 strides=1))\n",
    "model.add(Conv1D(64, kernel_size=20, activation='elu'))\n",
    "model.add(BatchNormalization())\n",
    "model.add(Conv1D(32, kernel_size=15, activation='elu'))\n",
    "model.add(MaxPooling1D(pool_size=15,\n",
    "                       padding='same'))\n",
    "model.add(BatchNormalization())\n",
    "model.add(Dropout(0.25))\n",
    "model.add(Conv1D(32, kernel_size=20, activation='elu'))\n",
    "model.add(BatchNormalization())\n",
    "model.add(Conv1D(32, kernel_size=10, activation='elu'))\n",
    "model.add(MaxPooling1D(pool_size=25,\n",
    "                       padding='same'))\n",
    "model.add(BatchNormalization())\n",
    "model.add(Dropout(0.3))\n",
    "model.add(Flatten())\n",
    "model.add(MaxoutDense(32, nb_feature=12))\n",
    "model.add(BatchNormalization())\n",
    "model.add(Dropout(0.3))\n",
    "model.add(MaxoutDense(32, nb_feature=12))\n",
    "model.add(BatchNormalization())\n",
    "model.add(Dropout(0.5))\n",
    "model.add(MaxoutDense(32, nb_feature=12))\n",
    "model.add(BatchNormalization())\n",
    "model.add(Dropout(0.5))\n",
    "model.add(Dense(12, activation='softmax'))\n",
    "model.compile(loss=keras.losses.categorical_crossentropy,\n",
    "              optimizer=keras.optimizers.Adagrad(),\n",
    "              metrics=['accuracy'])\n",
    "\n",
    "model.summary()"
   ]
  },
  {
   "cell_type": "code",
   "execution_count": 28,
   "metadata": {
    "scrolled": false
   },
   "outputs": [
    {
     "name": "stdout",
     "output_type": "stream",
     "text": [
      "Train on 81600 samples, validate on 20400 samples\n",
      "Epoch 1/10\n",
      "81600/81600 [==============================] - 2863s 35ms/step - loss: 2.6156 - accuracy: 0.0839 - val_loss: 2.4971 - val_accuracy: 0.0820\n",
      "Epoch 2/10\n",
      "81600/81600 [==============================] - 2612s 32ms/step - loss: 2.5691 - accuracy: 0.0857 - val_loss: 2.4881 - val_accuracy: 0.0925\n",
      "Epoch 3/10\n",
      "81600/81600 [==============================] - 2612s 32ms/step - loss: 2.5683 - accuracy: 0.0848 - val_loss: 2.4878 - val_accuracy: 0.0947\n",
      "Epoch 4/10\n",
      "81600/81600 [==============================] - 2600s 32ms/step - loss: 2.5532 - accuracy: 0.0863 - val_loss: 2.4883 - val_accuracy: 0.0892\n",
      "Epoch 5/10\n",
      "81600/81600 [==============================] - 2607s 32ms/step - loss: 2.5505 - accuracy: 0.0844 - val_loss: 2.4887 - val_accuracy: 0.0932\n",
      "Epoch 6/10\n",
      "81600/81600 [==============================] - 2615s 32ms/step - loss: 2.5448 - accuracy: 0.0862 - val_loss: 2.4871 - val_accuracy: 0.0898\n",
      "Epoch 7/10\n",
      "81600/81600 [==============================] - 2606s 32ms/step - loss: 2.5393 - accuracy: 0.0883 - val_loss: 2.4921 - val_accuracy: 0.0963\n",
      "Epoch 8/10\n",
      "81600/81600 [==============================] - 2604s 32ms/step - loss: 2.5352 - accuracy: 0.0901 - val_loss: 2.4915 - val_accuracy: 0.0955\n",
      "Epoch 9/10\n",
      "81600/81600 [==============================] - 2601s 32ms/step - loss: 2.5349 - accuracy: 0.0909 - val_loss: 2.4880 - val_accuracy: 0.0977\n",
      "Epoch 10/10\n",
      "81600/81600 [==============================] - 2604s 32ms/step - loss: 2.5321 - accuracy: 0.0921 - val_loss: 2.4853 - val_accuracy: 0.1048\n",
      "Test loss: 2.4853290782255284\n",
      "Test accuracy: 0.10475490242242813\n"
     ]
    }
   ],
   "source": [
    "model.fit(X_train_CNN_f, y_train_CNN,\n",
    "          batch_size=1250,\n",
    "          epochs=10,\n",
    "          verbose=1,\n",
    "          validation_data=(X_test_CNN_f, y_test_CNN))\n",
    "\n",
    "score = model.evaluate(X_test_CNN_f, y_test_CNN, verbose=0)\n",
    "print('Test loss:', score[0])\n",
    "print('Test accuracy:', score[1])"
   ]
  },
  {
   "cell_type": "markdown",
   "metadata": {},
   "source": []
  },
  {
   "cell_type": "code",
   "execution_count": null,
   "metadata": {},
   "outputs": [],
   "source": []
  }
 ],
 "metadata": {
  "kernelspec": {
   "display_name": "Python 3",
   "language": "python",
   "name": "python3"
  },
  "language_info": {
   "codemirror_mode": {
    "name": "ipython",
    "version": 3
   },
   "file_extension": ".py",
   "mimetype": "text/x-python",
   "name": "python",
   "nbconvert_exporter": "python",
   "pygments_lexer": "ipython3",
   "version": "3.7.6"
  }
 },
 "nbformat": 4,
 "nbformat_minor": 4
}
